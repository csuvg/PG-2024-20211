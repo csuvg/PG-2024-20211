{
 "cells": [
  {
   "cell_type": "code",
   "execution_count": null,
   "metadata": {
    "id": "owRuekzRbxf0"
   },
   "outputs": [],
   "source": [
    "from google.colab import drive\n",
    "drive.mount('/content/drive')"
   ]
  },
  {
   "cell_type": "code",
   "execution_count": null,
   "metadata": {
    "id": "9A7jSE6Fdus4"
   },
   "outputs": [],
   "source": [
    "file_path = '/content/drive/My Drive/ProyectoTesis/AllFeatureData.pkl'\n"
   ]
  },
  {
   "cell_type": "code",
   "execution_count": null,
   "metadata": {
    "id": "xuv1dWDQexSy"
   },
   "outputs": [],
   "source": [
    "import pandas as pd\n",
    "import tensorflow as tf\n",
    "import numpy as np"
   ]
  },
  {
   "cell_type": "code",
   "execution_count": null,
   "metadata": {
    "id": "P3biqaKlevgD"
   },
   "outputs": [],
   "source": [
    "allData = pd.read_pickle(file_path)"
   ]
  },
  {
   "cell_type": "code",
   "execution_count": null,
   "metadata": {
    "id": "p7XcpTm9iv3n"
   },
   "outputs": [],
   "source": [
    "featureData = allData.copy()"
   ]
  },
  {
   "cell_type": "code",
   "execution_count": null,
   "metadata": {
    "id": "sGOVx0igp224"
   },
   "outputs": [],
   "source": [
    "featureData"
   ]
  },
  {
   "cell_type": "code",
   "execution_count": null,
   "metadata": {
    "id": "PF_q2Zdbivov"
   },
   "outputs": [],
   "source": [
    "features = allData.columns[:-1]\n",
    "features"
   ]
  },
  {
   "cell_type": "code",
   "execution_count": null,
   "metadata": {
    "id": "NsfizShRUFB_"
   },
   "outputs": [],
   "source": []
  },
  {
   "cell_type": "code",
   "execution_count": null,
   "metadata": {
    "id": "9kov12Slobdm"
   },
   "outputs": [],
   "source": [
    "for feature in features:\n",
    "  featureData[feature] = featureData[feature].apply(lambda x: np.mean(x))\n",
    "\n",
    "featureData.head()"
   ]
  },
  {
   "cell_type": "code",
   "execution_count": null,
   "metadata": {
    "id": "yFLazG1dqP4l"
   },
   "outputs": [],
   "source": [
    "import pickle as pkl"
   ]
  },
  {
   "cell_type": "code",
   "execution_count": null,
   "metadata": {
    "id": "uE0PdajYqWGR"
   },
   "outputs": [],
   "source": [
    "''' path = '/content/drive/My Drive/ProyectoTesis/MeanDataNoFilter.pkl' '''"
   ]
  },
  {
   "cell_type": "code",
   "execution_count": null,
   "metadata": {
    "id": "FHm61X2sqaRW"
   },
   "outputs": [],
   "source": [
    "''' # Save the object to a file\n",
    "with open(path, 'wb') as file:  # Open the file in write-binary mode\n",
    "    pkl.dump(featureData, file) '''"
   ]
  },
  {
   "cell_type": "markdown",
   "metadata": {
    "id": "1GWGvLDTk-o_"
   },
   "source": [
    "# Autogluon"
   ]
  },
  {
   "cell_type": "code",
   "execution_count": null,
   "metadata": {
    "id": "y75Cg-JClHeb"
   },
   "outputs": [],
   "source": [
    "%pip install autogluon.tabular"
   ]
  },
  {
   "cell_type": "code",
   "execution_count": null,
   "metadata": {
    "id": "C1-3wLWMlDJB"
   },
   "outputs": [],
   "source": [
    "from autogluon.tabular import TabularPredictor\n"
   ]
  },
  {
   "cell_type": "code",
   "execution_count": null,
   "metadata": {
    "id": "83nobYgXljCG"
   },
   "outputs": [],
   "source": [
    "path_to_predictor = \"/content/drive/My Drive/ProyectoTesis/Autogluon/Models\""
   ]
  },
  {
   "cell_type": "code",
   "execution_count": null,
   "metadata": {
    "id": "vahtxILDlWGg"
   },
   "outputs": [],
   "source": [
    "#predictor = TabularPredictor.load(path_to_predictor)\n"
   ]
  },
  {
   "cell_type": "code",
   "execution_count": null,
   "metadata": {
    "id": "8V-p889Kmd0y"
   },
   "outputs": [],
   "source": [
    "from sklearn.model_selection import train_test_split\n",
    "from sklearn.preprocessing import LabelEncoder, StandardScaler\n",
    "from sklearn.svm import SVC\n",
    "from sklearn.metrics import classification_report, confusion_matrix"
   ]
  },
  {
   "cell_type": "code",
   "execution_count": null,
   "metadata": {
    "id": "6HCKWlken4QP"
   },
   "outputs": [],
   "source": [
    "data = featureData.copy()"
   ]
  },
  {
   "cell_type": "code",
   "execution_count": null,
   "metadata": {
    "id": "bc05LfK0n9AW"
   },
   "outputs": [],
   "source": [
    "data.head()"
   ]
  },
  {
   "cell_type": "code",
   "execution_count": null,
   "metadata": {
    "id": "fXEUUZpamggG"
   },
   "outputs": [],
   "source": [
    "X = data.drop('Label', axis=1)\n",
    "y = data['Label']"
   ]
  },
  {
   "cell_type": "code",
   "execution_count": null,
   "metadata": {
    "id": "Xm4JyJwPmoGb"
   },
   "outputs": [],
   "source": [
    "label_encoder = LabelEncoder()\n",
    "y_encoded = label_encoder.fit_transform(y)"
   ]
  },
  {
   "cell_type": "code",
   "execution_count": null,
   "metadata": {
    "id": "Bk2f5SA-mppk"
   },
   "outputs": [],
   "source": [
    "data['Label'] = y_encoded"
   ]
  },
  {
   "cell_type": "code",
   "execution_count": null,
   "metadata": {
    "id": "jIH8sBUyqfPH"
   },
   "outputs": [],
   "source": [
    "data.head()"
   ]
  },
  {
   "cell_type": "code",
   "execution_count": null,
   "metadata": {
    "id": "dclIl6WKmsMW"
   },
   "outputs": [],
   "source": [
    "scaler = StandardScaler()\n",
    "X_scaled = scaler.fit_transform(X)"
   ]
  },
  {
   "cell_type": "code",
   "execution_count": null,
   "metadata": {
    "id": "93YFB5k_m90L"
   },
   "outputs": [],
   "source": [
    "for i in range(len(features)):\n",
    "  data[features[i]] = X_scaled.T[i]"
   ]
  },
  {
   "cell_type": "code",
   "execution_count": null,
   "metadata": {
    "id": "2dyxSFFtEPNX"
   },
   "outputs": [],
   "source": [
    "allData.head()"
   ]
  },
  {
   "cell_type": "code",
   "execution_count": null,
   "metadata": {
    "id": "7ECOa5k2NYbO"
   },
   "outputs": [],
   "source": [
    "import pickle as pkl\n",
    "with open('/content/drive/My Drive/ProyectoTesis/Scaler.pkl', 'wb') as file:\n",
    "  pkl.dump(scaler, file)"
   ]
  },
  {
   "cell_type": "code",
   "execution_count": null,
   "metadata": {
    "id": "fkHQUyLpqwlQ"
   },
   "outputs": [],
   "source": [
    "data.head()"
   ]
  },
  {
   "cell_type": "code",
   "execution_count": null,
   "metadata": {
    "id": "-fQfjxFqq6bX"
   },
   "outputs": [],
   "source": [
    "train_data, test_data = train_test_split(data, test_size=0.2, random_state=42, stratify=y)"
   ]
  },
  {
   "cell_type": "markdown",
   "metadata": {
    "id": "E7iY1PwJoksJ"
   },
   "source": [
    "## Hasta Aqui llega Cargar Datos"
   ]
  },
  {
   "cell_type": "code",
   "execution_count": null,
   "metadata": {
    "id": "SDtIzmOUpwXX"
   },
   "outputs": [],
   "source": [
    "from autogluon.tabular import TabularPredictor"
   ]
  },
  {
   "cell_type": "code",
   "execution_count": null,
   "metadata": {
    "id": "fDHritnnCFAG"
   },
   "outputs": [],
   "source": [
    "path=\"/content/drive/My Drive/ProyectoTesis/Autogluon/Modelos2\""
   ]
  },
  {
   "cell_type": "code",
   "execution_count": null,
   "metadata": {
    "id": "2YRU_IEWq9Pu"
   },
   "outputs": [],
   "source": [
    "\n",
    "label = 'Label'\n",
    "\n",
    "predictor = TabularPredictor(label=label, problem_type='binary', path=\"/content/drive/My Drive/ProyectoTesis/Autogluon/Modelos3\", verbosity=2, eval_metric='f1_weighted', log_to_file=True)"
   ]
  },
  {
   "cell_type": "code",
   "execution_count": null,
   "metadata": {
    "id": "nKHspSZIvGK4"
   },
   "outputs": [],
   "source": [
    "predictor.fit(\n",
    "    train_data=train_data,\n",
    "    time_limit=5400, \n",
    "    ag_args_fit={'use_gpu': True},\n",
    "    excluded_model_types=['NN_TORCH', 'FASTAI'],\n",
    "    dynamic_stacking=False,\n",
    "\n",
    ")"
   ]
  },
  {
   "cell_type": "markdown",
   "metadata": {
    "id": "hU5FD6_Eoo-A"
   },
   "source": [
    "## Cargar predictor"
   ]
  },
  {
   "cell_type": "code",
   "execution_count": null,
   "metadata": {
    "id": "KnUyXtOHGbWn"
   },
   "outputs": [],
   "source": [
    "predictor = TabularPredictor.load(path)"
   ]
  },
  {
   "cell_type": "code",
   "execution_count": null,
   "metadata": {
    "id": "9d_b5m0TUTig"
   },
   "outputs": [],
   "source": [
    "feature_importance = predictor.feature_importance(data=test_data)\n",
    "print(feature_importance)"
   ]
  },
  {
   "cell_type": "code",
   "execution_count": null,
   "metadata": {
    "id": "bp4Mw_OKYxpT"
   },
   "outputs": [],
   "source": [
    "importance_df = pd.DataFrame({'feature': feature_importance.index, 'importance': feature_importance['importance']})"
   ]
  },
  {
   "cell_type": "code",
   "execution_count": null,
   "metadata": {
    "id": "_83agW7qYEsO"
   },
   "outputs": [],
   "source": [
    "importance_df = importance_df.sort_values(by='importance', ascending=False)\n",
    "\n",
    "colors = sns.color_palette(\"rocket\", 3)\n",
    "import matplotlib.pyplot as plt\n",
    "import seaborn as sns\n",
    "\n",
    "plt.figure(figsize=(10, 6))\n",
    "sns.barplot(x='importance', y='feature', data=importance_df, color=colors[2])\n",
    "plt.title('')\n",
    "plt.xlabel('Importancia de la característica')\n",
    "plt.ylabel('Características')\n",
    "plt.show()"
   ]
  },
  {
   "cell_type": "code",
   "execution_count": null,
   "metadata": {
    "id": "F7zlsrTQGgxE"
   },
   "outputs": [],
   "source": [
    "predictor.evaluate(test_data, detailed_report=True)"
   ]
  },
  {
   "cell_type": "code",
   "execution_count": null,
   "metadata": {
    "id": "awL77tGQS11l"
   },
   "outputs": [],
   "source": [
    "predictor.leaderboard()"
   ]
  },
  {
   "cell_type": "code",
   "execution_count": null,
   "metadata": {
    "id": "QPxlT1vRInwh"
   },
   "outputs": [],
   "source": [
    "predictor.model_names()"
   ]
  },
  {
   "cell_type": "code",
   "execution_count": null,
   "metadata": {
    "id": "2Ws36Q8ut0ok"
   },
   "outputs": [],
   "source": [
    "for model_name in predictor.leaderboard()['model']:\n",
    "    model = predictor._trainer.load_model(model_name)\n",
    "    print(f\"Model: {model_name}\")\n",
    "    print(model.params)\n",
    "    print(\"-\" * 60)\n"
   ]
  },
  {
   "cell_type": "code",
   "execution_count": null,
   "metadata": {
    "id": "c2ob8g27vZHq"
   },
   "outputs": [],
   "source": [
    "models = {model_name: predictor._trainer.load_model(model_name) for model_name in predictor.model_names() }"
   ]
  },
  {
   "cell_type": "code",
   "execution_count": null,
   "metadata": {
    "id": "kniyEwAxwBFC"
   },
   "outputs": [],
   "source": [
    "models"
   ]
  },
  {
   "cell_type": "code",
   "execution_count": null,
   "metadata": {
    "id": "XrAKnTYK69VQ"
   },
   "outputs": [],
   "source": [
    "leaderboard = predictor.leaderboard(test_data, extra_metrics=['f1_weighted', 'recall', 'precision', ''])\n",
    "print(leaderboard.columns)"
   ]
  },
  {
   "cell_type": "code",
   "execution_count": null,
   "metadata": {
    "id": "Grn-eNYz-rot"
   },
   "outputs": [],
   "source": [
    "leaderboard_df = leaderboard"
   ]
  },
  {
   "cell_type": "code",
   "execution_count": null,
   "metadata": {
    "id": "q64qikR1OgYQ"
   },
   "outputs": [],
   "source": [
    "leaderboard_df"
   ]
  },
  {
   "cell_type": "code",
   "execution_count": null,
   "metadata": {
    "id": "L6zDeiC74wBn"
   },
   "outputs": [],
   "source": [
    "X_test = test_data.drop(\"Label\", axis=1)\n",
    "y_test = test_data[\"Label\"]"
   ]
  },
  {
   "cell_type": "code",
   "execution_count": null,
   "metadata": {
    "id": "bMRCNwHs4T0O"
   },
   "outputs": [],
   "source": [
    "def GetConfusionMatrix(model_name, test_data=X_test, real_data=y_test):\n",
    "  from sklearn.metrics import confusion_matrix\n",
    "  y_pred = predictor.predict(test_data, model=model_name)\n",
    "  conf_matrix = confusion_matrix(real_data, y_pred)\n",
    "  return conf_matrix\n"
   ]
  },
  {
   "cell_type": "code",
   "execution_count": null,
   "metadata": {
    "id": "k6Gxbz-xXKNJ"
   },
   "outputs": [],
   "source": [
    "def GetConfusionMatrix2(model_name, model, indexes):\n",
    "  from sklearn.metrics import confusion_matrix\n",
    "  test_data = allData[]\n",
    "  y_pred = model.predict(test_data)\n",
    "  conf_matrix = confusion_matrix(real_data, y_pred)\n",
    "  return conf_matrix"
   ]
  },
  {
   "cell_type": "code",
   "execution_count": null,
   "metadata": {
    "id": "cS8_-0ieF98k"
   },
   "outputs": [],
   "source": [
    "def MetricsDfConverter(classes, metrics):\n",
    "  cat1, cat2, macro = metrics\n",
    "  columns = [\"Precision\", \"Recall\", \"F1-Score\"]\n",
    "  df = pd.DataFrame(metrics, classes, columns)\n",
    "\n",
    "  for column in columns:\n",
    "    df[column] = df[column].apply(lambda x: f\"{x:.4f}\")\n",
    "\n",
    "  return df"
   ]
  },
  {
   "cell_type": "code",
   "execution_count": null,
   "metadata": {
    "id": "nPqD3fcVFpMm"
   },
   "outputs": [],
   "source": [
    "def MetricsCalculator(confusion_matrix, model=None):\n",
    "  bonafide, spoof = confusion_matrix\n",
    "\n",
    "  ps = spoof[1]/(spoof[1]+bonafide[1])\n",
    "  rs = spoof[1]/sum(spoof)\n",
    "  f1s = 2*(ps*rs)/(ps+rs)\n",
    "\n",
    "  s_metrics = [ps,rs,f1s]\n",
    "\n",
    "\n",
    "  pb = bonafide[0]/(bonafide[0]+spoof[0])\n",
    "\n",
    "  if np.isnan(pb):\n",
    "    pb = 0\n",
    "\n",
    "  rb = bonafide[0]/sum(bonafide)\n",
    "  f1b = 2*(pb*rb)/(pb+rb)\n",
    "\n",
    "  if np.isnan(f1b):\n",
    "    f1b = 0\n",
    "\n",
    "  b_metrics = [pb,rb,f1b]\n",
    "\n",
    "\n",
    "  macro_p = (ps+pb)/2\n",
    "  macro_r = (rs + rb)/2\n",
    "  macro_f1 = (f1s + f1b)/2\n",
    "\n",
    "  macro_metrics = [macro_p, macro_r, macro_f1]\n",
    "\n",
    "  classes = [\"spoof\", \"bonafide\", \"Macro-Avg\"]\n",
    "  metrics = [s_metrics, b_metrics, macro_metrics]\n",
    "\n",
    "  print(f\"\\n************ {model} ************\")\n",
    "  print(f\"Accuracy: {(spoof[1]+bonafide[0])/(sum(bonafide)+sum(spoof)):.4f}\\n\")\n",
    "  print(MetricsDfConverter(classes, metrics))\n",
    "  print(\"\\n**********************************\\n\")\n",
    "\n",
    "  return macro_metrics\n",
    "\n"
   ]
  },
  {
   "cell_type": "code",
   "execution_count": null,
   "metadata": {
    "id": "Vjw3fNuaQVPZ"
   },
   "outputs": [],
   "source": [
    "import time\n",
    "\n",
    "def MeasureResponseTime(loaded_models, flag=0, models=None):\n",
    "  for model_name in loaded_models:\n",
    "    ttime = 0\n",
    "    for i in range(1000):\n",
    "      start_time = time.time()\n",
    "\n",
    "      first_instance = X_test[i:i+1]\n",
    "      if flag==0:\n",
    "        y_pred = predictor.predict(first_instance, model=model_name)\n",
    "      else: y_pred = models[model_name].predict(first_instance)\n",
    "\n",
    "      end_time = time.time()\n",
    "\n",
    "      execution_time = end_time - start_time\n",
    "      ttime += execution_time\n",
    "      '''       if i %100 ==0:\n",
    "              print(model_name, execution_time) '''\n",
    "\n",
    "    print(f\"Model: {model_name}\\t\\t Execution time: {ttime/1000:.6f} seconds\")"
   ]
  },
  {
   "cell_type": "code",
   "execution_count": null,
   "metadata": {
    "id": "GMxiaw8hN5Ao"
   },
   "outputs": [],
   "source": [
    "import numpy as np\n",
    "import matplotlib.pyplot as plt\n",
    "import seaborn as sns\n",
    "#categories = ['Kernel radial', 'Kernel polinomial', 'Kernel sigmoide']\n",
    "#modelos = [svm_rad, svm_pol, svm_sig]\n",
    "\n",
    "\n",
    "# Data\n",
    "def GraphDifferences(categories, modelos, hvalues=None):\n",
    "  categories = categories\n",
    "  colors = sns.color_palette(\"rocket\", 3)\n",
    "  modelos = modelos\n",
    "  metricas = [[modelo[i] for modelo in modelos] for i in range(3)]\n",
    "\n",
    "  precision, recall, f1_score = metricas  \n",
    "\n",
    "  x = np.arange(len(categories))  \n",
    "\n",
    "  width = 0.2\n",
    "\n",
    "  fig, ax = plt.subplots(figsize=(8, 6))\n",
    "\n",
    "  bars1 = ax.bar(x - width, precision, width, label='Precision', color=colors[0])\n",
    "  bars2 = ax.bar(x, recall, width, label='Recall', color=colors[1])\n",
    "  bars3 = ax.bar(x + width, f1_score, width, label='F1-Score', color=colors[2])\n",
    "  loc='lower left'\n",
    "  if hvalues:\n",
    "    plt.axhline(hvalues[0], color='red', linestyle='--',  alpha=0.7, linewidth=1.5, label=f'Precision Humanos: {hvalues[0]:.2f}')\n",
    "    plt.axhline(hvalues[1], color='green', linestyle='--', alpha=0.7, linewidth=1.5, label=f'Recall Humanos: {hvalues[1]:.2f}')\n",
    "    plt.axhline(hvalues[2], color='blue', linestyle='--',alpha=0.7, linewidth=1.5, label=f'F1-score Humanos: {hvalues[2]:.2f}')\n",
    "    loc = 'lower right'\n",
    "  ax.set_xlabel('Modelos')\n",
    "  ax.set_ylabel('Puntaje')\n",
    "  ax.set_xticks(x)\n",
    "  ax.set_xticklabels(categories, rotation=90)\n",
    "  ax.legend(loc=loc, framealpha=0.95)\n",
    "\n",
    "  plt.tight_layout()\n",
    "  plt.show()\n"
   ]
  },
  {
   "cell_type": "code",
   "execution_count": null,
   "metadata": {
    "id": "qWPPs3jDBnbw"
   },
   "outputs": [],
   "source": [
    "conf_matrices = []"
   ]
  },
  {
   "cell_type": "code",
   "execution_count": null,
   "metadata": {
    "id": "LmQQTPnX_sjX"
   },
   "outputs": [],
   "source": [
    "for model_name in predictor.model_names():\n",
    "  conf_matrices.append((GetConfusionMatrix(model_name), model_name))\n"
   ]
  },
  {
   "cell_type": "code",
   "execution_count": null,
   "metadata": {
    "id": "v69Nko_hEefz"
   },
   "outputs": [],
   "source": [
    "conf_matrices"
   ]
  },
  {
   "cell_type": "code",
   "execution_count": null,
   "metadata": {
    "id": "WP9LZ_jN7DFW"
   },
   "outputs": [],
   "source": [
    "leaderboard_sorted_by_f1 = leaderboard.sort_values(by='eval_metric', ascending=False)\n",
    "print(leaderboard_sorted_by_f1)\n"
   ]
  },
  {
   "cell_type": "code",
   "execution_count": null,
   "metadata": {
    "id": "-FqNnsTLFzfD"
   },
   "outputs": [],
   "source": [
    "model_metrics = []"
   ]
  },
  {
   "cell_type": "code",
   "execution_count": null,
   "metadata": {
    "id": "2jLAjh1pFefC"
   },
   "outputs": [],
   "source": [
    "for model in conf_matrices:\n",
    "  model_metrics.append(MetricsCalculator(*model))"
   ]
  },
  {
   "cell_type": "code",
   "execution_count": null,
   "metadata": {
    "id": "1KfQKyDGFgnd"
   },
   "outputs": [],
   "source": [
    "GraphDifferences(predictor.model_names()[:-1], model_metrics[:-1])"
   ]
  },
  {
   "cell_type": "code",
   "execution_count": null,
   "metadata": {
    "id": "ZAn6A0FwQkip"
   },
   "outputs": [],
   "source": [
    "MeasureResponseTime(predictor.model_names())"
   ]
  },
  {
   "cell_type": "code",
   "execution_count": null,
   "metadata": {
    "id": "62Y6sXinfZmc"
   },
   "outputs": [],
   "source": [
    "start_time = time.time()\n",
    "\n",
    "y_pred = predictor.predict(X_test, model=\"KNeighborsDist\")\n",
    "\n",
    "end_time = time.time()\n",
    "execution_time = end_time - start_time\n",
    "print(f\"Model: KNeighborsDist \\t\\t Execution time: {execution_time} seconds\")\n",
    "\n",
    "start_time = time.time()\n",
    "\n",
    "y_pred = predictor.predict(X_test, model=\"RandomForestGini\")\n",
    "\n",
    "end_time = time.time()\n",
    "execution_time = end_time - start_time\n",
    "print(f\"Model: RandomForestGini \\t\\t Execution time: {execution_time} seconds\")"
   ]
  },
  {
   "cell_type": "code",
   "execution_count": null,
   "metadata": {
    "id": "uJD3vWxTgrFm"
   },
   "outputs": [],
   "source": [
    "len(X_test)"
   ]
  },
  {
   "cell_type": "markdown",
   "metadata": {
    "id": "RMoADQ7qwVJ9"
   },
   "source": [
    "# Baseline models"
   ]
  },
  {
   "cell_type": "code",
   "execution_count": null,
   "metadata": {
    "id": "OsFTjtiowqJj"
   },
   "outputs": [],
   "source": [
    "X_train = train_data.drop('Label', axis=1)\n",
    "y_train = train_data['Label']"
   ]
  },
  {
   "cell_type": "code",
   "execution_count": null,
   "metadata": {
    "id": "K_8coiWCwUJS"
   },
   "outputs": [],
   "source": [
    "from sklearn.dummy import DummyClassifier\n",
    "from sklearn.linear_model import LogisticRegression\n",
    "\n",
    "start_time = time.time()\n",
    "# 1. Most Frequent Class Classifier\n",
    "most_frequent_clf = DummyClassifier(strategy=\"most_frequent\")\n",
    "most_frequent_clf.fit(X_train, y_train)\n",
    "\n",
    "end_time = time.time()\n",
    "training_time = end_time-start_time\n",
    "\n",
    "print(f\"Model: BaseLine MostFrequent \\t\\t Execution time: {training_time} seconds\")"
   ]
  },
  {
   "cell_type": "code",
   "execution_count": null,
   "metadata": {
    "id": "O9v9eN7gw6cL"
   },
   "outputs": [],
   "source": [
    "# 2. Random Classifier\n",
    "start_time = time.time()\n",
    "\n",
    "random_clf = DummyClassifier(strategy=\"uniform\")\n",
    "random_clf.fit(X_train, y_train)\n",
    "\n",
    "end_time = time.time()\n",
    "training_time = end_time-start_time\n",
    "\n",
    "print(f\"Model: BaseLine Random \\t\\t Execution time: {training_time} seconds\")"
   ]
  },
  {
   "cell_type": "code",
   "execution_count": null,
   "metadata": {
    "id": "_oufBcy8xheQ"
   },
   "outputs": [],
   "source": [
    "#3. Logisitic Regression\n",
    "start_time = time.time()\n",
    "\n",
    "\n",
    "lr_clf = LogisticRegression(random_state=0)\n",
    "lr_clf.fit(X_train, y_train)\n",
    "\n",
    "end_time = time.time()\n",
    "training_time = end_time-start_time\n",
    "print(f\"Model: BaseLine Random \\t\\t Execution time: {training_time} seconds\")"
   ]
  },
  {
   "cell_type": "code",
   "execution_count": null,
   "metadata": {
    "id": "0I2eZeexw9Eq"
   },
   "outputs": [],
   "source": [
    "# Predictions\n",
    "y_pred_most_frequent = most_frequent_clf.predict(X_test)\n",
    "y_pred_random = random_clf.predict(X_test)\n",
    "y_pred_lr = lr_clf.predict(X_test)\n"
   ]
  },
  {
   "cell_type": "code",
   "execution_count": null,
   "metadata": {
    "id": "jUliYDNWx7Cj"
   },
   "outputs": [],
   "source": [
    "from sklearn.metrics import accuracy_score, confusion_matrix"
   ]
  },
  {
   "cell_type": "code",
   "execution_count": null,
   "metadata": {
    "id": "H1xZ2oGxx1n7"
   },
   "outputs": [],
   "source": [
    "# Evaluation - Accuracy and Confusion Matrix\n",
    "print(\"Most Frequent Class Classifier:\")\n",
    "print(\"Accuracy:\", accuracy_score(y_test, y_pred_most_frequent))\n",
    "print(\"Confusion Matrix:\\n\", cf_mf := confusion_matrix(y_test, y_pred_most_frequent))\n",
    "\n",
    "print(\"\\nRandom Classifier:\")\n",
    "print(\"Accuracy:\", accuracy_score(y_test, y_pred_random))\n",
    "print(\"Confusion Matrix:\\n\", cf_r := confusion_matrix(y_test, y_pred_random))\n",
    "\n",
    "print(\"\\nRandom Classifier:\")\n",
    "print(\"Accuracy:\", accuracy_score(y_test, y_pred_lr))\n",
    "print(\"Confusion Matrix:\\n\", cf_lr := confusion_matrix(y_test, y_pred_lr))"
   ]
  },
  {
   "cell_type": "code",
   "execution_count": null,
   "metadata": {
    "id": "OTRfh3xP1FPk"
   },
   "outputs": [],
   "source": [
    "baseline_models = [most_frequent_clf, random_clf, lr_clf]\n",
    "model_names = ['Most Frequent', 'Random', 'Logistic Regression']\n",
    "cf_ms = [cf_mf, cf_r, cf_lr]\n",
    "cf_ms = zip(cf_ms, model_names)"
   ]
  },
  {
   "cell_type": "code",
   "execution_count": null,
   "metadata": {
    "id": "CY3XmPe41U6t"
   },
   "outputs": [],
   "source": [
    "for cf, model_name in cf_ms:\n",
    "  MetricsCalculator(cf, model_name)"
   ]
  },
  {
   "cell_type": "code",
   "execution_count": null,
   "metadata": {
    "id": "AipLy1P05W67"
   },
   "outputs": [],
   "source": [
    "bs_models = {model_names[i]:baseline_models[i] for i in range(len(model_names))}"
   ]
  },
  {
   "cell_type": "code",
   "execution_count": null,
   "metadata": {
    "id": "xdA8BwsV5z5o"
   },
   "outputs": [],
   "source": [
    "MeasureResponseTime(model_names, flag=1, models=bs_models)"
   ]
  },
  {
   "cell_type": "markdown",
   "metadata": {
    "id": "PkOh3NRLZ4VT"
   },
   "source": [
    "# Pruebas con el set de datos de reconocimiento humano"
   ]
  },
  {
   "cell_type": "code",
   "execution_count": null,
   "metadata": {
    "id": "nkIP2uissGZ5"
   },
   "outputs": [],
   "source": [
    "indexes_for_human_dataset = [42253, 44952, 70840, 115974, 164782, 170033, 172663, 253854, 269530, 290934]"
   ]
  },
  {
   "cell_type": "code",
   "execution_count": null,
   "metadata": {
    "id": "iy5xOm6VU2w4"
   },
   "outputs": [],
   "source": [
    "data.head()"
   ]
  },
  {
   "cell_type": "code",
   "execution_count": null,
   "metadata": {
    "id": "zuJfvOo9S-7H"
   },
   "outputs": [],
   "source": [
    "featureData[featureData['zcr']==]"
   ]
  },
  {
   "cell_type": "code",
   "execution_count": null,
   "metadata": {
    "id": "umQjV2_-UK6R"
   },
   "outputs": [],
   "source": [
    "allData.iloc[indexes_for_human_dataset]['zcr']"
   ]
  },
  {
   "cell_type": "code",
   "execution_count": null,
   "metadata": {
    "id": "N2OSvOalVJQA"
   },
   "outputs": [],
   "source": [
    "allData.tail()"
   ]
  },
  {
   "cell_type": "code",
   "execution_count": null,
   "metadata": {
    "id": "a8ZfQBT0VoE9"
   },
   "outputs": [],
   "source": [
    "human_audios = data.iloc[indexes_for_human_dataset]\n",
    "human_audios"
   ]
  },
  {
   "cell_type": "code",
   "execution_count": null,
   "metadata": {
    "id": "JgQcrncml6EC"
   },
   "outputs": [],
   "source": [
    "human_data_conf_matrices = []"
   ]
  },
  {
   "cell_type": "code",
   "execution_count": null,
   "metadata": {
    "id": "f8urCRQOl4ol"
   },
   "outputs": [],
   "source": [
    "for model_name in predictor.model_names():\n",
    "  human_data_conf_matrices.append((GetConfusionMatrix(model_name, human_audios[human_audios.columns[:-1]], human_audios['Label']), model_name))"
   ]
  },
  {
   "cell_type": "code",
   "execution_count": null,
   "metadata": {
    "id": "c1jE2a0HVm88"
   },
   "outputs": [],
   "source": [
    "import pickle as pkl"
   ]
  },
  {
   "cell_type": "code",
   "execution_count": null,
   "metadata": {
    "id": "5t1-Il5Zn5Rm"
   },
   "outputs": [],
   "source": [
    "human_data_conf_matrices = human_data_conf_matrices[:-1]"
   ]
  },
  {
   "cell_type": "code",
   "execution_count": null,
   "metadata": {
    "id": "elXKddwy4C_A"
   },
   "outputs": [],
   "source": [
    "best_lstm = (np.array([[3, 2],\n",
    "                        [0, 5]]), \"LSTM LR=0.0005\")"
   ]
  },
  {
   "cell_type": "code",
   "execution_count": null,
   "metadata": {
    "id": "i0pCrRH94SAC"
   },
   "outputs": [],
   "source": [
    "best_svm = (np.array([[5, 0],\n",
    "                    [0, 5]]), \"SVM RBF C=1000.0\")"
   ]
  },
  {
   "cell_type": "code",
   "execution_count": null,
   "metadata": {
    "id": "g71d_tjq4c4e"
   },
   "outputs": [],
   "source": [
    "human_data_conf_matrices.append(best_lstm)\n",
    "human_data_conf_matrices.append(best_svm)"
   ]
  },
  {
   "cell_type": "code",
   "execution_count": null,
   "metadata": {
    "id": "mkm2ermLVfv7"
   },
   "outputs": [],
   "source": [
    "human_data_conf_matrices"
   ]
  },
  {
   "cell_type": "code",
   "execution_count": null,
   "metadata": {
    "id": "Jd0QEwanpkBq"
   },
   "outputs": [],
   "source": [
    "human_model_metrics = []"
   ]
  },
  {
   "cell_type": "code",
   "execution_count": null,
   "metadata": {
    "id": "YsnxD34Z6KEy"
   },
   "outputs": [],
   "source": [
    "GraphDifferences(predictor.model_names()[:-1], model_metrics[:-1])"
   ]
  },
  {
   "cell_type": "code",
   "execution_count": null,
   "metadata": {
    "id": "FdiVtqPkpPdZ"
   },
   "outputs": [],
   "source": [
    "for model in human_data_conf_matrices:\n",
    "  human_model_metrics.append((model[1], MetricsCalculator(*model)))"
   ]
  },
  {
   "cell_type": "code",
   "execution_count": null,
   "metadata": {
    "id": "cFS75xKU6y3d"
   },
   "outputs": [],
   "source": [
    "human_model_metrics"
   ]
  },
  {
   "cell_type": "code",
   "execution_count": null,
   "metadata": {
    "id": "0cAMckCd7EqG"
   },
   "outputs": [],
   "source": [
    "cats = [i[0] for i in human_model_metrics]\n",
    "models_all = [i[1] for i in human_model_metrics]"
   ]
  },
  {
   "cell_type": "code",
   "execution_count": null,
   "metadata": {
    "id": "u-ob5msF5cCy"
   },
   "outputs": [],
   "source": [
    "humanos = (np.array([[261, 209],[210, 260]]), \"Reconocimiento humano\")"
   ]
  },
  {
   "cell_type": "code",
   "execution_count": null,
   "metadata": {
    "id": "nxw7fsYL9lXK"
   },
   "outputs": [],
   "source": [
    "confusion_matrix, model = humanos\n",
    "confusion_matrix, model"
   ]
  },
  {
   "cell_type": "code",
   "execution_count": null,
   "metadata": {
    "id": "PkXBY4go9UD2"
   },
   "outputs": [],
   "source": [
    "metricas_de_humanos = MetricsCalculator(*humanos)"
   ]
  },
  {
   "cell_type": "code",
   "execution_count": null,
   "metadata": {
    "id": "LoDZsEME6TmK"
   },
   "outputs": [],
   "source": [
    "GraphDifferences(cats ,models_all, hvalues = metricas_de_humanos)"
   ]
  },
  {
   "cell_type": "code",
   "execution_count": null,
   "metadata": {
    "id": "El2e9AEVJicG"
   },
   "outputs": [],
   "source": [
    "#Matriz de confusión del exámen\n",
    "# array([[261, 209],\n",
    "#        [210, 260]])\n",
    "\n",
    "#Matrices de confusión del examen para modelos lstm\n",
    "# [(array([[3, 2],\n",
    "#          [0, 5]]),\n",
    "#   0.0001),\n",
    "#  (array([[3, 2],\n",
    "#          [0, 5]]),\n",
    "#   0.0005),\n",
    "#  (array([[3, 2],\n",
    "#          [0, 5]]),\n",
    "#   0.001),\n",
    "#  (array([[2, 3],\n",
    "#          [0, 5]]),\n",
    "#   0.005),\n",
    "#  (array([[2, 3],\n",
    "#          [0, 5]]),\n",
    "#   0.01)]\n",
    "\n",
    "#Matrices de consusión del examen para modelos svm con kernel radial\n",
    "# [(array([[0, 5],\n",
    "#          [0, 5]]),\n",
    "#   0.1),\n",
    "#  (array([[0, 5],\n",
    "#          [0, 5]]),\n",
    "#   1.0),\n",
    "#  (array([[2, 3],\n",
    "#          [0, 5]]),\n",
    "#   10.0),\n",
    "#  (array([[4, 1],\n",
    "#          [0, 5]]),\n",
    "#   100.0),\n",
    "#  (array([[5, 0],\n",
    "#          [0, 5]]),\n",
    "#   1000.0)]"
   ]
  },
  {
   "cell_type": "markdown",
   "metadata": {
    "id": "zPgxa7gClBqc"
   },
   "source": [
    "# Pruebas con filtros"
   ]
  },
  {
   "cell_type": "markdown",
   "metadata": {
    "id": "8oHhdIB5y-h2"
   },
   "source": [
    "## Filtro media"
   ]
  },
  {
   "cell_type": "code",
   "execution_count": null,
   "metadata": {
    "id": "1ZNcpoKYyifX"
   },
   "outputs": [],
   "source": [
    "prueba_filtro_media = allData.copy()"
   ]
  },
  {
   "cell_type": "code",
   "execution_count": null,
   "metadata": {
    "id": "UW9jqjEoy62S"
   },
   "outputs": [],
   "source": [
    "prueba_filtro_media.head()"
   ]
  },
  {
   "cell_type": "code",
   "execution_count": null,
   "metadata": {
    "id": "uJ2tHTZKt_5C"
   },
   "outputs": [],
   "source": [
    "features_media = prueba_filtro_media.columns[:-1]"
   ]
  },
  {
   "cell_type": "code",
   "execution_count": null,
   "metadata": {
    "id": "QTaJWtXYuEXi"
   },
   "outputs": [],
   "source": [
    "features_media"
   ]
  },
  {
   "cell_type": "code",
   "execution_count": null,
   "metadata": {
    "id": "O7yiehkwuIkG"
   },
   "outputs": [],
   "source": [
    "import numpy as np\n",
    "from scipy.ndimage import uniform_filter1d\n",
    "\n",
    "window_size = 5"
   ]
  },
  {
   "cell_type": "code",
   "execution_count": null,
   "metadata": {
    "id": "rWuqUFHLIn1N"
   },
   "outputs": [],
   "source": [
    "def MeanFilter(row, window_size):\n",
    "  smoothed_features = uniform_filter1d(row, size=window_size, axis=0)\n",
    "  return smoothed_features"
   ]
  },
  {
   "cell_type": "code",
   "execution_count": null,
   "metadata": {
    "id": "x_u5mCCVKFNy"
   },
   "outputs": [],
   "source": [
    "def GetFeatureMean(data, features):\n",
    "  for feature in features:\n",
    "    data[feature] = data[feature].apply(lambda x: np.mean(x))\n",
    "\n"
   ]
  },
  {
   "cell_type": "code",
   "execution_count": null,
   "metadata": {
    "id": "AGmPSE75I1OU"
   },
   "outputs": [],
   "source": [
    "prueba = prueba_filtro_media.copy()"
   ]
  },
  {
   "cell_type": "code",
   "execution_count": null,
   "metadata": {
    "id": "nn5vQm-fMJGD"
   },
   "outputs": [],
   "source": [
    "prueba['zcr'][0]"
   ]
  },
  {
   "cell_type": "code",
   "execution_count": null,
   "metadata": {
    "id": "fnBZAZ4KEpFv"
   },
   "outputs": [],
   "source": [
    "for feature in features_media:\n",
    "  prueba[feature] = prueba[feature].apply(MeanFilter, window_size=window_size)"
   ]
  },
  {
   "cell_type": "code",
   "execution_count": null,
   "metadata": {
    "id": "rJclO__wKakl"
   },
   "outputs": [],
   "source": [
    "np.mean(prueba['zcr'][0])"
   ]
  },
  {
   "cell_type": "code",
   "execution_count": null,
   "metadata": {
    "id": "ObZfCTt-E3Cl"
   },
   "outputs": [],
   "source": [
    "GetFeatureMean(prueba, features_media)"
   ]
  },
  {
   "cell_type": "code",
   "execution_count": null,
   "metadata": {
    "id": "hPq7h9YkKuUN"
   },
   "outputs": [],
   "source": [
    "prueba.head()"
   ]
  },
  {
   "cell_type": "code",
   "execution_count": null,
   "metadata": {
    "id": "dCiEpaF9L3nK"
   },
   "outputs": [],
   "source": [
    "featureData.head()"
   ]
  },
  {
   "cell_type": "code",
   "execution_count": null,
   "metadata": {
    "id": "XWHwQoTvLaNl"
   },
   "outputs": [],
   "source": [
    "import matplotlib.pyplot as plt"
   ]
  },
  {
   "cell_type": "code",
   "execution_count": null,
   "metadata": {
    "id": "lxIVVsxCLWxv"
   },
   "outputs": [],
   "source": [
    "\n",
    "# Histogram before filtering\n",
    "plt.figure(figsize=(10, 6))\n",
    "plt.hist(prueba['zcr'], bins=30, alpha=0.5, color='skyblue', edgecolor='black', label='Before Filter')\n",
    "plt.hist(featureData['zcr'], bins=30, alpha=0.5, color='salmon', edgecolor='black', label='After Filter')\n",
    "\n",
    "# Add labels and legend\n",
    "plt.title('Comparison of ZCR Histograms Before and After Mean Filter')\n",
    "plt.xlabel('ZCR Value')\n",
    "plt.ylabel('Frequency')\n",
    "plt.legend(loc='upper right')\n"
   ]
  },
  {
   "cell_type": "code",
   "execution_count": null,
   "metadata": {
    "id": "ilu-gN5uKvJL"
   },
   "outputs": [],
   "source": [
    "prueba['zcr'].hist()\n",
    "featureData['zcr'].hist()"
   ]
  },
  {
   "cell_type": "code",
   "execution_count": null,
   "metadata": {
    "id": "dPgeWgr9K3dy"
   },
   "outputs": [],
   "source": [
    "len(prueba)"
   ]
  },
  {
   "cell_type": "code",
   "execution_count": null,
   "metadata": {
    "id": "lpZoP4pYnb0_"
   },
   "outputs": [],
   "source": [
    "len()"
   ]
  }
 ],
 "metadata": {
  "colab": {
   "authorship_tag": "ABX9TyPRq9mfJQcf+4MIaU3a9Up/",
   "machine_shape": "hm",
   "private_outputs": true,
   "provenance": []
  },
  "kernelspec": {
   "display_name": "Python 3",
   "name": "python3"
  },
  "language_info": {
   "name": "python"
  }
 },
 "nbformat": 4,
 "nbformat_minor": 0
}
