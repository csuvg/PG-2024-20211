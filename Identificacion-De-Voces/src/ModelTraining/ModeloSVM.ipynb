{
 "cells": [
  {
   "cell_type": "code",
   "execution_count": null,
   "metadata": {
    "id": "Q7ABYxHjH1Lk"
   },
   "outputs": [],
   "source": [
    "from google.colab import drive\n",
    "drive.mount('/content/drive')"
   ]
  },
  {
   "cell_type": "code",
   "execution_count": null,
   "metadata": {
    "id": "97g-iJKLKXlr"
   },
   "outputs": [],
   "source": [
    "file_path = '/content/drive/My Drive/ProyectoTesis/AllFeatureData.pkl'\n"
   ]
  },
  {
   "cell_type": "code",
   "execution_count": null,
   "metadata": {
    "id": "dJacAz-vKqPl"
   },
   "outputs": [],
   "source": [
    "import pandas as pd\n",
    "import tensorflow as tf\n",
    "import numpy as np"
   ]
  },
  {
   "cell_type": "code",
   "execution_count": null,
   "metadata": {
    "id": "j2kZ8abKMQ8c"
   },
   "outputs": [],
   "source": [
    "allData = pd.read_pickle(file_path)"
   ]
  },
  {
   "cell_type": "code",
   "execution_count": null,
   "metadata": {
    "id": "0il7lBG4SY08"
   },
   "outputs": [],
   "source": [
    "featureData = allData.copy()"
   ]
  },
  {
   "cell_type": "code",
   "execution_count": null,
   "metadata": {
    "id": "7lFBDiCFMUzB"
   },
   "outputs": [],
   "source": [
    "features = allData.columns[:-1]\n",
    "features"
   ]
  },
  {
   "cell_type": "code",
   "execution_count": null,
   "metadata": {
    "id": "QbyLO9DfQqWY"
   },
   "outputs": [],
   "source": [
    "for feature in features:\n",
    "  featureData[feature] = featureData[feature].apply(lambda x: np.mean(x))\n",
    "\n",
    "featureData.head()"
   ]
  },
  {
   "cell_type": "code",
   "execution_count": null,
   "metadata": {
    "id": "2anpo7WrMcs4"
   },
   "outputs": [],
   "source": [
    "featureData.hist()"
   ]
  },
  {
   "cell_type": "code",
   "execution_count": null,
   "metadata": {
    "id": "mQHmu9cpJuKf"
   },
   "outputs": [],
   "source": [
    "mean_df = featureData.groupby('Label')\n",
    "mean_df.mean().T[\"spoof\"]"
   ]
  },
  {
   "cell_type": "code",
   "execution_count": null,
   "metadata": {
    "id": "0rY68jjwHzLk"
   },
   "outputs": [],
   "source": [
    "means = {}\n",
    "for i in featureData.columns[:-1]:\n",
    "  means[i] = np.mean(featureData[i])"
   ]
  },
  {
   "cell_type": "code",
   "execution_count": null,
   "metadata": {
    "id": "HSe9yJJII8EY"
   },
   "outputs": [],
   "source": [
    "means"
   ]
  },
  {
   "cell_type": "code",
   "execution_count": null,
   "metadata": {
    "id": "WTCdUAaGS0dm"
   },
   "outputs": [],
   "source": [
    "spoof = featureData[featureData['Label']=='spoof']\n",
    "spoof.hist()"
   ]
  },
  {
   "cell_type": "code",
   "execution_count": null,
   "metadata": {
    "id": "Imbhb8Cngugt"
   },
   "outputs": [],
   "source": [
    "bf = featureData[featureData['Label']=='bonafide']\n",
    "bf.hist()"
   ]
  },
  {
   "cell_type": "code",
   "execution_count": null,
   "metadata": {
    "id": "FN6ifNgrhbfT"
   },
   "outputs": [],
   "source": [
    "from sklearn.model_selection import train_test_split\n",
    "from sklearn.preprocessing import LabelEncoder, StandardScaler\n",
    "from sklearn.svm import SVC\n",
    "from sklearn.metrics import classification_report, confusion_matrix"
   ]
  },
  {
   "cell_type": "code",
   "execution_count": null,
   "metadata": {
    "id": "zW2uVz639qnh"
   },
   "outputs": [],
   "source": [
    "X = featureData.drop('Label', axis=1)\n",
    "y = featureData['Label']"
   ]
  },
  {
   "cell_type": "code",
   "execution_count": null,
   "metadata": {
    "id": "hMj8rsbD91Li"
   },
   "outputs": [],
   "source": [
    "label_encoder = LabelEncoder()\n",
    "y_encoded = label_encoder.fit_transform(y)"
   ]
  },
  {
   "cell_type": "code",
   "execution_count": null,
   "metadata": {
    "id": "1PdKSafw95aJ"
   },
   "outputs": [],
   "source": [
    "scaler = StandardScaler()\n",
    "X_scaled = scaler.fit_transform(X)"
   ]
  },
  {
   "cell_type": "code",
   "execution_count": null,
   "metadata": {
    "id": "Tg1RRyXKLesq"
   },
   "outputs": [],
   "source": [
    "X_scaled"
   ]
  },
  {
   "cell_type": "code",
   "execution_count": null,
   "metadata": {
    "id": "0l09WmUW-AC0"
   },
   "outputs": [],
   "source": [
    "X_train, X_test, y_train, y_test = train_test_split(X_scaled, y_encoded, test_size=0.2, random_state=42, stratify=y)\n"
   ]
  },
  {
   "cell_type": "code",
   "execution_count": null,
   "metadata": {
    "id": "UjojEmlgslu8"
   },
   "outputs": [],
   "source": [
    "from sklearn.model_selection import train_test_split, cross_val_score, GridSearchCV, ParameterGrid\n",
    "from sklearn.metrics import classification_report, confusion_matrix, accuracy_score"
   ]
  },
  {
   "cell_type": "code",
   "execution_count": null,
   "metadata": {
    "id": "OKuNuzdisszS"
   },
   "outputs": [],
   "source": [
    "def PrintMetrics(model):\n",
    "  y_pred = model.predict(X_test)\n",
    "\n",
    "  accuracy = accuracy_score(y_test, y_pred)\n",
    "  print(f'Accuracy: {accuracy * 100:.2f}%')\n",
    "\n",
    "  conf_matrix = confusion_matrix(y_test, y_pred)\n",
    "  print('Confusion Matrix:')\n",
    "  print(conf_matrix)\n",
    "\n",
    "  class_report = classification_report(y_test, y_pred, target_names=label_encoder.classes_)\n",
    "  print('Classification Report:')\n",
    "  print(class_report)\n",
    "\n",
    "  return conf_matrix\n"
   ]
  },
  {
   "cell_type": "markdown",
   "metadata": {
    "id": "LVPlZPcysOC9"
   },
   "source": [
    "# Kernel RBF"
   ]
  },
  {
   "cell_type": "code",
   "execution_count": null,
   "metadata": {
    "id": "KURehvdO-HzW"
   },
   "outputs": [],
   "source": [
    "svm_rbf = SVC(kernel='rbf', gamma='scale', verbose=True)"
   ]
  },
  {
   "cell_type": "code",
   "execution_count": null,
   "metadata": {
    "id": "EMRLMvOy-FGY"
   },
   "outputs": [],
   "source": [
    "svm_rbf.fit(X_train, y_train)"
   ]
  },
  {
   "cell_type": "code",
   "execution_count": null,
   "metadata": {
    "id": "PVRriChk_H8n"
   },
   "outputs": [],
   "source": [
    "\n",
    "y_pred = svm_rbf.predict(X_test)\n",
    "\n",
    "\n",
    "accuracy = accuracy_score(y_test, y_pred)\n",
    "print(f'Accuracy: {accuracy * 100:.2f}%')\n",
    "\n",
    "conf_matrix = confusion_matrix(y_test, y_pred)\n",
    "print('Confusion Matrix:')\n",
    "print(conf_matrix)\n",
    "\n",
    "class_report = classification_report(y_test, y_pred, target_names=label_encoder.classes_)\n",
    "print('Classification Report:')\n",
    "print(class_report)"
   ]
  },
  {
   "cell_type": "code",
   "execution_count": null,
   "metadata": {
    "id": "Khc4w6C9DPC_"
   },
   "outputs": [],
   "source": [
    "\n",
    "train_accuracy = svm_rbf.score(X_train, y_train)\n",
    "print(f'Training Accuracy: {train_accuracy * 100:.2f}%')\n",
    "\n",
    "\n",
    "test_accuracy = svm_rbf.score(X_test, y_test)\n",
    "print(f'Testing Accuracy: {test_accuracy * 100:.2f}%')\n"
   ]
  },
  {
   "cell_type": "markdown",
   "metadata": {
    "id": "j9vJq7v-sQKz"
   },
   "source": [
    "#Kernel lineal"
   ]
  },
  {
   "cell_type": "code",
   "execution_count": null,
   "metadata": {
    "id": "KncgnO8GscoD"
   },
   "outputs": [],
   "source": [
    "svm_lineal = SVC(kernel='linear', gamma='scale')"
   ]
  },
  {
   "cell_type": "code",
   "execution_count": null,
   "metadata": {
    "id": "Se6PpfRPscoD"
   },
   "outputs": [],
   "source": [
    "svm_lineal.fit(X_train, y_train)"
   ]
  },
  {
   "cell_type": "code",
   "execution_count": null,
   "metadata": {
    "id": "zV6yJuditbzY"
   },
   "outputs": [],
   "source": [
    "PrintMetrics(svm_lineal)"
   ]
  },
  {
   "cell_type": "markdown",
   "metadata": {
    "id": "WkZ9ZnVqullH"
   },
   "source": [
    "# Kernel Polinomial\n"
   ]
  },
  {
   "cell_type": "code",
   "execution_count": null,
   "metadata": {
    "id": "7JHybKojuvro"
   },
   "outputs": [],
   "source": [
    "svm_poly = SVC(kernel='poly', gamma='scale')"
   ]
  },
  {
   "cell_type": "code",
   "execution_count": null,
   "metadata": {
    "id": "n9jz285suvrx"
   },
   "outputs": [],
   "source": [
    "svm_poly.fit(X_train, y_train)"
   ]
  },
  {
   "cell_type": "code",
   "execution_count": null,
   "metadata": {
    "id": "qehOIScZuvry"
   },
   "outputs": [],
   "source": [
    "PrintMetrics(svm_poly)"
   ]
  },
  {
   "cell_type": "markdown",
   "metadata": {
    "id": "RxMZwmptvCkV"
   },
   "source": [
    "# Kernel Sigmoid"
   ]
  },
  {
   "cell_type": "code",
   "execution_count": null,
   "metadata": {
    "id": "8S4WT_RpvFei"
   },
   "outputs": [],
   "source": [
    "svm_sigm = SVC(kernel='sigmoid', gamma='scale')"
   ]
  },
  {
   "cell_type": "code",
   "execution_count": null,
   "metadata": {
    "id": "HhaIWZznvFei"
   },
   "outputs": [],
   "source": [
    "svm_sigm.fit(X_train, y_train)"
   ]
  },
  {
   "cell_type": "code",
   "execution_count": null,
   "metadata": {
    "id": "JBoHIs4PvFei"
   },
   "outputs": [],
   "source": [
    "PrintMetrics(svm_sigm)"
   ]
  },
  {
   "cell_type": "code",
   "execution_count": null,
   "metadata": {
    "id": "brf1pdYyIODG"
   },
   "outputs": [],
   "source": [
    "import pickle as pkl"
   ]
  },
  {
   "cell_type": "code",
   "execution_count": null,
   "metadata": {
    "id": "ijPUw-1pGSG3"
   },
   "outputs": [],
   "source": [
    "\n",
    "# with open('/content/drive/My Drive/ProyectoTesis/SVM/NoFilter/FirstSVMModel.pkl', 'wb') as file:\n",
    "#     pkl.dump(svm_classifier, file)\n",
    "\n",
    "# with open('/content/drive/My Drive/ProyectoTesis/SVM/NoFilter/FirstSVMModel_LabelEncoder.pkl', 'wb') as file:\n",
    "#     pkl.dump(label_encoder, file)\n",
    "\n",
    "# with open('/content/drive/My Drive/ProyectoTesis/SVM/NoFilter/FirstSVMModel_Scaler.pkl', 'wb') as file:\n",
    "#     pkl.dump(scaler, file)"
   ]
  },
  {
   "cell_type": "markdown",
   "metadata": {
    "id": "TDHAYbBI4kh7"
   },
   "source": [
    "# Weighted classes"
   ]
  },
  {
   "cell_type": "code",
   "execution_count": null,
   "metadata": {
    "id": "GomyUGAq4yfP"
   },
   "outputs": [],
   "source": [
    "svm_rbf_balanced = SVC(kernel='rbf', gamma='scale', verbose=True, class_weight='balanced')"
   ]
  },
  {
   "cell_type": "code",
   "execution_count": null,
   "metadata": {
    "id": "r9H7w0ha4yfX"
   },
   "outputs": [],
   "source": [
    "svm_rbf_balanced.fit(X_train, y_train)"
   ]
  },
  {
   "cell_type": "code",
   "execution_count": null,
   "metadata": {
    "id": "syiLKZGa5BL3"
   },
   "outputs": [],
   "source": [
    "PrintMetrics(svm_rbf_balanced)"
   ]
  },
  {
   "cell_type": "markdown",
   "metadata": {
    "id": "XaOuKSaEGSQ2"
   },
   "source": [
    "# Guardar datos"
   ]
  },
  {
   "cell_type": "code",
   "execution_count": null,
   "metadata": {
    "id": "p5uE7w_ykiqp"
   },
   "outputs": [],
   "source": [
    "model_names = [\"svm_rbf\", \"svm_lineal\", \"svm_poly\", \"svm_sigm\", \"svm_rbf_balanced\"]"
   ]
  },
  {
   "cell_type": "code",
   "execution_count": null,
   "metadata": {
    "id": "_irj18XjCVIo"
   },
   "outputs": [],
   "source": [
    "\n",
    "\n",
    "for i in range(len(models)):\n",
    "  with open(f'/content/drive/My Drive/ProyectoTesis/SVM/NoFilter/Regular_{model_names[i]}.pkl', 'wb') as file:\n",
    "      pkl.dump(models[i], file)"
   ]
  },
  {
   "cell_type": "markdown",
   "metadata": {
    "id": "vLa4U7aLs2DC"
   },
   "source": [
    "# Cargar Datos"
   ]
  },
  {
   "cell_type": "code",
   "execution_count": null,
   "metadata": {
    "id": "lAy5BO4G7vEg"
   },
   "outputs": [],
   "source": [
    "import pickle as pkl"
   ]
  },
  {
   "cell_type": "code",
   "execution_count": null,
   "metadata": {
    "id": "6SOiMxkd76wa"
   },
   "outputs": [],
   "source": [
    "model_names = [\"svm_rbf\", \"svm_lineal\", \"svm_poly\", \"svm_sigm\", \"svm_rbf_balanced\"]\n"
   ]
  },
  {
   "cell_type": "code",
   "execution_count": null,
   "metadata": {
    "id": "MpTAhZdzsWmY"
   },
   "outputs": [],
   "source": [
    "loaded_models = []"
   ]
  },
  {
   "cell_type": "code",
   "execution_count": null,
   "metadata": {
    "id": "1SudochJ7w6s"
   },
   "outputs": [],
   "source": [
    "for model in model_names[:-1]:\n",
    "  with open(f'/content/drive/My Drive/ProyectoTesis/SVM/NoFilter/Regular_{model}.pkl', 'rb') as file:\n",
    "      loaded_model = pkl.load(file)\n",
    "      loaded_models.append((loaded_model, model))\n"
   ]
  },
  {
   "cell_type": "code",
   "execution_count": null,
   "metadata": {
    "id": "P3auTtVkWlXQ"
   },
   "outputs": [],
   "source": [
    "for model in loaded_models:\n",
    "  print(model[0].get_params())"
   ]
  },
  {
   "cell_type": "code",
   "execution_count": null,
   "metadata": {
    "id": "YlCFk1tkW5m5"
   },
   "outputs": [],
   "source": [
    "print(a:=loaded_models[0][0].get_params())\n",
    "print(b:=load_models[1][0].get_params())\n",
    "print(a==b)"
   ]
  },
  {
   "cell_type": "code",
   "execution_count": null,
   "metadata": {
    "id": "sTGs_dOv0J4Y"
   },
   "outputs": [],
   "source": [
    "loaded_models"
   ]
  },
  {
   "cell_type": "code",
   "execution_count": null,
   "metadata": {
    "id": "LG8aqm1674Ai"
   },
   "outputs": [],
   "source": [
    "for model, model_name in loaded_models:\n",
    "  print(\"\\n\")\n",
    "  print(\"\\n\")\n",
    "  print(f\"#################  {model_name}  ######################\")\n",
    "  PrintMetrics(model)\n",
    "  print(\"#######################################\")\n",
    "  print(\"\\n\")\n",
    "  print(\"\\n\")\n",
    "\n"
   ]
  },
  {
   "cell_type": "markdown",
   "metadata": {
    "id": "nE6KZPFmeehS"
   },
   "source": [
    "#################  svm_rbf  ######################\n",
    "Accuracy: 97.42%\n",
    "Confusion Matrix:\n",
    "[[ 1269  1502]\n",
    " [  191 62591]]\n",
    "Classification Report:\n",
    "              precision    recall  f1-score   support\n",
    "\n",
    "    bonafide       0.87      0.46      0.60      2771\n",
    "       spoof       0.98      1.00      0.99     62782\n",
    "\n",
    "    accuracy                           0.97     65553\n",
    "   macro avg       0.92      0.73      0.79     65553\n",
    "weighted avg       0.97      0.97      0.97     65553\n"
   ]
  },
  {
   "cell_type": "markdown",
   "metadata": {
    "id": "7HgLQUf7txGt"
   },
   "source": [
    "## Imprimir Datos"
   ]
  },
  {
   "cell_type": "code",
   "execution_count": null,
   "metadata": {
    "id": "VGWMs-t9fiV9"
   },
   "outputs": [],
   "source": [
    "def MetricsDfConverter(classes, metrics):\n",
    "  cat1, cat2, macro = metrics\n",
    "  columns = [\"Precision\", \"Recall\", \"F1-Score\"]\n",
    "  df = pd.DataFrame(metrics, classes, columns)\n",
    "\n",
    "  for column in columns:\n",
    "    df[column] = df[column].apply(lambda x: f\"{x:.4f}\")\n",
    "\n",
    "  return df\n"
   ]
  },
  {
   "cell_type": "code",
   "execution_count": null,
   "metadata": {
    "id": "vd1RPZgycjan"
   },
   "outputs": [],
   "source": [
    "def MetricsCalculator(confusion_matrix, model=None):\n",
    "  bonafide, spoof = confusion_matrix\n",
    "\n",
    "  ps = spoof[1]/(spoof[1]+bonafide[1])\n",
    "  rs = spoof[1]/sum(spoof)\n",
    "  f1s = 2*(ps*rs)/(ps+rs)\n",
    "\n",
    "  s_metrics = [ps,rs,f1s]\n",
    "\n",
    "  pb = bonafide[0]/(bonafide[0]+spoof[0])\n",
    "  rb = bonafide[0]/sum(bonafide)\n",
    "  f1b = 2*(pb*rb)/(pb+rb)\n",
    "\n",
    "  b_metrics = [pb,rb,f1b]\n",
    "\n",
    "\n",
    "  macro_p = (ps+pb)/2\n",
    "  macro_r = (rs + rb)/2\n",
    "  macro_f1 = (f1s + f1b)/2\n",
    "\n",
    "  macro_metrics = [macro_p, macro_r, macro_f1]\n",
    "\n",
    "  classes = [\"spoof\", \"bonafide\", \"Macro-Avg\"]\n",
    "  metrics = [s_metrics, b_metrics, macro_metrics]\n",
    "\n",
    "  print(f\"\\n************ {model} ************\")\n",
    "  print(f\"Accuracy: {(spoof[1]+bonafide[0])/(sum(bonafide)+sum(spoof)):.4f}\\n\")\n",
    "  print(MetricsDfConverter(classes, metrics))\n",
    "  print(\"\\n**********************************\\n\")\n",
    "\n",
    "  return macro_metrics\n",
    "\n",
    "\n"
   ]
  },
  {
   "cell_type": "code",
   "execution_count": null,
   "metadata": {
    "id": "_NsAmlJ_iYEO"
   },
   "outputs": [],
   "source": [
    "svm_rad = MetricsCalculator([[ 1269,  1502],[  191, 62591]], model_names[0])\n",
    "svm_pol = MetricsCalculator([[  836,  1935],[  176, 62606]], model_names[2])\n",
    "svm_sig = MetricsCalculator([[  518,  2253], [ 2223, 60559]], model_names[3])\n",
    "\n"
   ]
  },
  {
   "cell_type": "code",
   "execution_count": null,
   "metadata": {
    "id": "nTLRM7BDjLgW"
   },
   "outputs": [],
   "source": [
    "print(model_names)"
   ]
  },
  {
   "cell_type": "code",
   "execution_count": null,
   "metadata": {
    "id": "Jyl1ILoa8WT6"
   },
   "outputs": [],
   "source": [
    "import time\n",
    "\n",
    "def MeasureResponseTime(loaded_models):\n",
    "  for model, model_name in loaded_models:\n",
    "    ttime = 0\n",
    "    for i in range(1000):\n",
    "\n",
    "      start_time = time.time()\n",
    "\n",
    "\n",
    "      first_instance = X_test[i:i+1]\n",
    "      first_prediction = model.predict(first_instance)\n",
    "\n",
    "\n",
    "      end_time = time.time()\n",
    "\n",
    "\n",
    "      execution_time = end_time - start_time\n",
    "      ttime += execution_time\n",
    "\n",
    "    print(f\"Model: {model_name}\\t\\t Execution time: {ttime/1000:.6f} seconds\")"
   ]
  },
  {
   "cell_type": "markdown",
   "metadata": {
    "id": "Ju-8hzEbutdm"
   },
   "source": [
    "## Graficas para los diferentes kernels probados"
   ]
  },
  {
   "cell_type": "code",
   "execution_count": null,
   "metadata": {
    "id": "3j1fahIbuvj-"
   },
   "outputs": [],
   "source": [
    "import numpy as np\n",
    "import matplotlib.pyplot as plt\n",
    "import seaborn as sns\n",
    "#categories = ['Kernel radial', 'Kernel polinomial', 'Kernel sigmoide']\n",
    "#modelos = [svm_rad, svm_pol, svm_sig]\n",
    "\n",
    "\n",
    "# Data\n",
    "def GraphDifferences(categories, modelos):\n",
    "  categories = categories\n",
    "  colors = sns.color_palette(\"rocket\", 3)\n",
    "  modelos = modelos\n",
    "  metricas = [[modelo[i] for modelo in modelos] for i in range(3)]\n",
    "\n",
    "  precision, recall, f1_score = metricas  \n",
    "\n",
    "\n",
    "  x = np.arange(len(categories))  \n",
    "  \n",
    "\n",
    "\n",
    "  width = 0.2\n",
    "\n",
    "  fig, ax = plt.subplots(figsize=(8, 6))\n",
    "\n",
    "  bars1 = ax.bar(x - width, precision, width, label='Precision', color=colors[0])\n",
    "  bars2 = ax.bar(x, recall, width, label='Recall', color=colors[1])\n",
    "  bars3 = ax.bar(x + width, f1_score, width, label='F1-Score', color=colors[2])\n",
    "\n",
    "  ax.set_xlabel('Modelos')\n",
    "  ax.set_ylabel('Puntaje')\n",
    "  ax.set_xticks(x)\n",
    "  ax.set_xticklabels(categories)\n",
    "\n",
    "  ax.legend(loc='lower left')\n",
    "\n",
    "  plt.tight_layout()\n",
    "  plt.show()\n"
   ]
  },
  {
   "cell_type": "code",
   "execution_count": null,
   "metadata": {
    "id": "N7GbEpc4vWM_"
   },
   "outputs": [],
   "source": []
  },
  {
   "cell_type": "markdown",
   "metadata": {
    "id": "0D3LVSvd1BKJ"
   },
   "source": [
    "# Comparar diferentes valores de C para kernel radial"
   ]
  },
  {
   "cell_type": "markdown",
   "metadata": {
    "id": "q4Mjk5lKXrYF"
   },
   "source": [
    "## Entrenamiento y guardado de modelos"
   ]
  },
  {
   "cell_type": "markdown",
   "metadata": {
    "id": "NSqKniQCXfvs"
   },
   "source": [
    "### Entrenando modelos"
   ]
  },
  {
   "cell_type": "code",
   "execution_count": null,
   "metadata": {
    "id": "-ijiuAWg1Ewx"
   },
   "outputs": [],
   "source": [
    "C_range = np.logspace(-1, 3, num=5, endpoint=True)\n",
    "C_range"
   ]
  },
  {
   "cell_type": "code",
   "execution_count": null,
   "metadata": {
    "id": "IQReQndD2UHk"
   },
   "outputs": [],
   "source": [
    "models_dif_c = []"
   ]
  },
  {
   "cell_type": "code",
   "execution_count": null,
   "metadata": {
    "id": "FhZdIBN75HbB"
   },
   "outputs": [],
   "source": [
    "for c in C_range:\n",
    "  start_time = time.time()\n",
    "\n",
    "  model = SVC(kernel='rbf', gamma='scale', C=c, verbose=True)\n",
    "  model.fit(X_train, y_train)\n",
    "\n",
    "  finish_time = time.time()\n",
    "  exec_time = finish_time - start_time\n",
    "\n",
    "  print(f\"Model with C={c} took: {exec_time}\")\n",
    "  models_dif_c.append((model, c))"
   ]
  },
  {
   "cell_type": "code",
   "execution_count": null,
   "metadata": {
    "id": "j4_2BjRqHXPS"
   },
   "outputs": [],
   "source": [
    "  model = SVC(kernel='rbf', gamma='scale', C=C_range[0], verbose=True)\n",
    "  model.fit(X_train, y_train)\n",
    "  models_dif_c.append((model, c))"
   ]
  },
  {
   "cell_type": "code",
   "execution_count": null,
   "metadata": {
    "id": "RXLdVFU_KOY7"
   },
   "outputs": [],
   "source": [
    "models_dif_c.append((model, C_range[0]))"
   ]
  },
  {
   "cell_type": "code",
   "execution_count": null,
   "metadata": {
    "id": "WaWxj31JKkfw"
   },
   "outputs": [],
   "source": [
    "models_dif_c[0][0]"
   ]
  },
  {
   "cell_type": "markdown",
   "metadata": {
    "id": "-08MmGeNXm7L"
   },
   "source": [
    "### Guardando modelos"
   ]
  },
  {
   "cell_type": "code",
   "execution_count": null,
   "metadata": {
    "id": "eu7qtTwEIIt7"
   },
   "outputs": [],
   "source": [
    "for i in range(len(models_dif_c)):\n",
    "  with open(f'/content/drive/My Drive/ProyectoTesis/SVM/NoFilter/DifferentC/SVM_Radial_C_{models_dif_c[i][1]}.pkl', 'wb') as file:\n",
    "      pkl.dump(models_dif_c[i][0], file)"
   ]
  },
  {
   "cell_type": "markdown",
   "metadata": {
    "id": "jYTUJSY5Xy6o"
   },
   "source": [
    "## Cargado de modelos y pruebas con set de datos testing(response_time, metrics)"
   ]
  },
  {
   "cell_type": "markdown",
   "metadata": {
    "id": "5Mg6Be9EDJwE"
   },
   "source": [
    "### Probar los diferentes modelos con datos de prueba"
   ]
  },
  {
   "cell_type": "code",
   "execution_count": null,
   "metadata": {
    "id": "4fQLKlJVKxPI"
   },
   "outputs": [],
   "source": [
    "load_models = []"
   ]
  },
  {
   "cell_type": "code",
   "execution_count": null,
   "metadata": {
    "id": "Gvnud3MWDO46"
   },
   "outputs": [],
   "source": [
    "for i in range(len(C_range)):\n",
    "  with open(f'/content/drive/My Drive/ProyectoTesis/SVM/NoFilter/DifferentC/SVM_Radial_C_{C_range[i]}.pkl', 'rb') as file:\n",
    "      load_models.append((pkl.load(file), C_range[i]))\n",
    "      print(load_models)"
   ]
  },
  {
   "cell_type": "code",
   "execution_count": null,
   "metadata": {
    "id": "wOfDqyWAECjt"
   },
   "outputs": [],
   "source": [
    "conf_matrices = []\n",
    "for model in load_models:\n",
    "  conf_matrix = PrintMetrics(model[0])\n",
    "  conf_matrices.append((conf_matrix, model[1]))\n",
    "\n",
    "conf_matrices"
   ]
  },
  {
   "cell_type": "markdown",
   "metadata": {
    "id": "3pouRkRw0i7t"
   },
   "source": [
    "### Obteniendo metricas utiles"
   ]
  },
  {
   "cell_type": "code",
   "execution_count": null,
   "metadata": {
    "id": "ToyfcVJ7MPBl"
   },
   "outputs": [],
   "source": [
    "metrics_difs_cs = []\n",
    "for i in range(len(load_models)):\n",
    "  metrics_difs_cs.append(MetricsCalculator(conf_matrices[i][0], model= conf_matrices[i][1]))"
   ]
  },
  {
   "cell_type": "markdown",
   "metadata": {
    "id": "dCTNEqgm0n1D"
   },
   "source": [
    "### Creando graficas para cada modelo y sus metricas"
   ]
  },
  {
   "cell_type": "code",
   "execution_count": null,
   "metadata": {
    "id": "xmokyUm4Otbp"
   },
   "outputs": [],
   "source": [
    "categories = [f\"{c}\" for c in C_range]\n",
    "\n",
    "GraphDifferences(categories, metrics_difs_cs)"
   ]
  },
  {
   "cell_type": "markdown",
   "metadata": {
    "id": "uOhFBU8G0sF_"
   },
   "source": [
    "### Midiendo el tiempo de respuesta"
   ]
  },
  {
   "cell_type": "code",
   "execution_count": null,
   "metadata": {
    "id": "VWWDwftLUkJR"
   },
   "outputs": [],
   "source": [
    "MeasureResponseTime(load_models)"
   ]
  },
  {
   "cell_type": "markdown",
   "metadata": {
    "id": "xVvXt6VGVesB"
   },
   "source": []
  },
  {
   "cell_type": "code",
   "execution_count": null,
   "metadata": {
    "id": "DVfty9bCVQ3P"
   },
   "outputs": [],
   "source": []
  },
  {
   "cell_type": "markdown",
   "metadata": {
    "id": "qdgRmFtWsUlC"
   },
   "source": [
    "# Pruebas con el set de datos del examen humano"
   ]
  },
  {
   "cell_type": "code",
   "execution_count": null,
   "metadata": {
    "id": "jszeJVdfvWpV"
   },
   "outputs": [],
   "source": [
    "prueba_data = featureData.copy()\n",
    "prueba_data"
   ]
  },
  {
   "cell_type": "code",
   "execution_count": null,
   "metadata": {
    "id": "8DKJH9tcvhHx"
   },
   "outputs": [],
   "source": [
    "X = prueba_data.drop('Label', axis=1)\n",
    "y = prueba_data['Label']"
   ]
  },
  {
   "cell_type": "code",
   "execution_count": null,
   "metadata": {
    "id": "Xm4JyJwPmoGb"
   },
   "outputs": [],
   "source": [
    "label_encoder = LabelEncoder()\n",
    "y_encoded = label_encoder.fit_transform(y)"
   ]
  },
  {
   "cell_type": "code",
   "execution_count": null,
   "metadata": {
    "id": "Bk2f5SA-mppk"
   },
   "outputs": [],
   "source": [
    "prueba_data['Label'] = y_encoded"
   ]
  },
  {
   "cell_type": "code",
   "execution_count": null,
   "metadata": {
    "id": "dclIl6WKmsMW"
   },
   "outputs": [],
   "source": [
    "scaler = StandardScaler()\n",
    "X_scaled = scaler.fit_transform(X)"
   ]
  },
  {
   "cell_type": "code",
   "execution_count": null,
   "metadata": {
    "id": "93YFB5k_m90L"
   },
   "outputs": [],
   "source": [
    "for i in range(len(features)):\n",
    "  prueba_data[features[i]] = X_scaled.T[i]"
   ]
  },
  {
   "cell_type": "code",
   "execution_count": null,
   "metadata": {
    "id": "6Ugp3y_utJpY"
   },
   "outputs": [],
   "source": [
    "indexes_for_human_dataset = [42253, 44952, 70840, 115974, 164782, 170033, 172663, 253854, 269530, 290934]"
   ]
  },
  {
   "cell_type": "code",
   "execution_count": null,
   "metadata": {
    "id": "c3GvdgMVtE0l"
   },
   "outputs": [],
   "source": [
    "datos = prueba_data.iloc[indexes_for_human_dataset]"
   ]
  },
  {
   "cell_type": "code",
   "execution_count": null,
   "metadata": {
    "id": "viqXNX4ttbh7"
   },
   "outputs": [],
   "source": [
    "X = np.array(datos.drop('Label', axis=1))\n",
    "y = datos['Label']"
   ]
  },
  {
   "cell_type": "code",
   "execution_count": null,
   "metadata": {
    "id": "LiUZ8UeUxrHV"
   },
   "outputs": [],
   "source": [
    "y"
   ]
  },
  {
   "cell_type": "code",
   "execution_count": null,
   "metadata": {
    "id": "qdq_18olsX4K"
   },
   "outputs": [],
   "source": [
    "load_models = []"
   ]
  },
  {
   "cell_type": "code",
   "execution_count": null,
   "metadata": {
    "id": "g4gpglUqtp38"
   },
   "outputs": [],
   "source": [
    "C_range = np.logspace(-1, 3, num=5, endpoint=True)\n",
    "C_range"
   ]
  },
  {
   "cell_type": "code",
   "execution_count": null,
   "metadata": {
    "id": "DSHTtz1xt2q5"
   },
   "outputs": [],
   "source": [
    "import pickle as pkl"
   ]
  },
  {
   "cell_type": "code",
   "execution_count": null,
   "metadata": {
    "id": "isDvDyq-to15"
   },
   "outputs": [],
   "source": [
    "for i in range(len(C_range)):\n",
    "  with open(f'/content/drive/My Drive/ProyectoTesis/SVM/NoFilter/DifferentC/SVM_Radial_C_{C_range[i]}.pkl', 'rb') as file:\n",
    "      load_models.append((pkl.load(file), C_range[i]))\n",
    "      print(load_models)"
   ]
  },
  {
   "cell_type": "code",
   "execution_count": null,
   "metadata": {
    "id": "Ibjmhvyit4KH"
   },
   "outputs": [],
   "source": [
    "def GetConfMatrix2(model, X_test, y_test_encoded):\n",
    "  from sklearn.metrics import classification_report, confusion_matrix\n",
    "  y_pred = model.predict(X_test)\n",
    "  conf_matrix = confusion_matrix(y_test_encoded, y_pred.round())\n",
    "  return conf_matrix"
   ]
  },
  {
   "cell_type": "code",
   "execution_count": null,
   "metadata": {
    "id": "CEl356I0uPmA"
   },
   "outputs": [],
   "source": [
    "cfms = []"
   ]
  },
  {
   "cell_type": "code",
   "execution_count": null,
   "metadata": {
    "id": "yYcZmup3uLRg"
   },
   "outputs": [],
   "source": [
    "for model, model_name in load_models:\n",
    "  cfms.append((GetConfMatrix2(model, X, y), model_name))"
   ]
  },
  {
   "cell_type": "code",
   "execution_count": null,
   "metadata": {
    "id": "8EHwh6w_uZOV"
   },
   "outputs": [],
   "source": [
    "cfms"
   ]
  },
  {
   "cell_type": "code",
   "execution_count": null,
   "metadata": {
    "id": "fCpKNkLKubLg"
   },
   "outputs": [],
   "source": []
  }
 ],
 "metadata": {
  "colab": {
   "authorship_tag": "ABX9TyOVIlAGLIDsZXVCuK87N6ac",
   "machine_shape": "hm",
   "private_outputs": true,
   "provenance": [],
   "toc_visible": true
  },
  "kernelspec": {
   "display_name": "Python 3",
   "name": "python3"
  },
  "language_info": {
   "name": "python"
  }
 },
 "nbformat": 4,
 "nbformat_minor": 0
}
