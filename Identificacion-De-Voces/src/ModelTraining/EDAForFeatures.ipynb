{
 "cells": [
  {
   "cell_type": "code",
   "execution_count": null,
   "metadata": {
    "id": "owRuekzRbxf0"
   },
   "outputs": [],
   "source": [
    "from google.colab import drive\n",
    "drive.mount('/content/drive')"
   ]
  },
  {
   "cell_type": "code",
   "execution_count": null,
   "metadata": {
    "id": "9A7jSE6Fdus4"
   },
   "outputs": [],
   "source": [
    "file_path = '/content/drive/My Drive/ProyectoTesis/AllFeatureData.pkl'\n"
   ]
  },
  {
   "cell_type": "code",
   "execution_count": null,
   "metadata": {
    "id": "xuv1dWDQexSy"
   },
   "outputs": [],
   "source": [
    "import pandas as pd\n",
    "import tensorflow as tf\n",
    "import numpy as np"
   ]
  },
  {
   "cell_type": "code",
   "execution_count": null,
   "metadata": {
    "id": "P3biqaKlevgD"
   },
   "outputs": [],
   "source": [
    "allData = pd.read_pickle(file_path)"
   ]
  },
  {
   "cell_type": "code",
   "execution_count": null,
   "metadata": {
    "id": "p7XcpTm9iv3n"
   },
   "outputs": [],
   "source": [
    "featureData = allData.copy()"
   ]
  },
  {
   "cell_type": "code",
   "execution_count": null,
   "metadata": {
    "id": "PF_q2Zdbivov"
   },
   "outputs": [],
   "source": [
    "features = allData.columns[:-1]\n",
    "features"
   ]
  },
  {
   "cell_type": "code",
   "execution_count": null,
   "metadata": {
    "id": "9kov12Slobdm"
   },
   "outputs": [],
   "source": [
    "for feature in features:\n",
    "  featureData[feature] = featureData[feature].apply(lambda x: np.mean(x))\n",
    "\n",
    "featureData.head()"
   ]
  },
  {
   "cell_type": "code",
   "execution_count": null,
   "metadata": {
    "id": "w9NICof3KNmM"
   },
   "outputs": [],
   "source": [
    "import seaborn as sns\n",
    "import matplotlib.pyplot as plt"
   ]
  },
  {
   "cell_type": "code",
   "execution_count": null,
   "metadata": {
    "id": "ssgz7aUeKsKf"
   },
   "outputs": [],
   "source": [
    "num_data = featureData[features]"
   ]
  },
  {
   "cell_type": "code",
   "execution_count": null,
   "metadata": {
    "id": "1VKKDCi_Kp1y"
   },
   "outputs": [],
   "source": [
    "corr = num_data.corr()\n",
    "\n",
    "plt.figure(figsize=(10, 8))\n",
    "\n",
    "sns.heatmap(corr, annot=True, fmt='.2f', cmap='rocket', square=True, cbar_kws={\"shrink\": .8})\n",
    "\n",
    "plt.show()"
   ]
  },
  {
   "cell_type": "code",
   "execution_count": null,
   "metadata": {
    "id": "T5ad1nZvLSnk"
   },
   "outputs": [],
   "source": [
    "for feature in features:\n",
    "  spoof_data = featureData[featureData[\"Label\"]==\"spoof\"][feature]\n",
    "  bonafide_data = featureData[featureData[\"Label\"]==\"bonafide\"][feature]\n",
    "  plt.hist(spoof_data, alpha=0.5, density=True, label='Spoof')\n",
    "  plt.hist(bonafide_data, alpha=0.5, density=True, label='Bonafide')\n",
    "\n",
    "  plt.title(f'Distribución de {feature}')\n",
    "  plt.xlabel(feature)\n",
    "  plt.ylabel('Densidad')\n",
    "  plt.legend()\n",
    "  plt.show()\n"
   ]
  },
  {
   "cell_type": "code",
   "execution_count": null,
   "metadata": {
    "id": "Qu5Uf_v8u07k"
   },
   "outputs": [],
   "source": [
    "mean_df = featureData.groupby('Label')\n",
    "mean_df.mean().T"
   ]
  },
  {
   "cell_type": "code",
   "execution_count": null,
   "metadata": {
    "id": "yFLazG1dqP4l"
   },
   "outputs": [],
   "source": [
    "import pickle as pkl"
   ]
  },
  {
   "cell_type": "code",
   "execution_count": null,
   "metadata": {
    "id": "xiO7Uc5qoX8u"
   },
   "outputs": [],
   "source": [
    "window_size = 5\n",
    "\n",
    "prueba = featureData.copy()"
   ]
  },
  {
   "cell_type": "code",
   "execution_count": null,
   "metadata": {
    "id": "uJ2tHTZKt_5C"
   },
   "outputs": [],
   "source": [
    "prueba.columns"
   ]
  },
  {
   "cell_type": "code",
   "execution_count": null,
   "metadata": {
    "id": "QTaJWtXYuEXi"
   },
   "outputs": [],
   "source": [
    "prueba.head()"
   ]
  },
  {
   "cell_type": "code",
   "execution_count": null,
   "metadata": {
    "id": "YT4bI4qVq-5H"
   },
   "outputs": [],
   "source": [
    "def moving_average(arr, window_size=5):\n",
    "    return np.convolve(arr, np.ones(window_size) / window_size, mode='valid')\n",
    "\n",
    "prueba['zcr'] = prueba['zcr'].rolling(2).mean()\n"
   ]
  },
  {
   "cell_type": "code",
   "execution_count": null,
   "metadata": {
    "id": "sXdb4Z6Cq__r"
   },
   "outputs": [],
   "source": [
    "prueba.head()"
   ]
  },
  {
   "cell_type": "markdown",
   "metadata": {
    "id": "AtvUiqdA9hM3"
   },
   "source": [
    "# Datos de reconocimiento humano"
   ]
  },
  {
   "cell_type": "code",
   "execution_count": null,
   "metadata": {
    "id": "O7yiehkwuIkG"
   },
   "outputs": [],
   "source": [
    "import pandas as pd"
   ]
  },
  {
   "cell_type": "code",
   "execution_count": null,
   "metadata": {
    "id": "w828GrYV_QEO"
   },
   "outputs": [],
   "source": [
    "path = \"/content/drive/My Drive/ProyectoTesis/HumanData.xlsx\""
   ]
  },
  {
   "cell_type": "code",
   "execution_count": null,
   "metadata": {
    "id": "k1iKkmbV_pVO"
   },
   "outputs": [],
   "source": [
    "df = pd.read_excel(path, sheet_name=\"Raw Data\")\n"
   ]
  },
  {
   "cell_type": "code",
   "execution_count": null,
   "metadata": {
    "id": "jnBiOVSiKA-C"
   },
   "outputs": [],
   "source": [
    "df.drop(df.columns[:20], axis=1, inplace=True)"
   ]
  },
  {
   "cell_type": "code",
   "execution_count": null,
   "metadata": {
    "id": "_o74_X-mKCW-"
   },
   "outputs": [],
   "source": [
    "edades = {1: '18-25',\n",
    "          2:'26-35',\n",
    "          3: '36-45',\n",
    "          4: '46-55',\n",
    "          5: '56-65',\n",
    "          6: '66 o más'\n",
    "          }\n",
    "\n",
    "profesiones = {1:'Tecnología/ingeniería',\n",
    "               2:'Música/sonido',\n",
    "               3:'Directo con personas',\n",
    "               4:'Medios Creativos',\n",
    "               5:'Administación/Negocios',\n",
    "               6:'Estudiante',\n",
    "               7:'Otro',\n",
    "               }"
   ]
  },
  {
   "cell_type": "code",
   "execution_count": null,
   "metadata": {
    "id": "U9ZqU4Ku_xIl"
   },
   "outputs": [],
   "source": [
    "df.drop(df.columns[18:20], axis=1, inplace=True)"
   ]
  },
  {
   "cell_type": "code",
   "execution_count": null,
   "metadata": {
    "id": "_uzUzeUSCKhB"
   },
   "outputs": [],
   "source": [
    "df.columns"
   ]
  },
  {
   "cell_type": "code",
   "execution_count": null,
   "metadata": {
    "id": "zwizCA1bCjtk"
   },
   "outputs": [],
   "source": [
    "arreglar = ['Profesión/Ocupación o interes (Elija todos los que apliquen) - Relacionado con tecnología/ingeniería',\n",
    "       'Profesión/Ocupación o interes (Elija todos los que apliquen) - Relacionado con música/sonido',\n",
    "       'Profesión/Ocupación o interes (Elija todos los que apliquen) - Relacionado con trabajo directo con personas ( educación, atención al cliente, salud, psicología, etc.)',\n",
    "       'Profesión/Ocupación o interes (Elija todos los que apliquen) - Relacionado con medios creativos (diseño, publicidad, cine, etc.)',\n",
    "       'Profesión/Ocupación o interes (Elija todos los que apliquen) - Administración/Negocios',\n",
    "       'Profesión/Ocupación o interes (Elija todos los que apliquen) - Estudiante',\n",
    "       'Profesión/Ocupación o interes (Elija todos los que apliquen) - Otro',]"
   ]
  },
  {
   "cell_type": "code",
   "execution_count": null,
   "metadata": {
    "id": "nneP4mJXEQ6E"
   },
   "outputs": [],
   "source": [
    "def Arreglar(value, count):\n",
    "  if value == 1:\n",
    "    return count\n",
    "  elif type(value) == str:\n",
    "    return count"
   ]
  },
  {
   "cell_type": "code",
   "execution_count": null,
   "metadata": {
    "id": "bgQJ5MDkDH-M"
   },
   "outputs": [],
   "source": [
    "count = 1\n",
    "for column in arreglar:\n",
    "  df[column] = df[column].apply(Arreglar, count=count)\n",
    "  count+=1"
   ]
  },
  {
   "cell_type": "code",
   "execution_count": null,
   "metadata": {
    "id": "YzbcNJicIlwm"
   },
   "outputs": [],
   "source": [
    "df['Profesion'] = df[arreglar].apply(lambda row: row.tolist(), axis=1)"
   ]
  },
  {
   "cell_type": "code",
   "execution_count": null,
   "metadata": {
    "id": "rr0xAjsjI-ym"
   },
   "outputs": [],
   "source": [
    "df['Profesion']"
   ]
  },
  {
   "cell_type": "code",
   "execution_count": null,
   "metadata": {
    "id": "N-4YkJjeIX87"
   },
   "outputs": [],
   "source": [
    "classes = {'bonafide': 0, 'spoof':1}\n",
    "test_y = [0,1,1,0,0,1,1,0,1,0]"
   ]
  },
  {
   "cell_type": "code",
   "execution_count": null,
   "metadata": {
    "id": "It_Irra-iMC5"
   },
   "outputs": [],
   "source": [
    "files = [('DF_E_3060166.flac', 'bonafide'),\n",
    "          ('DF_E_2647211.flac', 'spoof'),\n",
    "          ('DF_E_3506651.flac', 'spoof'),\n",
    "          ('DF_E_3554956.flac', 'bonafide'),\n",
    "          ('DF_E_3578464.flac', 'bonafide'),\n",
    "          ('DF_E_2387468.flac', 'spoof'),\n",
    "          ('DF_E_2413090.flac', 'spoof'),\n",
    "          ('DF_E_4323665.flac', 'bonafide'),\n",
    "          ('DF_E_4663450.flac', 'spoof'),\n",
    "          ('DF_E_4465992.flac', 'bonafide')]"
   ]
  },
  {
   "cell_type": "code",
   "execution_count": null,
   "metadata": {
    "id": "Aaa16BUAT-oT"
   },
   "outputs": [],
   "source": [
    "df.columns"
   ]
  },
  {
   "cell_type": "code",
   "execution_count": null,
   "metadata": {
    "id": "PjWhD3nHq-6X"
   },
   "outputs": [],
   "source": [
    "def CreateAgeGraph():\n",
    "  x = edades.values()\n",
    "\n",
    "  y = df['Edad'].value_counts().sort_index(ascending=True).values\n",
    "  print()\n",
    "  print(df['Edad'].value_counts().index)\n",
    "  print(x)\n",
    "\n",
    "\n",
    "  sns.barplot(x=x, y=y, hue=x, palette=\"viridis\", dodge=False, legend=False)\n",
    "  plt.xlabel('Edades')\n",
    "  plt.ylabel('Porcentaje de personas')\n",
    "  plt.show()\n",
    "\n",
    "CreateAgeGraph()"
   ]
  },
  {
   "cell_type": "code",
   "execution_count": null,
   "metadata": {
    "id": "eUtgJZL0Uhmv"
   },
   "outputs": [],
   "source": [
    "examen = df.columns[len(df.columns)-11:-1]"
   ]
  },
  {
   "cell_type": "code",
   "execution_count": null,
   "metadata": {
    "id": "28ZgxzTpWtg-"
   },
   "outputs": [],
   "source": [
    "data = df.copy()"
   ]
  },
  {
   "cell_type": "code",
   "execution_count": null,
   "metadata": {
    "id": "M9wKcsnTUqsw"
   },
   "outputs": [],
   "source": [
    "data.dropna(subset=examen, inplace=True)"
   ]
  },
  {
   "cell_type": "code",
   "execution_count": null,
   "metadata": {
    "id": "X0CtFyir1-Ar"
   },
   "outputs": [],
   "source": [
    "def CreateProfessionGraph():\n",
    "  from collections import Counter\n",
    "  x = profesiones.values()\n",
    "  arr = []\n",
    "\n",
    "  y = data['Profesion'].values\n",
    "  for array in y:\n",
    "    arr.extend(array)\n",
    "\n",
    "  arr = np.array(arr)\n",
    "  arr = arr[~np.isnan(arr)]\n",
    "\n",
    "  count = Counter(arr)\n",
    "  count = dict(sorted(count.items(), key=lambda x: x[0], reverse=False))\n",
    "  y = count.values()\n",
    "\n",
    "  sns.barplot(x=x, y=y, hue=x, palette=\"viridis\", dodge=False, legend=False)\n",
    "\n",
    "  plt.xticks(rotation=90)  \n",
    "\n",
    "\n",
    "  plt.xlabel('Profesión')\n",
    "  plt.ylabel('Porcentaje de personas')\n",
    "  plt.show()\n",
    "\n",
    "\n",
    "\n",
    "\n",
    "CreateProfessionGraph()"
   ]
  },
  {
   "cell_type": "code",
   "execution_count": null,
   "metadata": {
    "id": "V9h88sybXCIg"
   },
   "outputs": [],
   "source": [
    "data.head()"
   ]
  },
  {
   "cell_type": "code",
   "execution_count": null,
   "metadata": {
    "id": "Q3VgRfWeaGfz"
   },
   "outputs": [],
   "source": [
    "for column in examen:\n",
    "  data[column] = data[column].apply(lambda x: 0 if x == 2 else 1)"
   ]
  },
  {
   "cell_type": "code",
   "execution_count": null,
   "metadata": {
    "id": "5X9EvSjAc6gW"
   },
   "outputs": [],
   "source": [
    "print(data.loc[0, examen].tolist())\n",
    "print(test_y)"
   ]
  },
  {
   "cell_type": "code",
   "execution_count": null,
   "metadata": {
    "id": "X5uYm427MTPE"
   },
   "outputs": [],
   "source": [
    "def AddConfMatrix(value):\n",
    "  from sklearn.metrics import classification_report, confusion_matrix\n",
    "  y_pred = value.tolist()\n",
    "  y_test = [0,1,1,0,0,1,1,0,1,0]\n",
    "\n",
    "  conf_matrix = confusion_matrix(y_test, y_pred)\n",
    "  return conf_matrix"
   ]
  },
  {
   "cell_type": "code",
   "execution_count": null,
   "metadata": {
    "id": "BS3bYwlim6FW"
   },
   "outputs": [],
   "source": [
    "def MetricsDfConverter(classes, metrics):\n",
    "  cat1, cat2, macro = metrics\n",
    "  columns = [\"Precision\", \"Recall\", \"F1-Score\"]\n",
    "  df = pd.DataFrame(metrics, classes, columns)\n",
    "\n",
    "  for column in columns:\n",
    "    df[column] = df[column].apply(lambda x: f\"{x:.4f}\")\n",
    "\n",
    "  return df"
   ]
  },
  {
   "cell_type": "code",
   "execution_count": null,
   "metadata": {
    "id": "N9TaQl0im8JN"
   },
   "outputs": [],
   "source": [
    "def MetricsCalculator(confusion_matrix, model=None):\n",
    "  bonafide, spoof = confusion_matrix\n",
    "\n",
    "  ps = spoof[1]/(spoof[1]+bonafide[1])\n",
    "  rs = spoof[1]/sum(spoof)\n",
    "  f1s = 2*(ps*rs)/(ps+rs)\n",
    "\n",
    "  s_metrics = [ps,rs,f1s]\n",
    "\n",
    "\n",
    "  pb = bonafide[0]/(bonafide[0]+spoof[0])\n",
    "\n",
    "  if np.isnan(pb):\n",
    "    pb = 0\n",
    "\n",
    "  rb = bonafide[0]/sum(bonafide)\n",
    "  f1b = 2*(pb*rb)/(pb+rb)\n",
    "\n",
    "  if np.isnan(f1b):\n",
    "    f1b = 0\n",
    "\n",
    "  b_metrics = [pb,rb,f1b]\n",
    "\n",
    "\n",
    "  macro_p = (ps+pb)/2\n",
    "  macro_r = (rs + rb)/2\n",
    "  macro_f1 = (f1s + f1b)/2\n",
    "\n",
    "  accuracy = (spoof[1]+bonafide[0])/(sum(bonafide)+sum(spoof))\n",
    "  macro_metrics = [macro_p, macro_r, macro_f1]\n",
    "\n",
    "\n",
    "  classes = [\"spoof\", \"bonafide\", \"Macro-Avg\"]\n",
    "  metrics = [s_metrics, b_metrics, macro_metrics]\n",
    "\n",
    "\n",
    "  print(f\"\\n************ {model} ************\")\n",
    "  print(f\"Accuracy: {(spoof[1]+bonafide[0])/(sum(bonafide)+sum(spoof)):.4f}\\n\")\n",
    "  print(MetricsDfConverter(classes, metrics))\n",
    "  print(\"\\n**********************************\\n\")\n",
    "\n",
    "  return macro_metrics\n",
    "\n"
   ]
  },
  {
   "cell_type": "code",
   "execution_count": null,
   "metadata": {
    "id": "dwaYyN-HJGEz"
   },
   "outputs": [],
   "source": [
    "def MetricsCalculator2(confusion_matrix, model=None):\n",
    "  bonafide, spoof = confusion_matrix\n",
    "\n",
    "  ps = spoof[1]/(spoof[1]+bonafide[1])\n",
    "  rs = spoof[1]/sum(spoof)\n",
    "  f1s = 2*(ps*rs)/(ps+rs)\n",
    "\n",
    "  s_metrics = [ps,rs,f1s]\n",
    "\n",
    "\n",
    "  pb = bonafide[0]/(bonafide[0]+spoof[0])\n",
    "\n",
    "  if np.isnan(pb):\n",
    "    pb = 0\n",
    "\n",
    "  rb = bonafide[0]/sum(bonafide)\n",
    "  f1b = 2*(pb*rb)/(pb+rb)\n",
    "\n",
    "  if np.isnan(f1b):\n",
    "    f1b = 0\n",
    "\n",
    "  b_metrics = [pb,rb,f1b]\n",
    "\n",
    "\n",
    "  macro_p = (ps+pb)/2\n",
    "  macro_r = (rs + rb)/2\n",
    "  macro_f1 = (f1s + f1b)/2\n",
    "\n",
    "  accuracy = (spoof[1]+bonafide[0])/(sum(bonafide)+sum(spoof))\n",
    "  macro_metrics = [accuracy, macro_p, macro_r, macro_f1]\n",
    "\n",
    "\n",
    "  classes = [\"spoof\", \"bonafide\", \"Macro-Avg\"]\n",
    "  metrics = [s_metrics, b_metrics, macro_metrics]\n",
    "\n",
    "\n",
    "  # print(f\"\\n************ {model} ************\")\n",
    "  # print(f\"Accuracy: {(spoof[1]+bonafide[0])/(sum(bonafide)+sum(spoof)):.4f}\\n\")\n",
    "  # print(MetricsDfConverter(classes, metrics))\n",
    "  # print(\"\\n**********************************\\n\")\n",
    "\n",
    "  return macro_metrics\n"
   ]
  },
  {
   "cell_type": "code",
   "execution_count": null,
   "metadata": {
    "id": "MIyZdca9b_7K"
   },
   "outputs": [],
   "source": [
    "data['ConfusionMatrix'] = data[examen].apply(AddConfMatrix, axis=1)"
   ]
  },
  {
   "cell_type": "code",
   "execution_count": null,
   "metadata": {
    "id": "57Y0XoDGcFwb"
   },
   "outputs": [],
   "source": [
    "data[\"ConfusionMatrix\"]"
   ]
  },
  {
   "cell_type": "markdown",
   "metadata": {
    "id": "PVQrLq_phBW5"
   },
   "source": [
    "### Questionwise"
   ]
  },
  {
   "cell_type": "code",
   "execution_count": null,
   "metadata": {
    "id": "hzTV5LIP7EgT"
   },
   "outputs": [],
   "source": [
    "data['Metrics'] = data['ConfusionMatrix'].apply(MetricsCalculator2)"
   ]
  },
  {
   "cell_type": "code",
   "execution_count": null,
   "metadata": {
    "id": "7BkiKoTu9lfk"
   },
   "outputs": [],
   "source": [
    "data['Accuracy'] = data['Metrics'].apply(lambda x: x[0])\n",
    "data['Macro-avg-Precision'] = data['Metrics'].apply(lambda x: x[1])\n",
    "data['Macro-avg-Recall'] = data['Metrics'].apply(lambda x: x[2])\n",
    "data['Macro-avg-F1-Score'] = data['Metrics'].apply(lambda x: x[3])"
   ]
  },
  {
   "cell_type": "code",
   "execution_count": null,
   "metadata": {
    "id": "WkW7p_pS-YZf"
   },
   "outputs": [],
   "source": [
    "data['Accuracy']\n",
    "data['Macro-avg-Precision']\n",
    "data['Macro-avg-Recall']\n",
    "data['Macro-avg-F1-Score']"
   ]
  },
  {
   "cell_type": "code",
   "execution_count": null,
   "metadata": {
    "id": "kkqUvOMT-jvm"
   },
   "outputs": [],
   "source": [
    "data[data['¿Suele consumir contenido en audio (por ejemplo, podcasts, audiolibros, radio)? - Frecuencia']==5]"
   ]
  },
  {
   "cell_type": "code",
   "execution_count": null,
   "metadata": {
    "id": "DMBPHgpZAobL"
   },
   "outputs": [],
   "source": [
    "data[data['Accuracy']>=0.7]"
   ]
  },
  {
   "cell_type": "code",
   "execution_count": null,
   "metadata": {
    "id": "bFPmpbfpe2tf"
   },
   "outputs": [],
   "source": [
    "questionWise = data[examen].T.copy()"
   ]
  },
  {
   "cell_type": "code",
   "execution_count": null,
   "metadata": {
    "id": "PVXwkHqYeXeL"
   },
   "outputs": [],
   "source": [
    "questionWise['Bonafide'] = questionWise.apply(lambda row: row.value_counts().tolist()[1], axis=1)\n",
    "questionWise['Spoof'] = questionWise.apply(lambda row: row.value_counts().tolist()[0], axis=1)"
   ]
  },
  {
   "cell_type": "code",
   "execution_count": null,
   "metadata": {
    "id": "kxNWitq1fe57"
   },
   "outputs": [],
   "source": [
    "questionWise.drop([column for column in questionWise.columns if column not in ['Bonafide', 'Spoof']], axis=1, inplace=True)"
   ]
  },
  {
   "cell_type": "code",
   "execution_count": null,
   "metadata": {
    "id": "dlZO5B16g-H4"
   },
   "outputs": [],
   "source": [
    "questionWise['Answers'] = test_y"
   ]
  },
  {
   "cell_type": "code",
   "execution_count": null,
   "metadata": {
    "id": "FF012jPUho_E"
   },
   "outputs": [],
   "source": [
    "def calcCorrect(value):\n",
    "  bf, s, ans = value\n",
    "  tot = bf+s\n",
    "  if ans == 0:\n",
    "    return bf/tot\n",
    "  else:\n",
    "    return s/tot"
   ]
  },
  {
   "cell_type": "code",
   "execution_count": null,
   "metadata": {
    "id": "XLQSwQ5qhcCH"
   },
   "outputs": [],
   "source": [
    "questionWise['PercentageCorrect'] = questionWise.apply(calcCorrect, axis=1)"
   ]
  },
  {
   "cell_type": "code",
   "execution_count": null,
   "metadata": {
    "id": "97I5EFQmg_Zh"
   },
   "outputs": [],
   "source": [
    "questionWise['File'] = [file[0] for file in files]"
   ]
  },
  {
   "cell_type": "code",
   "execution_count": null,
   "metadata": {
    "id": "oagh9Aqph-QK"
   },
   "outputs": [],
   "source": [
    "questionWise"
   ]
  },
  {
   "cell_type": "code",
   "execution_count": null,
   "metadata": {
    "id": "TAoP7P64Ye5o"
   },
   "outputs": [],
   "source": [
    "def createGraph():\n",
    "    x = [f'P{i}' for i in range(1, 11)]\n",
    "\n",
    "    y = questionWise['PercentageCorrect'].values\n",
    "    print(y*95)\n",
    "    answers = {0: 'Bonafide', 1: 'Spoof'}\n",
    "    correct = 0\n",
    "    for i in range(len(questionWise)):\n",
    "      ans = questionWise['Answers'].values[i]\n",
    "      cat = answers[ans]\n",
    "      correct += questionWise[cat][i]\n",
    "    print(correct, correct/950)\n",
    "    avg_value = correct/950\n",
    "\n",
    "\n",
    "    plt.axhline(avg_value, color='red', linestyle='--', linewidth=1.5, label=f'Promedio: {avg_value:.2f}')\n",
    "\n",
    "    plt.legend()\n",
    "\n",
    "\n",
    "    sns.barplot(x=x, y=y, hue=x, palette=\"viridis\", dodge=False, legend=False)\n",
    "    plt.xlabel('Preguntas')\n",
    "    plt.ylabel('Porcentaje de aciertos')\n",
    "    plt.show()\n",
    "\n",
    "createGraph()"
   ]
  },
  {
   "cell_type": "code",
   "execution_count": null,
   "metadata": {
    "id": "Mru1Q5xIRek6"
   },
   "outputs": [],
   "source": [
    "len"
   ]
  },
  {
   "cell_type": "code",
   "execution_count": null,
   "metadata": {
    "id": "Bsu7zifzj3bU"
   },
   "outputs": [],
   "source": [
    "from sklearn.metrics import classification_report, confusion_matrix\n",
    "\n"
   ]
  },
  {
   "cell_type": "markdown",
   "metadata": {
    "id": "pYszMlDApZj7"
   },
   "source": [
    "### Metricas agrupando por edad"
   ]
  },
  {
   "cell_type": "code",
   "execution_count": null,
   "metadata": {
    "id": "GZoEa3YTpq-F"
   },
   "outputs": [],
   "source": [
    "data[\"Edad\"].unique()"
   ]
  },
  {
   "cell_type": "code",
   "execution_count": null,
   "metadata": {
    "id": "8z8zg4Eeqbbs"
   },
   "outputs": [],
   "source": [
    "age_confm = []"
   ]
  },
  {
   "cell_type": "code",
   "execution_count": null,
   "metadata": {
    "id": "G7StTDMTnVVl"
   },
   "outputs": [],
   "source": [
    "for value in data[\"Edad\"].unique():\n",
    "  answers = data[data[\"Edad\"]==value]\n",
    "  y_pred = answers[examen].values.flatten()\n",
    "  y_test = test_y*len(answers)\n",
    "  conf_matrix = confusion_matrix(y_test, y_pred)\n",
    "  age_confm.append((conf_matrix, edades[value]))"
   ]
  },
  {
   "cell_type": "code",
   "execution_count": null,
   "metadata": {
    "id": "Mlt1mOurrv4q"
   },
   "outputs": [],
   "source": [
    "metrics_ages = []"
   ]
  },
  {
   "cell_type": "code",
   "execution_count": null,
   "metadata": {
    "id": "5rMPiPm6rLdr"
   },
   "outputs": [],
   "source": [
    "for matrix, age in age_confm:\n",
    "  metrics = MetricsCalculator(matrix, age)\n",
    "  metrics_ages.append((metrics, age))"
   ]
  },
  {
   "cell_type": "markdown",
   "metadata": {
    "id": "Pz5acUpXJLlJ"
   },
   "source": [
    "### Metricas agupadas por profesión"
   ]
  },
  {
   "cell_type": "code",
   "execution_count": null,
   "metadata": {
    "id": "cgH4lS0bquRf"
   },
   "outputs": [],
   "source": [
    "cf_profesions = []"
   ]
  },
  {
   "cell_type": "code",
   "execution_count": null,
   "metadata": {
    "id": "YQDQe0_aBp1o"
   },
   "outputs": [],
   "source": [
    "for value in range(1,7+1):\n",
    "  answers = data[data['Profesion'].apply(lambda x: value in x)]\n",
    "  y_pred = answers[examen].values.flatten()\n",
    "  y_test = test_y*len(answers)\n",
    "  conf_matrix = confusion_matrix(y_test, y_pred)\n",
    "  cf_profesions.append((conf_matrix, profesiones[value]))"
   ]
  },
  {
   "cell_type": "code",
   "execution_count": null,
   "metadata": {
    "id": "3IOC0j9jC9sz"
   },
   "outputs": [],
   "source": [
    "cf_profesions"
   ]
  },
  {
   "cell_type": "code",
   "execution_count": null,
   "metadata": {
    "id": "8UYgh_avGfB8"
   },
   "outputs": [],
   "source": [
    "metrics_profesions = []"
   ]
  },
  {
   "cell_type": "code",
   "execution_count": null,
   "metadata": {
    "id": "EYjp6NgmGQ0M"
   },
   "outputs": [],
   "source": [
    "for matrix, profesion in cf_profesions:\n",
    "  metrics = MetricsCalculator(matrix, profesion)\n",
    "  metrics_profesions.append((metrics, profesion))"
   ]
  },
  {
   "cell_type": "markdown",
   "metadata": {
    "id": "jdfHl-hXRq0e"
   },
   "source": [
    "### Metricas agrupadas por genero"
   ]
  },
  {
   "cell_type": "code",
   "execution_count": null,
   "metadata": {
    "id": "Y1VLfc7FKLo-"
   },
   "outputs": [],
   "source": [
    "gen_confm = []"
   ]
  },
  {
   "cell_type": "code",
   "execution_count": null,
   "metadata": {
    "id": "cl6htSnQSLsd"
   },
   "outputs": [],
   "source": [
    "genero = {1: 'Masculino',\n",
    "          2: 'Femenino'}"
   ]
  },
  {
   "cell_type": "code",
   "execution_count": null,
   "metadata": {
    "id": "OyXjQCmZRzi_"
   },
   "outputs": [],
   "source": [
    "for value in data[\"Género\"].unique()[:-1]:\n",
    "  answers = data[data[\"Género\"]==value]\n",
    "  y_pred = answers[examen].values.flatten()\n",
    "  y_test = test_y*len(answers)\n",
    "  conf_matrix = confusion_matrix(y_test, y_pred)\n",
    "  gen_confm.append((conf_matrix, genero[value]))"
   ]
  },
  {
   "cell_type": "code",
   "execution_count": null,
   "metadata": {
    "id": "oTxxq22dR7iP"
   },
   "outputs": [],
   "source": [
    "gen_confm"
   ]
  },
  {
   "cell_type": "code",
   "execution_count": null,
   "metadata": {
    "id": "cvBnsdL6SXMy"
   },
   "outputs": [],
   "source": [
    "metrics_gender = []"
   ]
  },
  {
   "cell_type": "code",
   "execution_count": null,
   "metadata": {
    "id": "x7qkvFL1Sc9V"
   },
   "outputs": [],
   "source": [
    "for matrix, genero in gen_confm:\n",
    "  metrics = MetricsCalculator(matrix, genero)\n",
    "  metrics_profesions.append((metrics, genero))"
   ]
  },
  {
   "cell_type": "code",
   "execution_count": null,
   "metadata": {
    "id": "iegFT4xpShMc"
   },
   "outputs": [],
   "source": [
    "all_ans = gen_confm[0][0] + gen_confm[1][0]"
   ]
  },
  {
   "cell_type": "code",
   "execution_count": null,
   "metadata": {
    "id": "vB8qbbojJf5X"
   },
   "outputs": [],
   "source": [
    "all_ans"
   ]
  },
  {
   "cell_type": "code",
   "execution_count": null,
   "metadata": {
    "id": "hFSRAnJNBaCN"
   },
   "outputs": [],
   "source": [
    "MetricsCalculator(all_ans, \"Reconocimiento humano\")"
   ]
  },
  {
   "cell_type": "code",
   "execution_count": null,
   "metadata": {
    "id": "l3_o0rfiBdQ-"
   },
   "outputs": [],
   "source": []
  }
 ],
 "metadata": {
  "colab": {
   "authorship_tag": "ABX9TyN/62aqOymr4YOg9wZrUEJ2",
   "private_outputs": true,
   "provenance": [],
   "toc_visible": true
  },
  "kernelspec": {
   "display_name": "Python 3",
   "name": "python3"
  },
  "language_info": {
   "name": "python"
  }
 },
 "nbformat": 4,
 "nbformat_minor": 0
}
