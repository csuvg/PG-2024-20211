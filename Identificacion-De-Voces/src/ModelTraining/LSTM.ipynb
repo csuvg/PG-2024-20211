{
 "cells": [
  {
   "cell_type": "code",
   "execution_count": null,
   "metadata": {
    "id": "9qztexM1m0KL"
   },
   "outputs": [],
   "source": [
    "gpu_info = !nvidia-smi\n",
    "gpu_info = '\\n'.join(gpu_info)\n",
    "if gpu_info.find('failed') >= 0:\n",
    "  print('Not connected to a GPU')\n",
    "else:\n",
    "  print(gpu_info)"
   ]
  },
  {
   "cell_type": "code",
   "execution_count": null,
   "metadata": {
    "id": "lpRoj2tfnBR_"
   },
   "outputs": [],
   "source": [
    "from google.colab import drive\n",
    "drive.mount('/content/drive')"
   ]
  },
  {
   "cell_type": "code",
   "execution_count": null,
   "metadata": {
    "id": "y9asUnlruBrT"
   },
   "outputs": [],
   "source": [
    "file_path = '/content/drive/My Drive/ProyectoTesis/AllFeatureData.pkl'\n"
   ]
  },
  {
   "cell_type": "markdown",
   "metadata": {
    "id": "yX9zpCohveKO"
   },
   "source": [
    "# Modelo"
   ]
  },
  {
   "cell_type": "code",
   "execution_count": null,
   "metadata": {
    "id": "iSi38Os5uM23"
   },
   "outputs": [],
   "source": [
    "import pandas as pd\n",
    "import tensorflow as tf\n",
    "import numpy as np"
   ]
  },
  {
   "cell_type": "code",
   "execution_count": null,
   "metadata": {
    "id": "qeHzHCxVuXDZ"
   },
   "outputs": [],
   "source": [
    "allData = pd.read_pickle(file_path)"
   ]
  },
  {
   "cell_type": "code",
   "execution_count": null,
   "metadata": {
    "id": "n5YjmRqIuhEl"
   },
   "outputs": [],
   "source": [
    "allData.head()"
   ]
  },
  {
   "cell_type": "code",
   "execution_count": null,
   "metadata": {
    "id": "5rvwzqzLWUte"
   },
   "outputs": [],
   "source": [
    "import matplotlib.pyplot as plt"
   ]
  },
  {
   "cell_type": "code",
   "execution_count": null,
   "metadata": {
    "id": "YZcSHETJWXpz"
   },
   "outputs": [],
   "source": [
    "labels = ['Spoof', 'Bonafide']\n",
    "labels2 = ['Antes de Limpieza', 'Despues de limpieza']\n",
    "data1 = [589212, 22617]\n",
    "data2 = allData['Label'].value_counts()\n",
    "\n",
    "\n",
    "plt.bar(labels, data1)\n",
    "plt.bar(labels, data2)\n",
    "\n",
    "plt.legend(['Antes de limpieza', 'Despues de limpieza'])\n",
    "\n",
    "plt.show()"
   ]
  },
  {
   "cell_type": "code",
   "execution_count": null,
   "metadata": {
    "id": "5KwBnOnWYw60"
   },
   "outputs": [],
   "source": []
  },
  {
   "cell_type": "code",
   "execution_count": null,
   "metadata": {
    "id": "9Vc0tbWPv2--"
   },
   "outputs": [],
   "source": [
    "features = allData.columns[:-1]\n",
    "X = np.array([np.array([row[feature] for feature in features]) for _, row in allData.iterrows()])"
   ]
  },
  {
   "cell_type": "code",
   "execution_count": null,
   "metadata": {
    "id": "eUTJWdciaL3c"
   },
   "outputs": [],
   "source": [
    "X"
   ]
  },
  {
   "cell_type": "code",
   "execution_count": null,
   "metadata": {
    "id": "YEVQTyWWwG7R"
   },
   "outputs": [],
   "source": [
    "y = allData['Label'].values"
   ]
  },
  {
   "cell_type": "code",
   "execution_count": null,
   "metadata": {
    "id": "vTEPt8oGwcbp"
   },
   "outputs": [],
   "source": [
    "from sklearn.model_selection import train_test_split\n",
    "from sklearn.preprocessing import StandardScaler\n",
    "\n"
   ]
  },
  {
   "cell_type": "code",
   "execution_count": null,
   "metadata": {
    "id": "TmWdtM6IxQlV"
   },
   "outputs": [],
   "source": [
    "X_train, X_test, y_train, y_test = train_test_split(X, y, test_size=0.2, random_state=42, stratify=y)\n"
   ]
  },
  {
   "cell_type": "code",
   "execution_count": null,
   "metadata": {
    "id": "pxCAN_oTyRr4"
   },
   "outputs": [],
   "source": [
    "def scale_sequences(X, scalers):\n",
    "    for i in range(X.shape[2]):\n",
    "        X[:, :, i] = scalers[i].fit_transform(X[:, :, i])\n",
    "    return X"
   ]
  },
  {
   "cell_type": "code",
   "execution_count": null,
   "metadata": {
    "id": "znbD94Axj0dy"
   },
   "outputs": [],
   "source": [
    "def scale_sequences2(X, a=None):\n",
    "\n",
    "  reshaped_data = X.reshape(-1, X.shape[-1])\n",
    "\n",
    "  scaler = StandardScaler()\n",
    "  scaled_data = scaler.fit_transform(reshaped_data)\n",
    "\n",
    "  scaled_data = scaled_data.reshape(X.shape)\n",
    "  return scaled_data"
   ]
  },
  {
   "cell_type": "code",
   "execution_count": null,
   "metadata": {
    "id": "uVHTapGCzNKW"
   },
   "outputs": [],
   "source": [
    "scalers = [StandardScaler() for _ in range(X_train.shape[2])] \n",
    "X_train_scaled = scale_sequences(X_train, scalers)\n",
    "X_test_scaled = scale_sequences(X_test, scalers)\n",
    "\n",
    "\n",
    "X_train_scaled.shape, X_test_scaled.shape\n"
   ]
  },
  {
   "cell_type": "code",
   "execution_count": null,
   "metadata": {
    "id": "XMxFc9BfzSpx"
   },
   "outputs": [],
   "source": [
    "X_train_scaled = np.transpose(X_train_scaled, (0,2,1))\n",
    "X_test_scaled = np.transpose(X_test_scaled, (0,2,1))"
   ]
  },
  {
   "cell_type": "code",
   "execution_count": null,
   "metadata": {
    "id": "cdlOPPyqhDQp"
   },
   "outputs": [],
   "source": [
    "X_train_scaled.shape"
   ]
  },
  {
   "cell_type": "code",
   "execution_count": null,
   "metadata": {
    "id": "jeIhJykhFtR-"
   },
   "outputs": [],
   "source": [
    "from sklearn.preprocessing import LabelEncoder\n"
   ]
  },
  {
   "cell_type": "code",
   "execution_count": null,
   "metadata": {
    "id": "jHqAJ6HjFlWM"
   },
   "outputs": [],
   "source": [
    "label_encoder = LabelEncoder()\n",
    "\n",
    "y_train_encoded = label_encoder.fit_transform(y_train)\n",
    "y_test_encoded = label_encoder.transform(y_test)\n"
   ]
  },
  {
   "cell_type": "code",
   "execution_count": null,
   "metadata": {
    "id": "qTkaQSJ2Fa5a"
   },
   "outputs": [],
   "source": [
    "from tensorflow.keras.models import Sequential\n",
    "from tensorflow.keras.layers import LSTM, Dense, Dropout\n",
    "import matplotlib.pyplot as plt"
   ]
  },
  {
   "cell_type": "code",
   "execution_count": null,
   "metadata": {
    "id": "P_hlYIPGFGZk"
   },
   "outputs": [],
   "source": [
    "def create_lstm_model(input_shape):\n",
    "    model = Sequential()\n",
    "    model.add(LSTM(128, return_sequences=True, input_shape=input_shape))\n",
    "    model.add(Dropout(0.5))\n",
    "    model.add(LSTM(64))\n",
    "    model.add(Dense(1, activation='sigmoid'))  # For binary classification\n",
    "\n",
    "    model.compile(optimizer='adam', loss='binary_crossentropy', metrics=['accuracy'])\n",
    "\n",
    "    return model"
   ]
  },
  {
   "cell_type": "code",
   "execution_count": null,
   "metadata": {
    "id": "nTsO2RycGjC2"
   },
   "outputs": [],
   "source": [
    "from tensorflow.keras.callbacks import EarlyStopping"
   ]
  },
  {
   "cell_type": "code",
   "execution_count": null,
   "metadata": {
    "id": "Ar305aG3FheX"
   },
   "outputs": [],
   "source": [
    "input_shape = (X_train_scaled.shape[1], X_train_scaled.shape[2])\n",
    "early_stopping = EarlyStopping(monitor='val_loss', patience=3, restore_best_weights=True)\n",
    "\n",
    "model = create_lstm_model(input_shape)\n",
    "\n",
    "model.summary()"
   ]
  },
  {
   "cell_type": "code",
   "execution_count": null,
   "metadata": {
    "id": "ayqDI82hEQEq"
   },
   "outputs": [],
   "source": [
    "from io import BytesIO\n",
    "from PIL import Image\n",
    "from tensorflow.keras.utils import plot_model\n"
   ]
  },
  {
   "cell_type": "code",
   "execution_count": null,
   "metadata": {
    "id": "agVU7F65EHpp"
   },
   "outputs": [],
   "source": [
    "def display_model(model):\n",
    "\n",
    "    img_data = BytesIO()\n",
    "    plot_model(model, to_file=img_data, show_shapes=True, show_layer_names=True)\n",
    "    img_data.seek(0)  \n",
    "\n",
    "\n",
    "    img = Image.open(img_data)\n",
    "    plt.imshow(img)\n",
    "    plt.axis('off')  \n",
    "    plt.show()"
   ]
  },
  {
   "cell_type": "code",
   "execution_count": null,
   "metadata": {
    "id": "ivp_r0e_EUCt"
   },
   "outputs": [],
   "source": [
    "plot_model(model, to_file='prueba.png', show_shapes=True, show_layer_names=True)\n"
   ]
  },
  {
   "cell_type": "code",
   "execution_count": null,
   "metadata": {
    "id": "0UiSmDk1GdFD"
   },
   "outputs": [],
   "source": [
    "history = model.fit(X_train_scaled, y_train_encoded, epochs=20, batch_size=32,\n",
    "                    validation_split=0.2, callbacks=[early_stopping])"
   ]
  },
  {
   "cell_type": "code",
   "execution_count": null,
   "metadata": {
    "id": "Qn7FO2OaKgry"
   },
   "outputs": [],
   "source": [
    "from sklearn.metrics import classification_report, confusion_matrix\n",
    "y_pred = model.predict(X_test_scaled)\n",
    "conf_matrix = confusion_matrix(y_test_encoded, y_pred.round())\n",
    "#print(classification_report(y_test_encoded, y_pred))"
   ]
  },
  {
   "cell_type": "code",
   "execution_count": null,
   "metadata": {
    "id": "9Dmnz0SBLEyI"
   },
   "outputs": [],
   "source": [
    "test_loss, test_acc = model.evaluate(X_test_scaled, y_test_encoded)\n"
   ]
  },
  {
   "cell_type": "code",
   "execution_count": null,
   "metadata": {
    "id": "ezzZk__KMZf2"
   },
   "outputs": [],
   "source": [
    "unique, counts = np.unique(y_test_encoded, return_counts=True)\n",
    "\n",
    "for label, count in zip(unique, counts):\n",
    "    print(f\"Label {label}: {count} samples\")"
   ]
  },
  {
   "cell_type": "code",
   "execution_count": null,
   "metadata": {
    "id": "X9M2U9OkLIg9"
   },
   "outputs": [],
   "source": [
    "test_loss, test_acc"
   ]
  },
  {
   "cell_type": "code",
   "execution_count": null,
   "metadata": {
    "id": "R-PBgzaDKrkD"
   },
   "outputs": [],
   "source": [
    "conf_matrix"
   ]
  },
  {
   "cell_type": "code",
   "execution_count": null,
   "metadata": {
    "id": "JpQaKgHrK9Nq"
   },
   "outputs": [],
   "source": [
    "model.save('/content/drive/My Drive/ProyectoTesis/FirstLSTMModel.keras')"
   ]
  },
  {
   "cell_type": "code",
   "execution_count": null,
   "metadata": {
    "id": "ZfmCFzeaOOkz"
   },
   "outputs": [],
   "source": [
    "new_model = tf.keras.models.load_model('/content/drive/My Drive/ProyectoTesis/LSTM/FirstLSTMModel.keras')\n"
   ]
  },
  {
   "cell_type": "code",
   "execution_count": null,
   "metadata": {
    "id": "P8KZeTeQO4uW"
   },
   "outputs": [],
   "source": [
    "from sklearn.metrics import classification_report, confusion_matrix\n",
    "y_pred = new_model.predict(X_test_scaled)\n",
    "conf_matrix = confusion_matrix(y_test_encoded, y_pred.round())\n"
   ]
  },
  {
   "cell_type": "code",
   "execution_count": null,
   "metadata": {
    "id": "qRi1vsB86qku"
   },
   "outputs": [],
   "source": [
    "conf_matrix"
   ]
  },
  {
   "cell_type": "code",
   "execution_count": null,
   "metadata": {
    "id": "-8gYXteQ6vTM"
   },
   "outputs": [],
   "source": [
    "print(classification_report(y_test_encoded, y_pred.round()))"
   ]
  },
  {
   "cell_type": "code",
   "execution_count": null,
   "metadata": {
    "id": "c6eyVWJl5855"
   },
   "outputs": [],
   "source": [
    "load_models = [(new_model, \"LSTM_WITH_ADAM\")]"
   ]
  },
  {
   "cell_type": "code",
   "execution_count": null,
   "metadata": {
    "id": "SK9qPUuJ6JR3"
   },
   "outputs": [],
   "source": [
    "import time"
   ]
  },
  {
   "cell_type": "markdown",
   "metadata": {
    "id": "amhmM8AC8zZe"
   },
   "source": [
    "## Response Time"
   ]
  },
  {
   "cell_type": "code",
   "execution_count": null,
   "metadata": {
    "id": "UuRI9VHG55UG"
   },
   "outputs": [],
   "source": [
    "def MeasureResponseTime(loaded_models):\n",
    "  import time\n",
    "  rtimes = []\n",
    "  for model, model_name in loaded_models:\n",
    "    ttime = 0\n",
    "    for i in range(1000):\n",
    "      start_time = time.time()\n",
    "\n",
    "      first_instance = X_test_scaled[i:i+1]\n",
    "      first_prediction = model.predict(first_instance)\n",
    "\n",
    "      end_time = time.time()\n",
    "\n",
    "      execution_time = end_time - start_time\n",
    "      ttime += execution_time\n",
    "    rtimes.append((model_name, ttime/1000))\n",
    "    print(f\"Model: {model_name}\\t\\t Execution time: {ttime/1000:.6f} seconds\")\n",
    "\n",
    "  return rtimes"
   ]
  },
  {
   "cell_type": "code",
   "execution_count": null,
   "metadata": {
    "id": "8LGbUS7Ng7uS"
   },
   "outputs": [],
   "source": [
    "def GetConfMatrix(model):\n",
    "  from sklearn.metrics import classification_report, confusion_matrix\n",
    "  y_pred = model.predict(X_test_scaled)\n",
    "  conf_matrix = confusion_matrix(y_test_encoded, y_pred.round())\n",
    "  return conf_matrix"
   ]
  },
  {
   "cell_type": "code",
   "execution_count": null,
   "metadata": {
    "id": "K0K7iUADcJOY"
   },
   "outputs": [],
   "source": [
    "def GetConfMatrix2(model, X_test, y_test_encoded):\n",
    "  from sklearn.metrics import classification_report, confusion_matrix\n",
    "  y_pred = model.predict(X_test)\n",
    "  conf_matrix = confusion_matrix(y_test_encoded, y_pred.round())\n",
    "  return conf_matrix"
   ]
  },
  {
   "cell_type": "code",
   "execution_count": null,
   "metadata": {
    "id": "Wb675k93OVRb"
   },
   "outputs": [],
   "source": [
    "def MetricsDfConverter(classes, metrics):\n",
    "  cat1, cat2, macro = metrics\n",
    "  columns = [\"Precision\", \"Recall\", \"F1-Score\"]\n",
    "  df = pd.DataFrame(metrics, classes, columns)\n",
    "\n",
    "  for column in columns:\n",
    "    df[column] = df[column].apply(lambda x: f\"{x:.4f}\")\n",
    "\n",
    "  return df"
   ]
  },
  {
   "cell_type": "code",
   "execution_count": null,
   "metadata": {
    "id": "2i6FA_IWOYBV"
   },
   "outputs": [],
   "source": [
    "def MetricsCalculator(confusion_matrix, model=None):\n",
    "  bonafide, spoof = confusion_matrix\n",
    "\n",
    "  ps = spoof[1]/(spoof[1]+bonafide[1])\n",
    "  rs = spoof[1]/sum(spoof)\n",
    "  f1s = 2*(ps*rs)/(ps+rs)\n",
    "\n",
    "  s_metrics = [ps,rs,f1s]\n",
    "\n",
    "\n",
    "  pb = bonafide[0]/(bonafide[0]+spoof[0])\n",
    "\n",
    "  if np.isnan(pb):\n",
    "    pb = 0\n",
    "\n",
    "  rb = bonafide[0]/sum(bonafide)\n",
    "  f1b = 2*(pb*rb)/(pb+rb)\n",
    "\n",
    "  if np.isnan(f1b):\n",
    "    f1b = 0\n",
    "\n",
    "  b_metrics = [pb,rb,f1b]\n",
    "\n",
    "\n",
    "  macro_p = (ps+pb)/2\n",
    "  macro_r = (rs + rb)/2\n",
    "  macro_f1 = (f1s + f1b)/2\n",
    "\n",
    "  macro_metrics = [macro_p, macro_r, macro_f1]\n",
    "\n",
    "  classes = [\"spoof\", \"bonafide\", \"Macro-Avg\"]\n",
    "  metrics = [s_metrics, b_metrics, macro_metrics]\n",
    "\n",
    "  print(f\"\\n************ {model} ************\")\n",
    "  print(f\"Accuracy: {(spoof[1]+bonafide[0])/(sum(bonafide)+sum(spoof)):.4f}\\n\")\n",
    "  print(MetricsDfConverter(classes, metrics))\n",
    "  print(\"\\n**********************************\\n\")\n",
    "\n",
    "  return macro_metrics\n"
   ]
  },
  {
   "cell_type": "code",
   "execution_count": null,
   "metadata": {
    "id": "oNA6Kf6Enjxr"
   },
   "outputs": [],
   "source": [
    "import numpy as np\n",
    "import matplotlib.pyplot as plt\n",
    "import seaborn as sns\n",
    "#categories = ['Kernel radial', 'Kernel polinomial', 'Kernel sigmoide']\n",
    "#modelos = [svm_rad, svm_pol, svm_sig]\n",
    "\n",
    "\n",
    "def GraphDifferences(categories, modelos):\n",
    "  categories = categories\n",
    "  colors = sns.color_palette(\"rocket\", 3)\n",
    "  modelos = modelos\n",
    "  metricas = [[modelo[i] for modelo in modelos] for i in range(3)]\n",
    "\n",
    "  precision, recall, f1_score = metricas  \n",
    "\n",
    "  x = np.arange(len(categories))  \n",
    "\n",
    "  width = 0.2\n",
    "\n",
    "  fig, ax = plt.subplots(figsize=(8, 6))\n",
    "\n",
    "  bars1 = ax.bar(x - width, precision, width, label='Precision', color=colors[0])\n",
    "  bars2 = ax.bar(x, recall, width, label='Recall', color=colors[1])\n",
    "  bars3 = ax.bar(x + width, f1_score, width, label='F1-Score', color=colors[2])\n",
    "\n",
    "  ax.set_xlabel('Modelos')\n",
    "  ax.set_ylabel('Puntaje')\n",
    "  ax.set_xticks(x)\n",
    "  ax.set_xticklabels(categories, rotation=90)\n",
    "  ax.legend(loc='lower left', framealpha=0.95)\n",
    "\n",
    "  plt.tight_layout()\n",
    "  plt.show()\n"
   ]
  },
  {
   "cell_type": "code",
   "execution_count": null,
   "metadata": {
    "collapsed": true,
    "id": "rA43Zc2N2jvk"
   },
   "outputs": [],
   "source": [
    "MeasureResponseTime(load_models)"
   ]
  },
  {
   "cell_type": "code",
   "execution_count": null,
   "metadata": {
    "id": "IhVN6s2nhL5r"
   },
   "outputs": [],
   "source": [
    "start_time = time.time()\n",
    "\n",
    "first_prediction = new_model.predict(X_test_scaled)\n",
    "\n",
    "end_time = time.time()\n",
    "\n",
    "execution_time = end_time - start_time\n",
    "\n",
    "print(f\"Model: LSTM_WITH_ADAM\\t\\t Execution time: {execution_time} seconds\")\n",
    "\n"
   ]
  },
  {
   "cell_type": "code",
   "execution_count": null,
   "metadata": {
    "id": "Z1OXhLXzjflK"
   },
   "outputs": [],
   "source": [
    "len(X_test_scaled)"
   ]
  },
  {
   "cell_type": "code",
   "execution_count": null,
   "metadata": {
    "id": "XnduH-qv1ej0"
   },
   "outputs": [],
   "source": []
  },
  {
   "cell_type": "markdown",
   "metadata": {
    "id": "QKRMJm5eEi7a"
   },
   "source": [
    "# More models"
   ]
  },
  {
   "cell_type": "code",
   "execution_count": null,
   "metadata": {
    "id": "WGEGsGVwI7-M"
   },
   "outputs": [],
   "source": [
    "from keras.optimizers import Adam\n",
    "from keras.layers import LSTM, Dropout, Dense, Input\n",
    "from tensorflow.keras.callbacks import EarlyStopping"
   ]
  },
  {
   "cell_type": "code",
   "execution_count": null,
   "metadata": {
    "id": "lIKA7QoFEkYM"
   },
   "outputs": [],
   "source": [
    "def CreateModel(input_shape, learning_rate):\n",
    "    model = Sequential()\n",
    "    model.add(Input(shape=input_shape))\n",
    "    model.add(LSTM(128, return_sequences=True))\n",
    "    model.add(Dropout(0.5))\n",
    "    model.add(LSTM(64))\n",
    "    model.add(Dense(1, activation='sigmoid'))  \n",
    "\n",
    "    optimizer = Adam(learning_rate=learning_rate)\n",
    "    model.compile(optimizer=optimizer, loss='binary_crossentropy', metrics=['accuracy'])\n",
    "\n",
    "    return model"
   ]
  },
  {
   "cell_type": "code",
   "execution_count": null,
   "metadata": {
    "id": "AVk68g7bLZKY"
   },
   "outputs": [],
   "source": [
    "models_lrs = []"
   ]
  },
  {
   "cell_type": "code",
   "execution_count": null,
   "metadata": {
    "id": "e50731SVFhF_"
   },
   "outputs": [],
   "source": [
    "lrs = [0.0001, 0.0005, 0.001, 0.005, 0.01]\n",
    "for lr in lrs:\n",
    "  models_lrs.append((CreateModel(input_shape, lr), lr))"
   ]
  },
  {
   "cell_type": "code",
   "execution_count": null,
   "metadata": {
    "id": "inkO5Wpnu-vB"
   },
   "outputs": [],
   "source": [
    "models_lrs"
   ]
  },
  {
   "cell_type": "code",
   "execution_count": null,
   "metadata": {
    "id": "3zvrFH-yLGjP"
   },
   "outputs": [],
   "source": [
    "histories = []"
   ]
  },
  {
   "cell_type": "code",
   "execution_count": null,
   "metadata": {
    "id": "59YDGoinLvLi"
   },
   "outputs": [],
   "source": [
    "import time"
   ]
  },
  {
   "cell_type": "code",
   "execution_count": null,
   "metadata": {
    "id": "QCKAn63sLIk3"
   },
   "outputs": [],
   "source": [
    "for model in models_lrs:\n",
    "  print(f\"**************** {model[1]} *****************\")\n",
    "  st = time.time()\n",
    "  early_stopping = EarlyStopping(monitor='val_loss', patience=3, restore_best_weights=True)\n",
    "  history = model[0].fit(X_train_scaled, y_train_encoded, epochs=20, batch_size=32,\n",
    "                    validation_split=0.2, callbacks=[early_stopping])\n",
    "  et = time.time()\n",
    "  training_time = et-st\n",
    "  print(training_time)\n",
    "  print(f\"**************** {model[1]} *****************\\n\")\n",
    "\n",
    "\n",
    "  histories.append((history, *model, training_time))\n",
    "  del history, early_stopping"
   ]
  },
  {
   "cell_type": "markdown",
   "metadata": {
    "id": "SrBdfXZ5MyHQ"
   },
   "source": [
    "### Guardar modelos"
   ]
  },
  {
   "cell_type": "code",
   "execution_count": null,
   "metadata": {
    "id": "_qxuhHh0T3QE"
   },
   "outputs": [],
   "source": [
    "path=\"/content/drive/My Drive/ProyectoTesis/LSTM/LRModelHistories.pkl\""
   ]
  },
  {
   "cell_type": "code",
   "execution_count": null,
   "metadata": {
    "id": "eY4A9KP_sBPi"
   },
   "outputs": [],
   "source": [
    "import pickle as pkl"
   ]
  },
  {
   "cell_type": "code",
   "execution_count": null,
   "metadata": {
    "id": "4MaOqx7sr6Yy"
   },
   "outputs": [],
   "source": [
    "# with open(path, 'wb') as file:  # Open the file in write-binary mode\n",
    "#   pkl.dump(histories, file)"
   ]
  },
  {
   "cell_type": "markdown",
   "metadata": {
    "id": "kNtQmafjZ2fn"
   },
   "source": [
    "## Arreglar set de datos"
   ]
  },
  {
   "cell_type": "code",
   "execution_count": null,
   "metadata": {
    "id": "S1VdmhCdass_"
   },
   "outputs": [],
   "source": [
    "indexes_for_human_dataset = [42253, 44952, 70840, 115974, 164782, 170033, 172663, 253854, 269530, 290934]"
   ]
  },
  {
   "cell_type": "code",
   "execution_count": null,
   "metadata": {
    "id": "oWIfCYunaU1w"
   },
   "outputs": [],
   "source": [
    "new_data = allData.iloc[indexes_for_human_dataset]"
   ]
  },
  {
   "cell_type": "code",
   "execution_count": null,
   "metadata": {
    "id": "LRKNWNMDdb5F"
   },
   "outputs": [],
   "source": [
    "new_data"
   ]
  },
  {
   "cell_type": "markdown",
   "metadata": {
    "id": "BWdk_NBBiRTc"
   },
   "source": [
    "### Pruebas con filtros"
   ]
  },
  {
   "cell_type": "code",
   "execution_count": null,
   "metadata": {
    "id": "piZ472pdiUUs"
   },
   "outputs": [],
   "source": [
    "import numpy as np\n",
    "from scipy.ndimage import uniform_filter1d, median_filter\n",
    "\n",
    "window_size = 11"
   ]
  },
  {
   "cell_type": "code",
   "execution_count": null,
   "metadata": {
    "id": "qpNjIs16i2dj"
   },
   "outputs": [],
   "source": [
    "datos = new_data.copy()"
   ]
  },
  {
   "cell_type": "code",
   "execution_count": null,
   "metadata": {
    "id": "3aPzcDfAiygy"
   },
   "outputs": [],
   "source": [
    "features_media = datos.columns[:-1]"
   ]
  },
  {
   "cell_type": "code",
   "execution_count": null,
   "metadata": {
    "id": "mv4fMAVwiXEO"
   },
   "outputs": [],
   "source": [
    "def MeanFilter(row, window_size):\n",
    "  smoothed_features = uniform_filter1d(row, size=window_size, axis=0)\n",
    "  return smoothed_features"
   ]
  },
  {
   "cell_type": "code",
   "execution_count": null,
   "metadata": {
    "id": "QpHX6yu_oArq"
   },
   "outputs": [],
   "source": [
    "from scipy.ndimage import median_filter\n",
    "\n",
    "def MedianFilter(row, window_size):\n",
    "    smoothed_features = median_filter(row, size=window_size, mode='nearest')\n",
    "    return smoothed_features"
   ]
  },
  {
   "cell_type": "code",
   "execution_count": null,
   "metadata": {
    "id": "Ls2xxvcQitHE"
   },
   "outputs": [],
   "source": [
    "for feature in features_media:\n",
    "  datos[feature] = datos[feature].apply(MedianFilter, window_size=window_size)"
   ]
  },
  {
   "cell_type": "code",
   "execution_count": null,
   "metadata": {
    "id": "BT9Gcnz3a8xE"
   },
   "outputs": [],
   "source": [
    "features = datos.columns[:-1]\n",
    "new_x = np.array([np.array([row[feature] for feature in features]) for _, row in datos.iterrows()])"
   ]
  },
  {
   "cell_type": "code",
   "execution_count": null,
   "metadata": {
    "id": "jzyCLMFbbIf9"
   },
   "outputs": [],
   "source": [
    "new_x = scale_sequences2(new_x, scalers)"
   ]
  },
  {
   "cell_type": "code",
   "execution_count": null,
   "metadata": {
    "id": "50Dhdz8K3twK"
   },
   "outputs": [],
   "source": [
    "new_x.shape"
   ]
  },
  {
   "cell_type": "code",
   "execution_count": null,
   "metadata": {
    "collapsed": true,
    "id": "5En-Zck9hZMH"
   },
   "outputs": [],
   "source": [
    "# new_x[0][0] #87 frames para el primer dato en la columna zcr"
   ]
  },
  {
   "cell_type": "code",
   "execution_count": null,
   "metadata": {
    "collapsed": true,
    "id": "N_0hA0cFf0uU"
   },
   "outputs": [],
   "source": [
    "# for i in range(len(new_x[0])):\n",
    "#   print(new_x[0][i][0]) #Lo mismo que sacar transpuesta y despues new_x[0][0]"
   ]
  },
  {
   "cell_type": "code",
   "execution_count": null,
   "metadata": {
    "id": "N2VZ-eN3bSu-"
   },
   "outputs": [],
   "source": [
    "new_y = new_data['Label'].values"
   ]
  },
  {
   "cell_type": "code",
   "execution_count": null,
   "metadata": {
    "id": "aKJIQ-Ftbt04"
   },
   "outputs": [],
   "source": [
    "label_encoder = LabelEncoder()\n",
    "\n",
    "new_y_encoded = label_encoder.fit_transform(new_y)"
   ]
  },
  {
   "cell_type": "code",
   "execution_count": null,
   "metadata": {
    "id": "o1eu9gA9b2dj"
   },
   "outputs": [],
   "source": [
    "new_x = np.transpose(new_x, (0,2,1))"
   ]
  },
  {
   "cell_type": "code",
   "execution_count": null,
   "metadata": {
    "id": "dBRRo8SWe8YE"
   },
   "outputs": [],
   "source": [
    "# new_x[1][0] #Cada valor del feature para el primer frame para el primer dato"
   ]
  },
  {
   "cell_type": "markdown",
   "metadata": {
    "id": "FGRLbVtEM0mS"
   },
   "source": [
    "### Cargar Modelos"
   ]
  },
  {
   "cell_type": "code",
   "execution_count": null,
   "metadata": {
    "id": "Q1JUoukrsD4N"
   },
   "outputs": [],
   "source": [
    "with open(path, 'rb') as file:\n",
    "  lr_models = pkl.load(file)"
   ]
  },
  {
   "cell_type": "code",
   "execution_count": null,
   "metadata": {
    "id": "jCaoj4zmsoAd"
   },
   "outputs": [],
   "source": [
    "lr_models"
   ]
  },
  {
   "cell_type": "code",
   "execution_count": null,
   "metadata": {
    "id": "-VhgC_tKP-XN"
   },
   "outputs": [],
   "source": [
    "for *_, time in lr_models:\n",
    "  print(f\"Model {_[-1]}: {time/60:.4f}\")"
   ]
  },
  {
   "cell_type": "code",
   "execution_count": null,
   "metadata": {
    "id": "coLYdROQspC-"
   },
   "outputs": [],
   "source": [
    "conf_matrices = []"
   ]
  },
  {
   "cell_type": "code",
   "execution_count": null,
   "metadata": {
    "id": "MmPkN5XVJNLO"
   },
   "outputs": [],
   "source": [
    "for data in lr_models:\n",
    "  history, model, model_name, training_time = data\n",
    "  conf_matrix = GetConfMatrix2(model, new_x, new_y_encoded)\n",
    "  conf_matrices.append((conf_matrix, model_name))"
   ]
  },
  {
   "cell_type": "code",
   "execution_count": null,
   "metadata": {
    "id": "FXVyA8LiNvUP"
   },
   "outputs": [],
   "source": [
    "conf_matrices"
   ]
  },
  {
   "cell_type": "code",
   "execution_count": null,
   "metadata": {
    "id": "RLRkujxzZO5E"
   },
   "outputs": [],
   "source": [
    "#Prueba Filtro de media con window_size 7\n",
    "# [(array([[3, 2],\n",
    "#          [0, 5]]),\n",
    "#   0.0001),\n",
    "#  (array([[2, 3],\n",
    "#          [0, 5]]),\n",
    "#   0.0005),\n",
    "#  (array([[4, 1],\n",
    "#          [0, 5]]),\n",
    "#   0.001),\n",
    "#  (array([[3, 2],\n",
    "#          [0, 5]]),\n",
    "#   0.005),\n",
    "#  (array([[1, 4],\n",
    "#          [0, 5]]),\n",
    "#   0.01)]\n",
    "\n",
    "#Median filter window_size 3\n",
    "# [(array([[3, 2],\n",
    "#          [0, 5]]),\n",
    "#   0.0001),\n",
    "#  (array([[3, 2],\n",
    "#          [0, 5]]),\n",
    "#   0.0005),\n",
    "#  (array([[3, 2],\n",
    "#          [0, 5]]),\n",
    "#   0.001),\n",
    "#  (array([[3, 2],\n",
    "#          [0, 5]]),\n",
    "#   0.005),\n",
    "#  (array([[2, 3],\n",
    "#          [0, 5]]),\n",
    "#   0.01)]\n",
    "\n",
    "#Median filter window_size 11\n",
    "# [(array([[2, 3],\n",
    "#          [0, 5]]),\n",
    "#   0.0001),\n",
    "#  (array([[3, 2],\n",
    "#          [0, 5]]),\n",
    "#   0.0005),\n",
    "#  (array([[4, 1],\n",
    "#          [0, 5]]),\n",
    "#   0.001),\n",
    "#  (array([[2, 3],\n",
    "#          [0, 5]]),\n",
    "#   0.005),\n",
    "#  (array([[2, 3],\n",
    "#          [0, 5]]),\n",
    "#   0.01)]"
   ]
  },
  {
   "cell_type": "code",
   "execution_count": null,
   "metadata": {
    "id": "LMph4GQ2OHSk"
   },
   "outputs": [],
   "source": [
    "cats = ['bonafide', 'spoof', 'macro-avg']\n",
    "metrics_lrs = []"
   ]
  },
  {
   "cell_type": "code",
   "execution_count": null,
   "metadata": {
    "id": "3GuTMgK5O0fu"
   },
   "outputs": [],
   "source": [
    "for model in conf_matrices:\n",
    "  metrics_lrs.append(MetricsCalculator(*model))"
   ]
  },
  {
   "cell_type": "code",
   "execution_count": null,
   "metadata": {
    "id": "I5ysO91aO_QI"
   },
   "outputs": [],
   "source": [
    "lr_models"
   ]
  },
  {
   "cell_type": "code",
   "execution_count": null,
   "metadata": {
    "id": "PlfVf8fjWGd1"
   },
   "outputs": [],
   "source": [
    "ld_mod = [(item[1], item[2]) for item in lr_models]"
   ]
  },
  {
   "cell_type": "code",
   "execution_count": null,
   "metadata": {
    "collapsed": true,
    "id": "p6uA_sMSXXX5"
   },
   "outputs": [],
   "source": [
    "rtimes = MeasureResponseTime(ld_mod)"
   ]
  },
  {
   "cell_type": "code",
   "execution_count": null,
   "metadata": {
    "id": "UxBk8lxpXYmz"
   },
   "outputs": [],
   "source": [
    "rtimes"
   ]
  },
  {
   "cell_type": "code",
   "execution_count": null,
   "metadata": {
    "id": "gDJNVaDjdT_E"
   },
   "outputs": [],
   "source": [
    "for model_name, time in rtimes:\n",
    "  print(f\"Model {model_name}, Execution time: {time:.6f}\")"
   ]
  },
  {
   "cell_type": "code",
   "execution_count": null,
   "metadata": {
    "id": "6eRTMCaqoZ4o"
   },
   "outputs": [],
   "source": [
    "GraphDifferences(lrs, metrics_lrs)"
   ]
  },
  {
   "cell_type": "code",
   "execution_count": null,
   "metadata": {
    "id": "KBgG_b9Rok5c"
   },
   "outputs": [],
   "source": []
  }
 ],
 "metadata": {
  "accelerator": "GPU",
  "colab": {
   "authorship_tag": "ABX9TyPAfATTg18+ROP/qsIQaRES",
   "gpuType": "T4",
   "machine_shape": "hm",
   "private_outputs": true,
   "provenance": []
  },
  "kernelspec": {
   "display_name": "Python 3",
   "name": "python3"
  },
  "language_info": {
   "name": "python"
  }
 },
 "nbformat": 4,
 "nbformat_minor": 0
}
