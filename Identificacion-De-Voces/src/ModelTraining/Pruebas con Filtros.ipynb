{
 "cells": [
  {
   "cell_type": "code",
   "execution_count": null,
   "metadata": {
    "id": "giMiUVGQ-Oey"
   },
   "outputs": [],
   "source": [
    "from google.colab import drive\n",
    "drive.mount('/content/drive')"
   ]
  },
  {
   "cell_type": "markdown",
   "metadata": {
    "id": "uOR68V9e-myA"
   },
   "source": [
    "# Cargado de datos"
   ]
  },
  {
   "cell_type": "code",
   "execution_count": null,
   "metadata": {
    "id": "7dj8E9ffAazT"
   },
   "outputs": [],
   "source": [
    "import os"
   ]
  },
  {
   "cell_type": "code",
   "execution_count": null,
   "metadata": {
    "id": "-ZXGaY-Z-WiK"
   },
   "outputs": [],
   "source": [
    "file_path = '/content/drive/My Drive/ProyectoTesis/FilteredData/'"
   ]
  },
  {
   "cell_type": "code",
   "execution_count": null,
   "metadata": {
    "id": "XGmw8i2Y_wit"
   },
   "outputs": [],
   "source": [
    "mainFolders = os.listdir(file_path)"
   ]
  },
  {
   "cell_type": "code",
   "execution_count": null,
   "metadata": {
    "id": "p3Kl6qiZ_IZC"
   },
   "outputs": [],
   "source": [
    "allFolders = {}\n",
    "for folder in mainFolders:\n",
    "  if folder != 'AllFolderData.pkl':\n",
    "    allFolders[folder] = os.listdir(file_path + folder)"
   ]
  },
  {
   "cell_type": "code",
   "execution_count": null,
   "metadata": {
    "id": "HPj4VvDQwr0O"
   },
   "outputs": [],
   "source": [
    "import pickle as pkl"
   ]
  },
  {
   "cell_type": "code",
   "execution_count": null,
   "metadata": {
    "id": "pFmSh6X4BcHG"
   },
   "outputs": [],
   "source": [
    "allFolderData = {}"
   ]
  },
  {
   "cell_type": "code",
   "execution_count": null,
   "metadata": {
    "id": "Y2KMSve0BdLD"
   },
   "outputs": [],
   "source": [
    "for key, value in allFolders.items():\n",
    "  allFolderData[key] = {}\n",
    "  for item in value:\n",
    "    with open(f'/content/drive/My Drive/ProyectoTesis/FilteredData/{key}/{item}', 'rb') as file:\n",
    "      allFolderData[key][item] = pkl.load(file)"
   ]
  },
  {
   "cell_type": "markdown",
   "metadata": {
    "id": "HLTdVIVxx1a_"
   },
   "source": [
    "## Preparar datos"
   ]
  },
  {
   "cell_type": "code",
   "execution_count": null,
   "metadata": {
    "id": "P8V6_ihdx0MC"
   },
   "outputs": [],
   "source": [
    "from sklearn.preprocessing import StandardScaler, LabelEncoder\n",
    "\n",
    "def ScaleDf(Df):\n",
    "  scaler = StandardScaler()\n",
    "  features = Df.columns[:-1]\n",
    "  Df[features] = scaler.fit_transform(Df[features])\n",
    "\n",
    "def LabelEncodingDf(Df):\n",
    "  y = Df[Df.columns[-1]]\n",
    "  label_encoder = LabelEncoder()\n",
    "  y_encoded = label_encoder.fit_transform(y)\n",
    "  Df[Df.columns[-1]] = y_encoded\n",
    "\n",
    "def PrepareData(Df):\n",
    "  ScaleDf(Df)\n",
    "  LabelEncodingDf(Df)"
   ]
  },
  {
   "cell_type": "code",
   "execution_count": null,
   "metadata": {
    "id": "-sLckONUxsqC"
   },
   "outputs": [],
   "source": [
    "for folder, files in allFolderData.items():\n",
    "  for key, df in files.items():\n",
    "    PrepareData(allFolderData[folder][key])\n"
   ]
  },
  {
   "cell_type": "code",
   "execution_count": null,
   "metadata": {
    "id": "I46MCrdN7b7p"
   },
   "outputs": [],
   "source": [
    "import pickle as pkl"
   ]
  },
  {
   "cell_type": "code",
   "execution_count": null,
   "metadata": {
    "id": "yGfM__VT7mqb"
   },
   "outputs": [],
   "source": [
    "with open('/content/drive/My Drive/ProyectoTesis/FilteredData/AllFolderData.pkl', 'wb') as file:\n",
    "  pkl.dump(allFolderData, file)"
   ]
  },
  {
   "cell_type": "markdown",
   "metadata": {
    "id": "NzeX1H7BIEpo"
   },
   "source": [
    "# Cargando Objetos"
   ]
  },
  {
   "cell_type": "markdown",
   "metadata": {
    "id": "lXvjnxdEIlo9"
   },
   "source": [
    "## Cargando datos"
   ]
  },
  {
   "cell_type": "code",
   "execution_count": null,
   "metadata": {
    "id": "f1hLMhSeIkvB"
   },
   "outputs": [],
   "source": [
    "import pickle as pkl"
   ]
  },
  {
   "cell_type": "code",
   "execution_count": null,
   "metadata": {
    "id": "1twNS0wqI4X1"
   },
   "outputs": [],
   "source": [
    "with open('/content/drive/My Drive/ProyectoTesis/FilteredData/AllFolderData.pkl', 'rb') as file:\n",
    "  allFolderData = pkl.load(file)"
   ]
  },
  {
   "cell_type": "code",
   "execution_count": null,
   "metadata": {
    "id": "VqzfNHfBUKf9"
   },
   "outputs": [],
   "source": [
    "# for key, value in allFolders.items():\n",
    "#   for item in value:\n",
    "#     if key=='NotchFilters':\n",
    "#       with open(f'/content/drive/My Drive/ProyectoTesis/FilteredData/{key}/{item}', 'rb') as file:\n",
    "#         allFolderData[key][item] = pkl.load(file)"
   ]
  },
  {
   "cell_type": "markdown",
   "metadata": {
    "id": "3HsCQgflJUKx"
   },
   "source": [
    "## Cargando modelos"
   ]
  },
  {
   "cell_type": "code",
   "execution_count": null,
   "metadata": {
    "collapsed": true,
    "id": "vPmmyFynJkNr"
   },
   "outputs": [],
   "source": [
    "%pip install autogluon.tabular"
   ]
  },
  {
   "cell_type": "code",
   "execution_count": null,
   "metadata": {
    "id": "Iv9E1CHEKuew"
   },
   "outputs": [],
   "source": [
    "from autogluon.tabular import TabularPredictor"
   ]
  },
  {
   "cell_type": "code",
   "execution_count": null,
   "metadata": {
    "id": "YkdhMnkWI-iU"
   },
   "outputs": [],
   "source": [
    "path_to_predictor = '/content/drive/My Drive/ProyectoTesis/Autogluon/Modelos2'"
   ]
  },
  {
   "cell_type": "code",
   "execution_count": null,
   "metadata": {
    "id": "5BXVJHbQJ_MK"
   },
   "outputs": [],
   "source": [
    "predictor = TabularPredictor.load(path_to_predictor)"
   ]
  },
  {
   "cell_type": "code",
   "execution_count": null,
   "metadata": {
    "id": "yM0aFDpbtDhh"
   },
   "outputs": [],
   "source": [
    "model_names = predictor.model_names()"
   ]
  },
  {
   "cell_type": "code",
   "execution_count": null,
   "metadata": {
    "id": "o02dRh5Mi7Pj"
   },
   "outputs": [],
   "source": [
    "for model_name in model_names:\n",
    "    model = predictor._trainer.load_model(model_name)\n",
    "\n",
    "    hyperparameters = getattr(model, 'hyperparameters', model.params)\n",
    "    print(f\"Hiperparámetros para el modelo '{model_name}': {hyperparameters}\")"
   ]
  },
  {
   "cell_type": "markdown",
   "metadata": {
    "id": "FwI186iSLXV7"
   },
   "source": [
    "# Probando Modelos"
   ]
  },
  {
   "cell_type": "markdown",
   "metadata": {
    "id": "bFjO3mg7L2-7"
   },
   "source": [
    "## Creando el dataframe para guardar metricas"
   ]
  },
  {
   "cell_type": "code",
   "execution_count": null,
   "metadata": {
    "id": "9xcv_vqZLz99"
   },
   "outputs": [],
   "source": [
    "import pandas as pd"
   ]
  },
  {
   "cell_type": "code",
   "execution_count": null,
   "metadata": {
    "id": "P77OEYWxLY2K"
   },
   "outputs": [],
   "source": [
    "columnas_metricas_df = ['Filtro', 'Nombre', 'Modelo', 'Accuracy', 'Precision', 'Recall', 'F1-score']\n",
    "metrics_df = pd.DataFrame(columns=columnas_metricas_df)\n"
   ]
  },
  {
   "cell_type": "markdown",
   "metadata": {
    "id": "mP8BkOWTMpLy"
   },
   "source": [
    "## Funciones"
   ]
  },
  {
   "cell_type": "code",
   "execution_count": null,
   "metadata": {
    "id": "6hP4r_mhPkYj"
   },
   "outputs": [],
   "source": [
    "from sklearn.metrics import confusion_matrix\n",
    "\n",
    "def GetConfusionMatrix(model_name, X_test, y_test):\n",
    "  y_pred = predictor.predict(X_test, model=model_name)\n",
    "  conf_matrix = confusion_matrix(y_test, y_pred)\n",
    "  return conf_matrix"
   ]
  },
  {
   "cell_type": "code",
   "execution_count": null,
   "metadata": {
    "id": "iT8-kaAcTFmL"
   },
   "outputs": [],
   "source": [
    "def MetricsDfConverter(classes, metrics):\n",
    "  cat1, cat2, macro = metrics\n",
    "  columns = [\"Precision\", \"Recall\", \"F1-Score\"]\n",
    "  df = pd.DataFrame(metrics, classes, columns)\n",
    "\n",
    "  for column in columns:\n",
    "    df[column] = df[column].apply(lambda x: f\"{x:.4f}\")\n",
    "\n",
    "  return df"
   ]
  },
  {
   "cell_type": "code",
   "execution_count": null,
   "metadata": {
    "id": "12JaQn5cTHcK"
   },
   "outputs": [],
   "source": [
    "import numpy as np\n",
    "\n",
    "def MetricsCalculator(confusion_matrix, model=None):\n",
    "  bonafide, spoof = confusion_matrix\n",
    "\n",
    "  ps = spoof[1]/(spoof[1]+bonafide[1])\n",
    "  rs = spoof[1]/sum(spoof)\n",
    "  f1s = 2*(ps*rs)/(ps+rs)\n",
    "\n",
    "  s_metrics = [ps,rs,f1s]\n",
    "\n",
    "\n",
    "  pb = bonafide[0]/(bonafide[0]+spoof[0])\n",
    "\n",
    "  if np.isnan(pb):\n",
    "    pb = 0\n",
    "\n",
    "  rb = bonafide[0]/sum(bonafide)\n",
    "  f1b = 2*(pb*rb)/(pb+rb)\n",
    "\n",
    "  if np.isnan(f1b):\n",
    "    f1b = 0\n",
    "\n",
    "  b_metrics = [pb,rb,f1b]\n",
    "\n",
    "\n",
    "  macro_p = (ps+pb)/2\n",
    "  macro_r = (rs + rb)/2\n",
    "  macro_f1 = (f1s + f1b)/2\n",
    "\n",
    "  accuracy = (spoof[1]+bonafide[0])/(sum(bonafide)+sum(spoof))\n",
    "\n",
    "  macro_metrics = [accuracy, macro_p, macro_r, macro_f1]\n",
    "\n",
    "  classes = [\"spoof\", \"bonafide\", \"Macro-Avg\"]\n",
    "  metrics = [s_metrics, b_metrics, macro_metrics]\n",
    "\n",
    "  # print(f\"\\n************ {model} ************\")\n",
    "  # print(f\"Accuracy: {(spoof[1]+bonafide[0])/(sum(bonafide)+sum(spoof)):.4f}\\n\")\n",
    "  # print(MetricsDfConverter(classes, metrics))\n",
    "  # print(\"\\n**********************************\\n\")\n",
    "\n",
    "  return macro_metrics\n",
    "\n"
   ]
  },
  {
   "cell_type": "code",
   "execution_count": null,
   "metadata": {
    "id": "3SXiqK_VMYq9"
   },
   "outputs": [],
   "source": [
    "from sklearn.model_selection import train_test_split\n",
    "\n",
    "def TestModel(model_name, data):\n",
    "  y = data['Label']\n",
    "  train_data, test_data = train_test_split(data, test_size=0.2, random_state=42, stratify=y)\n",
    "\n",
    "  X_test = test_data.drop('Label', axis=1)\n",
    "  y_test = test_data['Label']\n",
    "\n",
    "  conf_m = GetConfusionMatrix(model_name, X_test, y_test)\n",
    "  return MetricsCalculator(conf_m)\n"
   ]
  },
  {
   "cell_type": "code",
   "execution_count": null,
   "metadata": {
    "id": "J9DnLasDd_SA"
   },
   "outputs": [],
   "source": [
    "allFolderData.keys()"
   ]
  },
  {
   "cell_type": "markdown",
   "metadata": {
    "id": "Rc00m-fjNSON"
   },
   "source": [
    "## Filtro de media"
   ]
  },
  {
   "cell_type": "code",
   "execution_count": null,
   "metadata": {
    "id": "6-YqjrOHNVh5"
   },
   "outputs": [],
   "source": [
    "datos_filtrados_media = allFolderData['Media']"
   ]
  },
  {
   "cell_type": "code",
   "execution_count": null,
   "metadata": {
    "id": "pQDiKgYtN27o"
   },
   "outputs": [],
   "source": [
    "for key, value in datos_filtrados_media.items():\n",
    "  for model_name in predictor.model_names():\n",
    "    datos = ['Media', key, model_name]\n",
    "    metricas = TestModel(model_name, datos_filtrados_media[key])\n",
    "    metrics_df.loc[len(metrics_df)] = datos + metricas"
   ]
  },
  {
   "cell_type": "code",
   "execution_count": null,
   "metadata": {
    "id": "OwlaJ2UqOKrE"
   },
   "outputs": [],
   "source": [
    "metrics_df"
   ]
  },
  {
   "cell_type": "markdown",
   "metadata": {
    "id": "ZjH0028md88j"
   },
   "source": [
    "## Filtro de Mediana"
   ]
  },
  {
   "cell_type": "code",
   "execution_count": null,
   "metadata": {
    "id": "su8vwniZd88q"
   },
   "outputs": [],
   "source": [
    "datos_filtrados_mediana = allFolderData['Mediana']"
   ]
  },
  {
   "cell_type": "code",
   "execution_count": null,
   "metadata": {
    "id": "fY2c5PlLd88q"
   },
   "outputs": [],
   "source": [
    "for key, value in datos_filtrados_mediana.items():\n",
    "  for model_name in predictor.model_names():\n",
    "    datos = ['Mediana', key, model_name]\n",
    "    metricas = TestModel(model_name, datos_filtrados_mediana[key])\n",
    "    metrics_df.loc[len(metrics_df)] = datos + metricas"
   ]
  },
  {
   "cell_type": "code",
   "execution_count": null,
   "metadata": {
    "id": "b_W60QIgd88r"
   },
   "outputs": [],
   "source": [
    "metrics_df[metrics_df['Filtro']=='Mediana']"
   ]
  },
  {
   "cell_type": "markdown",
   "metadata": {
    "id": "MprQKTOxgeyL"
   },
   "source": [
    "## Filtro de High-pass"
   ]
  },
  {
   "cell_type": "code",
   "execution_count": null,
   "metadata": {
    "id": "N4GOAez5geyM"
   },
   "outputs": [],
   "source": [
    "datos_filtrados_high_pass = allFolderData['High-pass']"
   ]
  },
  {
   "cell_type": "code",
   "execution_count": null,
   "metadata": {
    "id": "Q9cTElAPgeyM"
   },
   "outputs": [],
   "source": [
    "for key, value in datos_filtrados_high_pass.items():\n",
    "  for model_name in predictor.model_names():\n",
    "    datos = ['High-pass', key, model_name]\n",
    "    metricas = TestModel(model_name, datos_filtrados_high_pass[key])\n",
    "    metrics_df.loc[len(metrics_df)] = datos + metricas"
   ]
  },
  {
   "cell_type": "code",
   "execution_count": null,
   "metadata": {
    "id": "sSlWiX_4geyM"
   },
   "outputs": [],
   "source": [
    "metrics_df[metrics_df['Filtro']=='High-pass']"
   ]
  },
  {
   "cell_type": "markdown",
   "metadata": {
    "id": "_BWHg6ChjWQ5"
   },
   "source": [
    "## Filtro de Low-pass"
   ]
  },
  {
   "cell_type": "code",
   "execution_count": null,
   "metadata": {
    "id": "E0vOV1WujWQ6"
   },
   "outputs": [],
   "source": [
    "datos_filtrados_low_pass = allFolderData['Low-pass']"
   ]
  },
  {
   "cell_type": "code",
   "execution_count": null,
   "metadata": {
    "id": "pRryY9WOjWQ6"
   },
   "outputs": [],
   "source": [
    "for key, value in datos_filtrados_low_pass.items():\n",
    "  for model_name in predictor.model_names():\n",
    "    datos = ['Low-pass', key, model_name]\n",
    "    metricas = TestModel(model_name, datos_filtrados_low_pass[key])\n",
    "    metrics_df.loc[len(metrics_df)] = datos + metricas"
   ]
  },
  {
   "cell_type": "code",
   "execution_count": null,
   "metadata": {
    "id": "jIKNea93jWQ7"
   },
   "outputs": [],
   "source": [
    "metrics_df[metrics_df['Filtro']=='Low-pass']"
   ]
  },
  {
   "cell_type": "markdown",
   "metadata": {
    "id": "8NZ3jvBJl_U1"
   },
   "source": [
    "## Filtro de Band-pass"
   ]
  },
  {
   "cell_type": "code",
   "execution_count": null,
   "metadata": {
    "id": "9E6hHnm4l_U1"
   },
   "outputs": [],
   "source": [
    "datos_filtrados_Band_pass = allFolderData['Band-pass']"
   ]
  },
  {
   "cell_type": "code",
   "execution_count": null,
   "metadata": {
    "id": "OgJa6QDYl_U2"
   },
   "outputs": [],
   "source": [
    "for key, value in datos_filtrados_Band_pass.items():\n",
    "  for model_name in predictor.model_names():\n",
    "    datos = ['Band-pass', key, model_name]\n",
    "    metricas = TestModel(model_name, datos_filtrados_Band_pass[key])\n",
    "    metrics_df.loc[len(metrics_df)] = datos + metricas"
   ]
  },
  {
   "cell_type": "code",
   "execution_count": null,
   "metadata": {
    "id": "7vxnSeOhl_U2"
   },
   "outputs": [],
   "source": [
    "metrics_df[metrics_df['Filtro']=='Band-pass']"
   ]
  },
  {
   "cell_type": "markdown",
   "metadata": {
    "id": "enlUL3sBnwGq"
   },
   "source": [
    "## Filtro de Notch"
   ]
  },
  {
   "cell_type": "code",
   "execution_count": null,
   "metadata": {
    "id": "9m6QjbhhnwGq"
   },
   "outputs": [],
   "source": [
    "datos_filtrados_notch = allFolderData['NotchFilters']"
   ]
  },
  {
   "cell_type": "code",
   "execution_count": null,
   "metadata": {
    "id": "gEjKXStGnwGr"
   },
   "outputs": [],
   "source": [
    "for key, value in datos_filtrados_notch.items():\n",
    "  for model_name in predictor.model_names():\n",
    "    datos = ['NotchFilters', key, model_name]\n",
    "    metricas = TestModel(model_name, datos_filtrados_notch[key])\n",
    "    metrics_df.loc[len(metrics_df)] = datos + metricas"
   ]
  },
  {
   "cell_type": "code",
   "execution_count": null,
   "metadata": {
    "id": "0dWGYuo1nwGr"
   },
   "outputs": [],
   "source": [
    "metrics_df[metrics_df['Filtro']=='NotchFilters']"
   ]
  },
  {
   "cell_type": "markdown",
   "metadata": {
    "id": "CGQwdfzKpcZl"
   },
   "source": [
    "## Guardar Df"
   ]
  },
  {
   "cell_type": "code",
   "execution_count": null,
   "metadata": {
    "id": "b422dbrHpeY0"
   },
   "outputs": [],
   "source": [
    "path = '/content/drive/My Drive/ProyectoTesis/MetricsFiltersDf.pkl'"
   ]
  },
  {
   "cell_type": "code",
   "execution_count": null,
   "metadata": {
    "id": "7t5C640wpnyv"
   },
   "outputs": [],
   "source": [
    "with open(path, 'wb') as file:\n",
    "  pkl.dump(metrics_df, file)"
   ]
  },
  {
   "cell_type": "code",
   "execution_count": null,
   "metadata": {
    "id": "0kdZE8SZxDwL"
   },
   "outputs": [],
   "source": []
  },
  {
   "cell_type": "markdown",
   "metadata": {
    "id": "tqCEPQvAGoK2"
   },
   "source": [
    "# Usar Metricas"
   ]
  },
  {
   "cell_type": "code",
   "execution_count": null,
   "metadata": {
    "id": "nMKQcjf836c_"
   },
   "outputs": [],
   "source": [
    "import pickle as pkl\n",
    "import pandas as pd\n",
    "import numpy as np\n",
    "import seaborn as sns\n",
    "import matplotlib.pyplot as plt"
   ]
  },
  {
   "cell_type": "code",
   "execution_count": null,
   "metadata": {
    "id": "gjm64JyhGpTz"
   },
   "outputs": [],
   "source": [
    "path = '/content/drive/My Drive/ProyectoTesis/MetricsFiltersDf.pkl'"
   ]
  },
  {
   "cell_type": "code",
   "execution_count": null,
   "metadata": {
    "id": "e6lmqgmJ39s_"
   },
   "outputs": [],
   "source": [
    "with open(path, 'rb') as file:\n",
    "  metrics_df = pkl.load(file)"
   ]
  },
  {
   "cell_type": "code",
   "execution_count": null,
   "metadata": {
    "id": "ZFyTCo_k4EO2"
   },
   "outputs": [],
   "source": [
    "metrics_df[metrics_df['Filtro']=='NotchFilters']"
   ]
  },
  {
   "cell_type": "code",
   "execution_count": null,
   "metadata": {
    "id": "0jqOeY7IP_3M"
   },
   "outputs": [],
   "source": [
    "average_precision, average_recall, average_f1 = (0.990725, 0.9017, 0.9401875)"
   ]
  },
  {
   "cell_type": "code",
   "execution_count": null,
   "metadata": {
    "id": "B_cCrMbaYiYF"
   },
   "outputs": [],
   "source": [
    "\n",
    "filtered_metrics_df = metrics_df[~((metrics_df['Modelo'] == 'LightGBMXT') | (metrics_df['Modelo'] == 'LightGBM'))]\n",
    "\n",
    "\n",
    "filter_performance = filtered_metrics_df.groupby('Filtro').mean(numeric_only=True)[['Precision', 'Recall', 'F1-score']]\n",
    "\n",
    "\n",
    "filter_performance_long = filter_performance.melt(ignore_index=False, var_name='Métrica', value_name='Valor').reset_index()"
   ]
  },
  {
   "cell_type": "code",
   "execution_count": null,
   "metadata": {
    "id": "VbVWg2XdOX1u"
   },
   "outputs": [],
   "source": [
    "precision_order = filter_performance_long[filter_performance_long['Métrica'] == 'Precision']\n",
    "precision_order = precision_order.sort_values(by='Valor')['Filtro']\n",
    "\n",
    "filter_performance_long['Filtro'] = pd.Categorical(filter_performance_long['Filtro'], categories=precision_order, ordered=True)\n",
    "\n",
    "colors = sns.color_palette(\"rocket\", 3)\n",
    "\n",
    "plt.figure(figsize=(12, 8))\n",
    "sns.barplot(data=filter_performance_long, x='Filtro', y='Valor', hue='Métrica', palette=colors, alpha=1)\n",
    "\n",
    "plt.axhline(y=average_precision, color='purple', linestyle='--', label='Precision promedio')\n",
    "plt.axhline(y=average_recall, color='red', linestyle='--', label='Recall promedio')\n",
    "plt.axhline(y=average_f1, color='orange', linestyle='--', label='F1-score promedio')\n",
    "\n",
    "plt.xlabel('Filtro')\n",
    "plt.ylabel('Valor Promedio')\n",
    "plt.legend(loc='lower left')\n",
    "plt.tight_layout()\n",
    "plt.show()\n"
   ]
  },
  {
   "cell_type": "code",
   "execution_count": null,
   "metadata": {
    "id": "HRYz2ZujQWMN"
   },
   "outputs": [],
   "source": [
    "filrto_media = metrics_df[metrics_df['Filtro']=='Media']\n",
    "filrto_media = filrto_media[['Precision', 'Recall', 'F1-score']].mean()\n",
    "filrto_media"
   ]
  },
  {
   "cell_type": "code",
   "execution_count": null,
   "metadata": {
    "id": "yJvhX2oxQ68a"
   },
   "outputs": [],
   "source": [
    "filrto_media = metrics_df[metrics_df['Filtro']=='NotchFilters']\n",
    "filrto_media = filrto_media[['Precision', 'Recall', 'F1-score']].mean()\n",
    "filrto_media"
   ]
  },
  {
   "cell_type": "code",
   "execution_count": null,
   "metadata": {
    "id": "ZIOBQoO9M-Tq"
   },
   "outputs": [],
   "source": [
    "filtered_metrics_df = metrics_df[~((metrics_df['Modelo'] == 'LightGBMXT') | (metrics_df['Modelo'] == 'LightGBM'))]\n",
    "\n",
    "filtered_metrics_long_df = filtered_metrics_df.melt(id_vars=['Filtro'],\n",
    "                                                    value_vars=['Accuracy', 'Precision', 'Recall', 'F1-score'],\n",
    "                                                    var_name='Métrica', value_name='Valor')\n",
    "\n",
    "plt.figure(figsize=(12, 8))\n",
    "sns.violinplot(data=filtered_metrics_long_df, x='Métrica', y='Valor', hue='Filtro', inner=\"quartile\")\n",
    "plt.title('Distribución de Métricas por Filtro (Excluyendo Primeros dos Modelos LightGBM)')\n",
    "plt.xlabel('Métricas')\n",
    "plt.ylabel('Valor')\n",
    "plt.legend(title='Filtro')\n",
    "plt.tight_layout()\n",
    "plt.show()\n"
   ]
  },
  {
   "cell_type": "code",
   "execution_count": null,
   "metadata": {
    "id": "nqrFTvGlJeOJ"
   },
   "outputs": [],
   "source": [
    "path2 = \"/content/drive/My Drive/ProyectoTesis/MeanDataNoFilter.pkl\""
   ]
  },
  {
   "cell_type": "code",
   "execution_count": null,
   "metadata": {
    "id": "BLXoPYPkJbJR"
   },
   "outputs": [],
   "source": [
    "with open(path2, 'rb') as file:\n",
    "  mean_data_no_filter = pkl.load(file)"
   ]
  },
  {
   "cell_type": "code",
   "execution_count": null,
   "metadata": {
    "id": "0V-aTR5fJs_g"
   },
   "outputs": [],
   "source": [
    "mean_data_no_filter"
   ]
  },
  {
   "cell_type": "code",
   "execution_count": null,
   "metadata": {
    "id": "urFaJj4lIp5e"
   },
   "outputs": [],
   "source": [
    "metrics_df.to_csv('/content/drive/My Drive/ProyectoTesis/MeanDataNoFilter.csv')"
   ]
  },
  {
   "cell_type": "code",
   "execution_count": null,
   "metadata": {
    "id": "tZYrERJUIAem"
   },
   "outputs": [],
   "source": [
    "from matplotlib import pyplot as plt\n",
    "import seaborn as sns\n",
    "figsize = (12, 1.2 * len(metrics_df['Filtro'].unique()))\n",
    "plt.figure(figsize=figsize)\n",
    "sns.violinplot(metrics_df, x='Precision', y='Nombre', inner='stick', palette='Dark2')\n",
    "sns.despine(top=True, right=True, bottom=True, left=True)"
   ]
  },
  {
   "cell_type": "code",
   "execution_count": null,
   "metadata": {
    "id": "6DQPOLBd5RjC"
   },
   "outputs": [],
   "source": []
  }
 ],
 "metadata": {
  "colab": {
   "authorship_tag": "ABX9TyOFv95cMHcTc6udHMIh5nZr",
   "collapsed_sections": [
    "Rc00m-fjNSON",
    "ZjH0028md88j"
   ],
   "machine_shape": "hm",
   "private_outputs": true,
   "provenance": []
  },
  "kernelspec": {
   "display_name": "Python 3",
   "name": "python3"
  },
  "language_info": {
   "name": "python"
  }
 },
 "nbformat": 4,
 "nbformat_minor": 0
}
