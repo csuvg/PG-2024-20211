{
 "cells": [
  {
   "cell_type": "markdown",
   "metadata": {
    "id": "1_T7Va3Tv67p"
   },
   "source": [
    "# Cargado de datos"
   ]
  },
  {
   "cell_type": "code",
   "execution_count": null,
   "metadata": {
    "id": "AbA86EXMvVAL"
   },
   "outputs": [],
   "source": [
    "from google.colab import drive\n",
    "drive.mount('/content/drive')"
   ]
  },
  {
   "cell_type": "code",
   "execution_count": null,
   "metadata": {
    "id": "t2V53gewwpSe"
   },
   "outputs": [],
   "source": [
    "file_path = '/content/drive/My Drive/ProyectoTesis/AllFeatureData.pkl'\n"
   ]
  },
  {
   "cell_type": "code",
   "execution_count": null,
   "metadata": {
    "id": "e51kbg0CxN1A"
   },
   "outputs": [],
   "source": [
    "import pandas as pd\n",
    "import tensorflow as tf\n",
    "import numpy as np"
   ]
  },
  {
   "cell_type": "code",
   "execution_count": null,
   "metadata": {
    "id": "10HJPs_IxOGL"
   },
   "outputs": [],
   "source": [
    "allData = pd.read_pickle(file_path)"
   ]
  },
  {
   "cell_type": "markdown",
   "metadata": {
    "id": "coRsBwHbzs9Z"
   },
   "source": [
    "## Calcular media mediana moda para el set de datos"
   ]
  },
  {
   "cell_type": "markdown",
   "metadata": {
    "id": "_5cf8R47z5jS"
   },
   "source": [
    "Dividir los datos en spoof y bonafide"
   ]
  },
  {
   "cell_type": "code",
   "execution_count": null,
   "metadata": {
    "id": "P5cAd-QXxShh"
   },
   "outputs": [],
   "source": [
    "spoof = allData[allData['Label']=='spoof']\n",
    "bonafide = allData[allData['Label']=='bonafide']\n",
    "cats = {\"Spoof\": spoof, \"Bonafide\": bonafide}"
   ]
  },
  {
   "cell_type": "code",
   "execution_count": null,
   "metadata": {
    "id": "184KoSWg0P7B"
   },
   "outputs": [],
   "source": [
    "features = allData.columns[:-1]"
   ]
  },
  {
   "cell_type": "code",
   "execution_count": null,
   "metadata": {
    "id": "kBNlUsWV0DSM"
   },
   "outputs": [],
   "source": [
    "def CalculateStatistics(column):\n",
    "  vals = column.values\n",
    "  vals = np.concatenate(vals)\n",
    "\n",
    "  statistics = {\"Mean\":np.mean(vals),\n",
    "                \"Median\":np.median(vals),\n",
    "                \"StandardDev\":np.std(vals),\n",
    "                \"Variance\": np.var(vals),\n",
    "                \"Min:\": min(vals),\n",
    "                \"Max\": max(vals),\n",
    "                \"quantile_25\": np.quantile(vals, 0.25),\n",
    "                \"quantile_50\": np.quantile(vals, 0.5),\n",
    "                \"quantile_75\": np.quantile(vals, 0.75)\n",
    "                }\n",
    "\n",
    "  return statistics\n"
   ]
  },
  {
   "cell_type": "markdown",
   "metadata": {
    "id": "YrWPOttb_P6Q"
   },
   "source": [
    "Guardar todas las estadisticas"
   ]
  },
  {
   "cell_type": "code",
   "execution_count": null,
   "metadata": {
    "id": "td1rIw6qanev"
   },
   "outputs": [],
   "source": [
    "CalculateStatistics(spoof['zcr'])"
   ]
  },
  {
   "cell_type": "code",
   "execution_count": null,
   "metadata": {
    "id": "mWE24OZ4bJ2f"
   },
   "outputs": [],
   "source": [
    "CalculateStatistics(bonafide['zcr'])"
   ]
  },
  {
   "cell_type": "code",
   "execution_count": null,
   "metadata": {
    "id": "4RYJIqG4dKKI"
   },
   "outputs": [],
   "source": [
    "allStats.keys()"
   ]
  },
  {
   "cell_type": "code",
   "execution_count": null,
   "metadata": {
    "id": "nv7-V5Vm0YbN"
   },
   "outputs": [],
   "source": [
    "allStats = {}\n",
    "for cat in cats:\n",
    "  allStats[cat] = {}\n",
    "  for feature in features:\n",
    "    stats = CalculateStatistics(cats[cat][feature])\n",
    "    allStats[cat][feature] = stats"
   ]
  },
  {
   "cell_type": "code",
   "execution_count": null,
   "metadata": {
    "id": "JiP376kvAPXa"
   },
   "outputs": [],
   "source": [
    "import pickle as pkl"
   ]
  },
  {
   "cell_type": "code",
   "execution_count": null,
   "metadata": {
    "id": "KX6LN-ts0h5y"
   },
   "outputs": [],
   "source": [
    "with open('/content/drive/My Drive/ProyectoTesis/AllStats.pkl', 'wb') as file:\n",
    "  pkl.dump(allStats, file)"
   ]
  },
  {
   "cell_type": "markdown",
   "metadata": {
    "id": "GU9d5_UxG79l"
   },
   "source": [
    "# Creación de filtros"
   ]
  },
  {
   "cell_type": "markdown",
   "metadata": {
    "id": "cERACloMHpO7"
   },
   "source": [
    "## Filtro de media"
   ]
  },
  {
   "cell_type": "code",
   "execution_count": null,
   "metadata": {
    "id": "AnKakdZ4AIiS"
   },
   "outputs": [],
   "source": [
    "filtroMedia = allData.copy()"
   ]
  },
  {
   "cell_type": "code",
   "execution_count": null,
   "metadata": {
    "id": "pOp_3aO2IpBq"
   },
   "outputs": [],
   "source": [
    "feauresMedia = filtroMedia.columns[:-1]"
   ]
  },
  {
   "cell_type": "code",
   "execution_count": null,
   "metadata": {
    "id": "4Oo81zjJI1SZ"
   },
   "outputs": [],
   "source": [
    "import numpy as np\n",
    "from scipy.ndimage import uniform_filter1d\n",
    "import pickle as pkl"
   ]
  },
  {
   "cell_type": "markdown",
   "metadata": {
    "id": "L_m-mRdtJ1Pi"
   },
   "source": [
    "### Funciones"
   ]
  },
  {
   "cell_type": "code",
   "execution_count": null,
   "metadata": {
    "id": "cup5GNyhJwnW"
   },
   "outputs": [],
   "source": [
    "def MeanFilter(row, window_size):\n",
    "  smoothed_features = uniform_filter1d(row, size=window_size, axis=0)\n",
    "  return smoothed_features"
   ]
  },
  {
   "cell_type": "code",
   "execution_count": null,
   "metadata": {
    "id": "s1585SHZJ0VW"
   },
   "outputs": [],
   "source": [
    "def GetFeatureMean(data, features):\n",
    "  for feature in features:\n",
    "    data[feature] = data[feature].apply(lambda x: np.mean(x))"
   ]
  },
  {
   "cell_type": "markdown",
   "metadata": {
    "id": "1zJTJe59OCGe"
   },
   "source": [
    "### Window Size 3"
   ]
  },
  {
   "cell_type": "code",
   "execution_count": null,
   "metadata": {
    "id": "EoJmI2F_OCGe"
   },
   "outputs": [],
   "source": [
    "filtroMediaWS = filtroMedia.copy()"
   ]
  },
  {
   "cell_type": "code",
   "execution_count": null,
   "metadata": {
    "id": "azGx43SvOCGf"
   },
   "outputs": [],
   "source": [
    "for feature in feauresMedia:\n",
    "  filtroMediaWS[feature] = filtroMediaWS[feature].apply(MeanFilter, window_size=3)"
   ]
  },
  {
   "cell_type": "code",
   "execution_count": null,
   "metadata": {
    "id": "Zaw0HEVVOCGf"
   },
   "outputs": [],
   "source": [
    "GetFeatureMean(filtroMediaWS, feauresMedia)"
   ]
  },
  {
   "cell_type": "code",
   "execution_count": null,
   "metadata": {
    "id": "_WHxlmc1OCGg"
   },
   "outputs": [],
   "source": [
    "filtroMediaWS.head()"
   ]
  },
  {
   "cell_type": "code",
   "execution_count": null,
   "metadata": {
    "id": "xJsxi_wjOCGg"
   },
   "outputs": [],
   "source": [
    "with open('/content/drive/My Drive/ProyectoTesis/FilteredData/Media/AllDataMediaWS3.pkl', 'wb') as file:\n",
    "  pkl.dump(filtroMediaWS, file)"
   ]
  },
  {
   "cell_type": "markdown",
   "metadata": {
    "id": "fOj49oA7OEce"
   },
   "source": [
    "### Window Size 5"
   ]
  },
  {
   "cell_type": "code",
   "execution_count": null,
   "metadata": {
    "id": "zjye_pn4MKRd"
   },
   "outputs": [],
   "source": [
    "filtroMediaWS = filtroMedia.copy()"
   ]
  },
  {
   "cell_type": "code",
   "execution_count": null,
   "metadata": {
    "id": "uGZua-11J0pS"
   },
   "outputs": [],
   "source": [
    "for feature in feauresMedia:\n",
    "  filtroMediaWS[feature] = filtroMediaWS[feature].apply(MeanFilter, window_size=5)"
   ]
  },
  {
   "cell_type": "code",
   "execution_count": null,
   "metadata": {
    "id": "euAqKaGLM_Ou"
   },
   "outputs": [],
   "source": [
    "GetFeatureMean(filtroMediaWS, feauresMedia)"
   ]
  },
  {
   "cell_type": "code",
   "execution_count": null,
   "metadata": {
    "id": "NUYRpn-lNupV"
   },
   "outputs": [],
   "source": [
    "filtroMediaWS.head()"
   ]
  },
  {
   "cell_type": "code",
   "execution_count": null,
   "metadata": {
    "id": "cyV0dDyrLDjS"
   },
   "outputs": [],
   "source": [
    "with open('/content/drive/My Drive/ProyectoTesis/FilteredData/Media/AllDataMediaWS5.pkl', 'wb') as file:\n",
    "  pkl.dump(filtroMediaWS, file)"
   ]
  },
  {
   "cell_type": "markdown",
   "metadata": {
    "id": "XMWkWVWtPH6w"
   },
   "source": [
    "### Window Size 7\n",
    "\n"
   ]
  },
  {
   "cell_type": "code",
   "execution_count": null,
   "metadata": {
    "id": "DDDcgl4TPH6x"
   },
   "outputs": [],
   "source": [
    "filtroMediaWS = filtroMedia.copy()"
   ]
  },
  {
   "cell_type": "code",
   "execution_count": null,
   "metadata": {
    "id": "B9z-esEPPH6z"
   },
   "outputs": [],
   "source": [
    "for feature in feauresMedia:\n",
    "  filtroMediaWS[feature] = filtroMediaWS[feature].apply(MeanFilter, window_size=7)"
   ]
  },
  {
   "cell_type": "code",
   "execution_count": null,
   "metadata": {
    "id": "FbQKn4hYPH60"
   },
   "outputs": [],
   "source": [
    "GetFeatureMean(filtroMediaWS, feauresMedia)"
   ]
  },
  {
   "cell_type": "code",
   "execution_count": null,
   "metadata": {
    "id": "fJ6NL4-SPH60"
   },
   "outputs": [],
   "source": [
    "filtroMediaWS.head()"
   ]
  },
  {
   "cell_type": "code",
   "execution_count": null,
   "metadata": {
    "id": "vb-0F8IvPH60"
   },
   "outputs": [],
   "source": [
    "with open('/content/drive/My Drive/ProyectoTesis/FilteredData/Media/AllDataMediaWS7.pkl', 'wb') as file:\n",
    "  pkl.dump(filtroMediaWS, file)"
   ]
  },
  {
   "cell_type": "markdown",
   "metadata": {
    "id": "28WS6P0oRHav"
   },
   "source": [
    "### Window Size 11\n",
    "\n"
   ]
  },
  {
   "cell_type": "code",
   "execution_count": null,
   "metadata": {
    "id": "IKwiZ_ccRHaw"
   },
   "outputs": [],
   "source": [
    "filtroMediaWS = filtroMedia.copy()"
   ]
  },
  {
   "cell_type": "code",
   "execution_count": null,
   "metadata": {
    "id": "Eon-FhxjRHaw"
   },
   "outputs": [],
   "source": [
    "for feature in feauresMedia:\n",
    "  filtroMediaWS[feature] = filtroMediaWS[feature].apply(MeanFilter, window_size=11)"
   ]
  },
  {
   "cell_type": "code",
   "execution_count": null,
   "metadata": {
    "id": "WkIm-adGRHax"
   },
   "outputs": [],
   "source": [
    "GetFeatureMean(filtroMediaWS, feauresMedia)"
   ]
  },
  {
   "cell_type": "code",
   "execution_count": null,
   "metadata": {
    "id": "upr2vS9qRHax"
   },
   "outputs": [],
   "source": [
    "filtroMediaWS.head()"
   ]
  },
  {
   "cell_type": "code",
   "execution_count": null,
   "metadata": {
    "id": "Ft9kdqyERHax"
   },
   "outputs": [],
   "source": [
    "with open('/content/drive/My Drive/ProyectoTesis/FilteredData/Media/AllDataMediaWS11.pkl', 'wb') as file:\n",
    "  pkl.dump(filtroMediaWS, file)"
   ]
  },
  {
   "cell_type": "markdown",
   "metadata": {
    "id": "S3YNxMaeSFcL"
   },
   "source": [
    "## Filtro de Mediana"
   ]
  },
  {
   "cell_type": "code",
   "execution_count": null,
   "metadata": {
    "id": "rFGQFexBSFcM"
   },
   "outputs": [],
   "source": [
    "filtroMediana = allData.copy()"
   ]
  },
  {
   "cell_type": "code",
   "execution_count": null,
   "metadata": {
    "id": "lH78XTqhSFcN"
   },
   "outputs": [],
   "source": [
    "featuresMediana = filtroMediana.columns[:-1]"
   ]
  },
  {
   "cell_type": "code",
   "execution_count": null,
   "metadata": {
    "id": "YSBryK3ESFcN"
   },
   "outputs": [],
   "source": [
    "import numpy as np\n",
    "from scipy.ndimage import median_filter\n",
    "import pickle as pkl"
   ]
  },
  {
   "cell_type": "markdown",
   "metadata": {
    "id": "wv_PcL-uSFcO"
   },
   "source": [
    "### Funciones"
   ]
  },
  {
   "cell_type": "code",
   "execution_count": null,
   "metadata": {
    "id": "RbCc_g0rSFcO"
   },
   "outputs": [],
   "source": [
    "def MedianFilter(row, window_size):\n",
    "    smoothed_features = median_filter(row, size=window_size, mode='nearest')\n",
    "    return smoothed_features"
   ]
  },
  {
   "cell_type": "code",
   "execution_count": null,
   "metadata": {
    "id": "96KXV9duSFcO"
   },
   "outputs": [],
   "source": [
    "def GetFeatureMean(data, features):\n",
    "  for feature in features:\n",
    "    data[feature] = data[feature].apply(lambda x: np.mean(x))"
   ]
  },
  {
   "cell_type": "markdown",
   "metadata": {
    "id": "LinP2tNWSFcP"
   },
   "source": [
    "### Window Size 3"
   ]
  },
  {
   "cell_type": "code",
   "execution_count": null,
   "metadata": {
    "id": "cHLTPa3ZSFcP"
   },
   "outputs": [],
   "source": [
    "filtroMedianaWS = filtroMediana.copy()"
   ]
  },
  {
   "cell_type": "code",
   "execution_count": null,
   "metadata": {
    "id": "kKVRpcMMSFcQ"
   },
   "outputs": [],
   "source": [
    "for feature in featuresMediana:\n",
    "  filtroMedianaWS[feature] = filtroMedianaWS[feature].apply(MedianFilter, window_size=3)"
   ]
  },
  {
   "cell_type": "code",
   "execution_count": null,
   "metadata": {
    "id": "-WeSA1hxSFcQ"
   },
   "outputs": [],
   "source": [
    "GetFeatureMean(filtroMedianaWS, featuresMediana)"
   ]
  },
  {
   "cell_type": "code",
   "execution_count": null,
   "metadata": {
    "id": "Kl3JI0FjSFcQ"
   },
   "outputs": [],
   "source": [
    "filtroMedianaWS.head()"
   ]
  },
  {
   "cell_type": "code",
   "execution_count": null,
   "metadata": {
    "id": "RbARSlugSFcR"
   },
   "outputs": [],
   "source": [
    "with open('/content/drive/My Drive/ProyectoTesis/FilteredData/Mediana/AllDataMedianaWS3.pkl', 'wb') as file:\n",
    "  pkl.dump(filtroMedianaWS, file)"
   ]
  },
  {
   "cell_type": "markdown",
   "metadata": {
    "id": "uMt66AUfSFcR"
   },
   "source": [
    "### Window Size 5"
   ]
  },
  {
   "cell_type": "code",
   "execution_count": null,
   "metadata": {
    "id": "g1w_I5huSFcR"
   },
   "outputs": [],
   "source": [
    "filtroMediaWS = filtroMediana.copy()"
   ]
  },
  {
   "cell_type": "code",
   "execution_count": null,
   "metadata": {
    "id": "DU1qXXjTSFcS"
   },
   "outputs": [],
   "source": [
    "for feature in featuresMediana:\n",
    "  filtroMedianaWS[feature] = filtroMedianaWS[feature].apply(MedianFilter, window_size=5)"
   ]
  },
  {
   "cell_type": "code",
   "execution_count": null,
   "metadata": {
    "id": "z8FHtshmSFcS"
   },
   "outputs": [],
   "source": [
    "GetFeatureMean(filtroMedianaWS, featuresMediana)"
   ]
  },
  {
   "cell_type": "code",
   "execution_count": null,
   "metadata": {
    "id": "hhTKRtwfSFcS"
   },
   "outputs": [],
   "source": [
    "filtroMedianaWS.head()"
   ]
  },
  {
   "cell_type": "code",
   "execution_count": null,
   "metadata": {
    "id": "GX9yZcM5SFcT"
   },
   "outputs": [],
   "source": [
    "with open('/content/drive/My Drive/ProyectoTesis/FilteredData/Mediana/AllDataMedianaWS5.pkl', 'wb') as file:\n",
    "  pkl.dump(filtroMedianaWS, file)"
   ]
  },
  {
   "cell_type": "markdown",
   "metadata": {
    "id": "ZAnhwaGdSFcT"
   },
   "source": [
    "### Window Size 7\n",
    "\n"
   ]
  },
  {
   "cell_type": "code",
   "execution_count": null,
   "metadata": {
    "id": "Zi1AwJ-eSFcT"
   },
   "outputs": [],
   "source": [
    "filtroMedianaWS = filtroMediana.copy()"
   ]
  },
  {
   "cell_type": "code",
   "execution_count": null,
   "metadata": {
    "id": "H9iQDky4SFcU"
   },
   "outputs": [],
   "source": [
    "for feature in featuresMediana:\n",
    "  filtroMedianaWS[feature] = filtroMedianaWS[feature].apply(MedianFilter, window_size=7)"
   ]
  },
  {
   "cell_type": "code",
   "execution_count": null,
   "metadata": {
    "id": "xR8YQLgiSFcU"
   },
   "outputs": [],
   "source": [
    "GetFeatureMean(filtroMedianaWS, featuresMediana)"
   ]
  },
  {
   "cell_type": "code",
   "execution_count": null,
   "metadata": {
    "id": "M2jgyuK8SFcU"
   },
   "outputs": [],
   "source": [
    "filtroMedianaWS.head()"
   ]
  },
  {
   "cell_type": "code",
   "execution_count": null,
   "metadata": {
    "id": "nI9S0DqTSFcU"
   },
   "outputs": [],
   "source": [
    "with open('/content/drive/My Drive/ProyectoTesis/FilteredData/Mediana/AllDataMedianaWS7.pkl', 'wb') as file:\n",
    "  pkl.dump(filtroMedianaWS, file)"
   ]
  },
  {
   "cell_type": "markdown",
   "metadata": {
    "id": "OuaXo_2BSFcV"
   },
   "source": [
    "### Window Size 11\n",
    "\n"
   ]
  },
  {
   "cell_type": "code",
   "execution_count": null,
   "metadata": {
    "id": "deuxC0ufSFcV"
   },
   "outputs": [],
   "source": [
    "filtroMedianaWS = filtroMediana.copy()"
   ]
  },
  {
   "cell_type": "code",
   "execution_count": null,
   "metadata": {
    "id": "PnU5-n4_SFcV"
   },
   "outputs": [],
   "source": [
    "for feature in featuresMediana:\n",
    "  filtroMedianaWS[feature] = filtroMedianaWS[feature].apply(MedianFilter, window_size=11)"
   ]
  },
  {
   "cell_type": "code",
   "execution_count": null,
   "metadata": {
    "id": "PnAj1cycSFcW"
   },
   "outputs": [],
   "source": [
    "GetFeatureMean(filtroMedianaWS, featuresMediana)"
   ]
  },
  {
   "cell_type": "code",
   "execution_count": null,
   "metadata": {
    "id": "coS3KOTRSFcW"
   },
   "outputs": [],
   "source": [
    "filtroMedianaWS.head()"
   ]
  },
  {
   "cell_type": "code",
   "execution_count": null,
   "metadata": {
    "id": "nVTiAMkqSFcW"
   },
   "outputs": [],
   "source": [
    "with open('/content/drive/My Drive/ProyectoTesis/FilteredData/Mediana/AllDataMedianaWS11.pkl', 'wb') as file:\n",
    "  pkl.dump(filtroMedianaWS, file)"
   ]
  },
  {
   "cell_type": "markdown",
   "metadata": {
    "id": "Xet4Wk6Tc23P"
   },
   "source": [
    "## Filtro Low pass"
   ]
  },
  {
   "cell_type": "code",
   "execution_count": null,
   "metadata": {
    "id": "ERHN8jiwcScb"
   },
   "outputs": [],
   "source": [
    "filtroLowPass = allData.copy()"
   ]
  },
  {
   "cell_type": "code",
   "execution_count": null,
   "metadata": {
    "id": "lnxR5VwEeSOq"
   },
   "outputs": [],
   "source": [
    "featuresLowPass = filtroLowPass.columns[:-1]"
   ]
  },
  {
   "cell_type": "code",
   "execution_count": null,
   "metadata": {
    "id": "TxCXoQfceYDP"
   },
   "outputs": [],
   "source": [
    "import numpy as np\n",
    "import pickle as pkl"
   ]
  },
  {
   "cell_type": "code",
   "execution_count": null,
   "metadata": {
    "id": "7KSOzE_oisBm"
   },
   "outputs": [],
   "source": [
    "with open('/content/drive/My Drive/ProyectoTesis/AllStats.pkl', 'rb') as file:\n",
    "  allStats = pkl.load(file)"
   ]
  },
  {
   "cell_type": "code",
   "execution_count": null,
   "metadata": {
    "id": "YY77nN4aqF-k"
   },
   "outputs": [],
   "source": [
    "allStats['Spoof']['zcr'].keys()"
   ]
  },
  {
   "cell_type": "markdown",
   "metadata": {
    "id": "Jn-BJ6dtecoH"
   },
   "source": [
    "### Funciones"
   ]
  },
  {
   "cell_type": "code",
   "execution_count": null,
   "metadata": {
    "id": "KfUKW_8MgcIg"
   },
   "outputs": [],
   "source": [
    "def LowPassFilter(row, threshold):\n",
    "  valores = row.copy()\n",
    "  res = row[row <= int(threshold)+1]\n",
    "  if len(res)==0:\n",
    "    return valores\n",
    "  return res\n"
   ]
  },
  {
   "cell_type": "code",
   "execution_count": null,
   "metadata": {
    "id": "lJe61Lo5edeK"
   },
   "outputs": [],
   "source": [
    "def GetFeatureMean(data, features):\n",
    "  for feature in features:\n",
    "    data[feature] = data[feature].apply(lambda x: np.mean(x))"
   ]
  },
  {
   "cell_type": "markdown",
   "metadata": {
    "id": "SDW5Ca3iL-na"
   },
   "source": [
    "### Low pass con threshold = Spoof['mean']\n",
    "\n"
   ]
  },
  {
   "cell_type": "code",
   "execution_count": null,
   "metadata": {
    "id": "1Em-LrfeiSpP"
   },
   "outputs": [],
   "source": [
    "filtroLowPassTh = filtroLowPass.copy()"
   ]
  },
  {
   "cell_type": "code",
   "execution_count": null,
   "metadata": {
    "id": "Toh2ZZ1miH7A"
   },
   "outputs": [],
   "source": [
    "for feature in featuresLowPass:\n",
    "  threshold=allStats['Spoof'][feature]['Mean']\n",
    "  filtroLowPassTh[feature] = filtroLowPassTh[feature].apply(LowPassFilter, threshold=threshold)"
   ]
  },
  {
   "cell_type": "code",
   "execution_count": null,
   "metadata": {
    "id": "9q3z65iiMHbc"
   },
   "outputs": [],
   "source": [
    "GetFeatureMean(filtroLowPassTh, featuresLowPass)"
   ]
  },
  {
   "cell_type": "code",
   "execution_count": null,
   "metadata": {
    "id": "gAmdOWt1Mlgs"
   },
   "outputs": [],
   "source": [
    "filtroLowPassTh.head()"
   ]
  },
  {
   "cell_type": "code",
   "execution_count": null,
   "metadata": {
    "id": "6r4b2NOrqeU1"
   },
   "outputs": [],
   "source": [
    "with open('/content/drive/My Drive/ProyectoTesis/FilteredData/Low-pass/AllDataLowPassThMeanSpoof.pkl', 'wb') as file:\n",
    "  pkl.dump(filtroLowPassTh, file)"
   ]
  },
  {
   "cell_type": "markdown",
   "metadata": {
    "id": "EgZkKm6uind4"
   },
   "source": [
    "### Low pass con threshold = Bonafide['mean']\n",
    "\n",
    "\n"
   ]
  },
  {
   "cell_type": "code",
   "execution_count": null,
   "metadata": {
    "id": "KMqgL1jdind5"
   },
   "outputs": [],
   "source": [
    "filtroLowPassTh = filtroLowPass.copy()"
   ]
  },
  {
   "cell_type": "code",
   "execution_count": null,
   "metadata": {
    "id": "VGQt0i8Mind5"
   },
   "outputs": [],
   "source": [
    "for feature in featuresLowPass:\n",
    "  threshold=allStats['Bonafide'][feature]['Mean']\n",
    "  filtroLowPassTh[feature] = filtroLowPassTh[feature].apply(LowPassFilter, threshold=threshold)"
   ]
  },
  {
   "cell_type": "code",
   "execution_count": null,
   "metadata": {
    "id": "JThmBbHxind6"
   },
   "outputs": [],
   "source": [
    "GetFeatureMean(filtroLowPassTh, featuresLowPass)"
   ]
  },
  {
   "cell_type": "code",
   "execution_count": null,
   "metadata": {
    "id": "OKzZDOcMind6"
   },
   "outputs": [],
   "source": [
    "filtroLowPassTh.head()"
   ]
  },
  {
   "cell_type": "code",
   "execution_count": null,
   "metadata": {
    "id": "AFuzgUdnind6"
   },
   "outputs": [],
   "source": [
    "with open('/content/drive/My Drive/ProyectoTesis/FilteredData/Low-pass/AllDataLowPassThMeanBonafide.pkl', 'wb') as file:\n",
    "  pkl.dump(filtroLowPassTh, file)"
   ]
  },
  {
   "cell_type": "markdown",
   "metadata": {
    "id": "5ss2kP8ijlf5"
   },
   "source": [
    "### Low pass con threshold = Spoof['standard dev']\n",
    "\n",
    "\n"
   ]
  },
  {
   "cell_type": "code",
   "execution_count": null,
   "metadata": {
    "id": "SeR_09rsjlf6"
   },
   "outputs": [],
   "source": [
    "filtroLowPassTh = filtroLowPass.copy()"
   ]
  },
  {
   "cell_type": "code",
   "execution_count": null,
   "metadata": {
    "id": "xz9K_3Xpjlf6"
   },
   "outputs": [],
   "source": [
    "for feature in featuresLowPass:\n",
    "  threshold=allStats['Spoof'][feature]['Mean']+allStats['Spoof'][feature]['StandardDev']\n",
    "  filtroLowPassTh[feature] = filtroLowPassTh[feature].apply(LowPassFilter, threshold=threshold)"
   ]
  },
  {
   "cell_type": "code",
   "execution_count": null,
   "metadata": {
    "id": "qeeXIc20jlf6"
   },
   "outputs": [],
   "source": [
    "GetFeatureMean(filtroLowPassTh, featuresLowPass)"
   ]
  },
  {
   "cell_type": "code",
   "execution_count": null,
   "metadata": {
    "id": "mXm6M9lLjlf7"
   },
   "outputs": [],
   "source": [
    "filtroLowPassTh.head()"
   ]
  },
  {
   "cell_type": "code",
   "execution_count": null,
   "metadata": {
    "id": "_tiuV_VBjlf7"
   },
   "outputs": [],
   "source": [
    "with open('/content/drive/My Drive/ProyectoTesis/FilteredData/Low-pass/AllDataLowPassThStdDevSpoof.pkl', 'wb') as file:\n",
    "  pkl.dump(filtroLowPassTh, file)"
   ]
  },
  {
   "cell_type": "markdown",
   "metadata": {
    "id": "7sJvVNiDkXnC"
   },
   "source": [
    "### Low pass con threshold = Bonafide['standard dev']\n",
    "\n",
    "\n"
   ]
  },
  {
   "cell_type": "code",
   "execution_count": null,
   "metadata": {
    "id": "0183yf_MkXnD"
   },
   "outputs": [],
   "source": [
    "filtroLowPassTh = filtroLowPass.copy()"
   ]
  },
  {
   "cell_type": "code",
   "execution_count": null,
   "metadata": {
    "id": "emoPZ3SAkXnD"
   },
   "outputs": [],
   "source": [
    "for feature in featuresLowPass:\n",
    "  threshold=allStats['Bonafide'][feature]['Mean']+allStats['Bonafide'][feature]['StandardDev']\n",
    "  filtroLowPassTh[feature] = filtroLowPassTh[feature].apply(LowPassFilter, threshold=threshold)"
   ]
  },
  {
   "cell_type": "code",
   "execution_count": null,
   "metadata": {
    "id": "on2ZHquekXnD"
   },
   "outputs": [],
   "source": [
    "GetFeatureMean(filtroLowPassTh, featuresLowPass)"
   ]
  },
  {
   "cell_type": "code",
   "execution_count": null,
   "metadata": {
    "id": "mNRUNUc_kXnD"
   },
   "outputs": [],
   "source": [
    "filtroLowPassTh.head()"
   ]
  },
  {
   "cell_type": "code",
   "execution_count": null,
   "metadata": {
    "id": "_h_lHDpDkXnD"
   },
   "outputs": [],
   "source": [
    "with open('/content/drive/My Drive/ProyectoTesis/FilteredData/Low-pass/AllDataLowPassThStdDevBonafide.pkl', 'wb') as file:\n",
    "  pkl.dump(filtroLowPassTh, file)"
   ]
  },
  {
   "cell_type": "markdown",
   "metadata": {
    "id": "Mo7NE41Pk4qt"
   },
   "source": [
    "## Filtro High pass"
   ]
  },
  {
   "cell_type": "code",
   "execution_count": null,
   "metadata": {
    "id": "SRIhTbIGk4qu"
   },
   "outputs": [],
   "source": [
    "filtroHighPass = allData.copy()"
   ]
  },
  {
   "cell_type": "code",
   "execution_count": null,
   "metadata": {
    "id": "cYCEtHTPk4qu"
   },
   "outputs": [],
   "source": [
    "featuresHighPass = filtroHighPass.columns[:-1]"
   ]
  },
  {
   "cell_type": "code",
   "execution_count": null,
   "metadata": {
    "id": "0yPOzcwek4qu"
   },
   "outputs": [],
   "source": [
    "import numpy as np\n",
    "import pickle as pkl"
   ]
  },
  {
   "cell_type": "code",
   "execution_count": null,
   "metadata": {
    "id": "lUIuOJNSk4qu"
   },
   "outputs": [],
   "source": [
    "with open('/content/drive/My Drive/ProyectoTesis/AllStats.pkl', 'rb') as file:\n",
    "  allStats = pkl.load(file)"
   ]
  },
  {
   "cell_type": "code",
   "execution_count": null,
   "metadata": {
    "id": "H5GwEe7Jk4qv"
   },
   "outputs": [],
   "source": [
    "allStats['Spoof']['zcr'].keys()"
   ]
  },
  {
   "cell_type": "markdown",
   "metadata": {
    "id": "JT8cpuYCk4qv"
   },
   "source": [
    "### Funciones"
   ]
  },
  {
   "cell_type": "code",
   "execution_count": null,
   "metadata": {
    "id": "DDQE5ZAgk4qv"
   },
   "outputs": [],
   "source": [
    "def HighPassFilter(row, threshold):\n",
    "  valores = row.copy()\n",
    "  res = row[row >= int(threshold)-1]\n",
    "  if len(res)==0:\n",
    "    return valores\n",
    "  return res\n"
   ]
  },
  {
   "cell_type": "code",
   "execution_count": null,
   "metadata": {
    "id": "Jkx8OcUyk4qv"
   },
   "outputs": [],
   "source": [
    "def GetFeatureMean(data, features):\n",
    "  for feature in features:\n",
    "    data[feature] = data[feature].apply(lambda x: np.mean(x))"
   ]
  },
  {
   "cell_type": "markdown",
   "metadata": {
    "id": "3lLp1tlsk4qv"
   },
   "source": [
    "### High pass con threshold = Spoof['mean']\n",
    "\n"
   ]
  },
  {
   "cell_type": "code",
   "execution_count": null,
   "metadata": {
    "id": "aiY3z8nJk4qv"
   },
   "outputs": [],
   "source": [
    "filtroHighPassTh = filtroHighPass.copy()"
   ]
  },
  {
   "cell_type": "code",
   "execution_count": null,
   "metadata": {
    "id": "wst7PgXBk4qw"
   },
   "outputs": [],
   "source": [
    "for feature in featuresHighPass:\n",
    "  threshold=allStats['Spoof'][feature]['Mean']\n",
    "  filtroHighPassTh[feature] = filtroHighPassTh[feature].apply(HighPassFilter, threshold=threshold)"
   ]
  },
  {
   "cell_type": "code",
   "execution_count": null,
   "metadata": {
    "id": "nEe9QVuSk4qw"
   },
   "outputs": [],
   "source": [
    "GetFeatureMean(filtroHighPassTh, featuresHighPass)"
   ]
  },
  {
   "cell_type": "code",
   "execution_count": null,
   "metadata": {
    "id": "2eRQ-0aOk4qw"
   },
   "outputs": [],
   "source": [
    "filtroHighPassTh.head()"
   ]
  },
  {
   "cell_type": "code",
   "execution_count": null,
   "metadata": {
    "id": "8B7Lghn0k4qx"
   },
   "outputs": [],
   "source": [
    "with open('/content/drive/My Drive/ProyectoTesis/FilteredData/High-pass/AllDataHighPassThMeanSpoof.pkl', 'wb') as file:\n",
    "  pkl.dump(filtroHighPassTh, file)"
   ]
  },
  {
   "cell_type": "markdown",
   "metadata": {
    "id": "YGsV_qx7k4qx"
   },
   "source": [
    "### High pass con threshold = Bonafide['mean']\n",
    "\n",
    "\n"
   ]
  },
  {
   "cell_type": "code",
   "execution_count": null,
   "metadata": {
    "id": "lQIPd2w4k4qx"
   },
   "outputs": [],
   "source": [
    "filtroHighPassTh = filtroHighPass.copy()"
   ]
  },
  {
   "cell_type": "code",
   "execution_count": null,
   "metadata": {
    "id": "6IzsAUeEk4qx"
   },
   "outputs": [],
   "source": [
    "for feature in featuresHighPass:\n",
    "  threshold=allStats['Bonafide'][feature]['Mean']\n",
    "  filtroHighPassTh[feature] = filtroHighPassTh[feature].apply(HighPassFilter, threshold=threshold)"
   ]
  },
  {
   "cell_type": "code",
   "execution_count": null,
   "metadata": {
    "id": "TN6R_1Ktk4qx"
   },
   "outputs": [],
   "source": [
    "GetFeatureMean(filtroHighPassTh, featuresHighPass)"
   ]
  },
  {
   "cell_type": "code",
   "execution_count": null,
   "metadata": {
    "id": "ErmcT2VJk4qx"
   },
   "outputs": [],
   "source": [
    "filtroHighPassTh.head()"
   ]
  },
  {
   "cell_type": "code",
   "execution_count": null,
   "metadata": {
    "id": "0OLcrtr2k4qy"
   },
   "outputs": [],
   "source": [
    "with open('/content/drive/My Drive/ProyectoTesis/FilteredData/High-pass/AllDataHighPassThMeanBonafide.pkl', 'wb') as file:\n",
    "  pkl.dump(filtroHighPassTh, file)"
   ]
  },
  {
   "cell_type": "markdown",
   "metadata": {
    "id": "IczD81H_k4qy"
   },
   "source": [
    "### High pass con threshold = Spoof['standard dev']\n",
    "\n",
    "\n"
   ]
  },
  {
   "cell_type": "code",
   "execution_count": null,
   "metadata": {
    "id": "mgh5ZGGTk4qy"
   },
   "outputs": [],
   "source": [
    "filtroHighPassTh = filtroHighPass.copy()"
   ]
  },
  {
   "cell_type": "code",
   "execution_count": null,
   "metadata": {
    "id": "-lvWIU07k4qy"
   },
   "outputs": [],
   "source": [
    "for feature in featuresHighPass:\n",
    "  threshold=allStats['Spoof'][feature]['Mean']-allStats['Spoof'][feature]['StandardDev']\n",
    "  filtroHighPassTh[feature] = filtroHighPassTh[feature].apply(HighPassFilter, threshold=threshold)"
   ]
  },
  {
   "cell_type": "code",
   "execution_count": null,
   "metadata": {
    "id": "ItLnLLk0k4qy"
   },
   "outputs": [],
   "source": [
    "GetFeatureMean(filtroHighPassTh, featuresHighPass)"
   ]
  },
  {
   "cell_type": "code",
   "execution_count": null,
   "metadata": {
    "id": "jssr5-nnk4qy"
   },
   "outputs": [],
   "source": [
    "filtroHighPassTh.head()"
   ]
  },
  {
   "cell_type": "code",
   "execution_count": null,
   "metadata": {
    "id": "R8wq2LTBk4qz"
   },
   "outputs": [],
   "source": [
    "with open('/content/drive/My Drive/ProyectoTesis/FilteredData/High-pass/AllDataHighPassThStdDevSpoof.pkl', 'wb') as file:\n",
    "  pkl.dump(filtroHighPassTh, file)"
   ]
  },
  {
   "cell_type": "markdown",
   "metadata": {
    "id": "9SUvHbjlk4qz"
   },
   "source": [
    "### High pass con threshold = Bonafide['standard dev']\n",
    "\n",
    "\n"
   ]
  },
  {
   "cell_type": "code",
   "execution_count": null,
   "metadata": {
    "id": "coVf1A4ek4qz"
   },
   "outputs": [],
   "source": [
    "filtroHighPassTh = filtroHighPass.copy()"
   ]
  },
  {
   "cell_type": "code",
   "execution_count": null,
   "metadata": {
    "id": "nJqv9yH_k4qz"
   },
   "outputs": [],
   "source": [
    "for feature in featuresHighPass:\n",
    "  threshold=allStats['Bonafide'][feature]['Mean']-allStats['Bonafide'][feature]['StandardDev']\n",
    "  filtroHighPassTh[feature] = filtroHighPassTh[feature].apply(HighPassFilter, threshold=threshold)"
   ]
  },
  {
   "cell_type": "code",
   "execution_count": null,
   "metadata": {
    "id": "YkMnxxwlk4qz"
   },
   "outputs": [],
   "source": [
    "GetFeatureMean(filtroHighPassTh, featuresHighPass)"
   ]
  },
  {
   "cell_type": "code",
   "execution_count": null,
   "metadata": {
    "id": "MekSNO8Uk4q0"
   },
   "outputs": [],
   "source": [
    "filtroHighPassTh.head()"
   ]
  },
  {
   "cell_type": "code",
   "execution_count": null,
   "metadata": {
    "id": "bZxSFmAtk4q0"
   },
   "outputs": [],
   "source": [
    "with open('/content/drive/My Drive/ProyectoTesis/FilteredData/High-pass/AllDataHighPassThStdDevBonafide.pkl', 'wb') as file:\n",
    "  pkl.dump(filtroHighPassTh, file)"
   ]
  },
  {
   "cell_type": "markdown",
   "metadata": {
    "id": "h7NAcvqZoWYl"
   },
   "source": [
    "## Filtro Band pass"
   ]
  },
  {
   "cell_type": "code",
   "execution_count": null,
   "metadata": {
    "id": "cN3urg5CoWYr"
   },
   "outputs": [],
   "source": [
    "filtroBandPass = allData.copy()"
   ]
  },
  {
   "cell_type": "code",
   "execution_count": null,
   "metadata": {
    "id": "uUw_ynGVoWYr"
   },
   "outputs": [],
   "source": [
    "featuresBandPass = filtroBandPass.columns[:-1]"
   ]
  },
  {
   "cell_type": "code",
   "execution_count": null,
   "metadata": {
    "id": "DEZ5GxEmoWYs"
   },
   "outputs": [],
   "source": [
    "import numpy as np\n",
    "import pickle as pkl"
   ]
  },
  {
   "cell_type": "code",
   "execution_count": null,
   "metadata": {
    "id": "7XfdHt5CoWYs"
   },
   "outputs": [],
   "source": [
    "with open('/content/drive/My Drive/ProyectoTesis/AllStats.pkl', 'rb') as file:\n",
    "  allStats = pkl.load(file)"
   ]
  },
  {
   "cell_type": "code",
   "execution_count": null,
   "metadata": {
    "id": "W0YhwXkXoWYs"
   },
   "outputs": [],
   "source": [
    "allStats['Spoof']['zcr'].keys()"
   ]
  },
  {
   "cell_type": "markdown",
   "metadata": {
    "id": "1L5uxASEoWYs"
   },
   "source": [
    "### Funciones"
   ]
  },
  {
   "cell_type": "code",
   "execution_count": null,
   "metadata": {
    "id": "mBffGSPLoWYs"
   },
   "outputs": [],
   "source": [
    "def BandPassFilter(row, threshold_low, threshold_high):\n",
    "  valores = row.copy()\n",
    "  res = row[(row >= threshold_low) & (row <= threshold_high)]\n",
    "  if len(res)==0:\n",
    "    return valores\n",
    "  return res\n"
   ]
  },
  {
   "cell_type": "code",
   "execution_count": null,
   "metadata": {
    "id": "0JRH4u_moWYt"
   },
   "outputs": [],
   "source": [
    "def GetFeatureMean(data, features):\n",
    "  for feature in features:\n",
    "    data[feature] = data[feature].apply(lambda x: np.mean(x))"
   ]
  },
  {
   "cell_type": "markdown",
   "metadata": {
    "id": "S3lSQaBkoWYt"
   },
   "source": [
    "### Band pass con threshold = Spoof['quantile_25'] - Spoof['quantile_75']\n",
    "\n",
    "---\n",
    "\n",
    "\n",
    "\n"
   ]
  },
  {
   "cell_type": "code",
   "execution_count": null,
   "metadata": {
    "id": "SxAbj9e8oWYt"
   },
   "outputs": [],
   "source": [
    "filtroBandPassTh = filtroBandPass.copy()"
   ]
  },
  {
   "cell_type": "code",
   "execution_count": null,
   "metadata": {
    "id": "317OFMtPoWYt"
   },
   "outputs": [],
   "source": [
    "for feature in featuresBandPass:\n",
    "  threshold_low=allStats['Spoof'][feature]['quantile_25']\n",
    "  threshold_high=allStats['Spoof'][feature]['quantile_75']\n",
    "  filtroBandPassTh[feature] = filtroBandPassTh[feature].apply(BandPassFilter, threshold_low=threshold_low, threshold_high=threshold_high)"
   ]
  },
  {
   "cell_type": "code",
   "execution_count": null,
   "metadata": {
    "id": "RCIAbTBIoWYt"
   },
   "outputs": [],
   "source": [
    "GetFeatureMean(filtroBandPassTh, featuresBandPass)"
   ]
  },
  {
   "cell_type": "code",
   "execution_count": null,
   "metadata": {
    "id": "eyD2e1LPoWYt"
   },
   "outputs": [],
   "source": [
    "filtroBandPassTh.head()"
   ]
  },
  {
   "cell_type": "code",
   "execution_count": null,
   "metadata": {
    "id": "I2zcJ0jhoWYt"
   },
   "outputs": [],
   "source": [
    "with open('/content/drive/My Drive/ProyectoTesis/FilteredData/Band-pass/AllDataBandPassThQuantileSpoof.pkl', 'wb') as file:\n",
    "  pkl.dump(filtroBandPassTh, file)"
   ]
  },
  {
   "cell_type": "markdown",
   "metadata": {
    "id": "Imv0eHICzEko"
   },
   "source": [
    "### Band pass con threshold = Spoof['quantile_25'] - Spoof['quantile_75']\n",
    "\n",
    "---\n",
    "\n",
    "\n",
    "\n"
   ]
  },
  {
   "cell_type": "code",
   "execution_count": null,
   "metadata": {
    "id": "RQzOelj5zEko"
   },
   "outputs": [],
   "source": [
    "filtroBandPassTh = filtroBandPass.copy()"
   ]
  },
  {
   "cell_type": "code",
   "execution_count": null,
   "metadata": {
    "id": "6ETrZrQ-zEkp"
   },
   "outputs": [],
   "source": [
    "for feature in featuresBandPass:\n",
    "  threshold_low=allStats['Bonafide'][feature]['quantile_25']\n",
    "  threshold_high=allStats['Bonafide'][feature]['quantile_75']\n",
    "  filtroBandPassTh[feature] = filtroBandPassTh[feature].apply(BandPassFilter, threshold_low=threshold_low, threshold_high=threshold_high)"
   ]
  },
  {
   "cell_type": "code",
   "execution_count": null,
   "metadata": {
    "id": "zE35qE71zEkp"
   },
   "outputs": [],
   "source": [
    "GetFeatureMean(filtroBandPassTh, featuresBandPass)"
   ]
  },
  {
   "cell_type": "code",
   "execution_count": null,
   "metadata": {
    "collapsed": true,
    "id": "wZ-Gq6nVzEkq"
   },
   "outputs": [],
   "source": [
    "filtroBandPassTh.head()"
   ]
  },
  {
   "cell_type": "code",
   "execution_count": null,
   "metadata": {
    "id": "HJZn9GgrzEkq"
   },
   "outputs": [],
   "source": [
    "with open('/content/drive/My Drive/ProyectoTesis/FilteredData/Band-pass/AllDataBandPassThQuantileBonafide.pkl', 'wb') as file:\n",
    "  pkl.dump(filtroBandPassTh, file)"
   ]
  },
  {
   "cell_type": "markdown",
   "metadata": {
    "id": "OK4k7cQJznOQ"
   },
   "source": [
    "### Band pass con threshold = Mean - Spoof['standard dev'], Mean + Spoof['standard dev']\n",
    "\n",
    "---\n",
    "\n",
    "\n",
    "\n"
   ]
  },
  {
   "cell_type": "code",
   "execution_count": null,
   "metadata": {
    "id": "NBT7qoElznOQ"
   },
   "outputs": [],
   "source": [
    "filtroBandPassTh = filtroBandPass.copy()"
   ]
  },
  {
   "cell_type": "code",
   "execution_count": null,
   "metadata": {
    "id": "zPuGAOKIznOR"
   },
   "outputs": [],
   "source": [
    "for feature in featuresBandPass:\n",
    "  mean = allStats['Spoof'][feature]['Mean']\n",
    "  stdev = allStats['Spoof'][feature]['StandardDev']\n",
    "  threshold_low= mean - stdev\n",
    "  threshold_high= mean + stdev\n",
    "  filtroBandPassTh[feature] = filtroBandPassTh[feature].apply(BandPassFilter, threshold_low=threshold_low, threshold_high=threshold_high)"
   ]
  },
  {
   "cell_type": "code",
   "execution_count": null,
   "metadata": {
    "id": "RJIKhiddznOR"
   },
   "outputs": [],
   "source": [
    "GetFeatureMean(filtroBandPassTh, featuresBandPass)"
   ]
  },
  {
   "cell_type": "code",
   "execution_count": null,
   "metadata": {
    "id": "HIetxHktznOR"
   },
   "outputs": [],
   "source": [
    "filtroBandPassTh.head()"
   ]
  },
  {
   "cell_type": "code",
   "execution_count": null,
   "metadata": {
    "id": "a1ctjELXznOR"
   },
   "outputs": [],
   "source": [
    "with open('/content/drive/My Drive/ProyectoTesis/FilteredData/Band-pass/AllDataBandPassThStdDevSpoof.pkl', 'wb') as file:\n",
    "  pkl.dump(filtroBandPassTh, file)"
   ]
  },
  {
   "cell_type": "markdown",
   "metadata": {
    "id": "e0OBvmun0qUG"
   },
   "source": [
    "### Band pass con threshold = Mean - Bonafide['standar dev'], Mean + Bonafide['standard dev']\n",
    "\n",
    "---\n",
    "\n",
    "\n",
    "\n"
   ]
  },
  {
   "cell_type": "code",
   "execution_count": null,
   "metadata": {
    "id": "5yFslSPZ0qUG"
   },
   "outputs": [],
   "source": [
    "filtroBandPassTh = filtroBandPass.copy()"
   ]
  },
  {
   "cell_type": "code",
   "execution_count": null,
   "metadata": {
    "id": "PQkL_Q-x0qUG"
   },
   "outputs": [],
   "source": [
    "for feature in featuresBandPass:\n",
    "  mean = allStats['Bonafide'][feature]['Mean']\n",
    "  stdev = allStats['Bonafide'][feature]['StandardDev']\n",
    "  threshold_low= mean - stdev\n",
    "  threshold_high= mean + stdev\n",
    "  filtroBandPassTh[feature] = filtroBandPassTh[feature].apply(BandPassFilter, threshold_low=threshold_low, threshold_high=threshold_high)"
   ]
  },
  {
   "cell_type": "code",
   "execution_count": null,
   "metadata": {
    "id": "-5aglUIY0qUH"
   },
   "outputs": [],
   "source": [
    "GetFeatureMean(filtroBandPassTh, featuresBandPass)"
   ]
  },
  {
   "cell_type": "code",
   "execution_count": null,
   "metadata": {
    "id": "2e5xbr4B0qUH"
   },
   "outputs": [],
   "source": [
    "filtroBandPassTh.head()"
   ]
  },
  {
   "cell_type": "code",
   "execution_count": null,
   "metadata": {
    "id": "wWIkh8lx0qUH"
   },
   "outputs": [],
   "source": [
    "with open('/content/drive/My Drive/ProyectoTesis/FilteredData/Band-pass/AllDataBandPassThStdDevBonafide.pkl', 'wb') as file:\n",
    "  pkl.dump(filtroBandPassTh, file)"
   ]
  },
  {
   "cell_type": "markdown",
   "metadata": {
    "id": "CYk_sCdQ5eMT"
   },
   "source": [
    "## Filtro Notch"
   ]
  },
  {
   "cell_type": "code",
   "execution_count": null,
   "metadata": {
    "id": "TCdh53n15eMT"
   },
   "outputs": [],
   "source": [
    "filtroNotch = allData.copy()"
   ]
  },
  {
   "cell_type": "code",
   "execution_count": null,
   "metadata": {
    "id": "aJKUnMpN5eMU"
   },
   "outputs": [],
   "source": [
    "featuresNotch = filtroNotch.columns[:-1]"
   ]
  },
  {
   "cell_type": "code",
   "execution_count": null,
   "metadata": {
    "id": "HBr0k-CL5eMU"
   },
   "outputs": [],
   "source": [
    "import numpy as np\n",
    "import pickle as pkl"
   ]
  },
  {
   "cell_type": "code",
   "execution_count": null,
   "metadata": {
    "id": "OrG53QoM5eMU"
   },
   "outputs": [],
   "source": [
    "with open('/content/drive/My Drive/ProyectoTesis/AllStats.pkl', 'rb') as file:\n",
    "  allStats = pkl.load(file)"
   ]
  },
  {
   "cell_type": "code",
   "execution_count": null,
   "metadata": {
    "id": "eJEhGWUW5eMU"
   },
   "outputs": [],
   "source": [
    "allStats['Spoof']['zcr'].keys()"
   ]
  },
  {
   "cell_type": "markdown",
   "metadata": {
    "id": "PLERpPGo5eMU"
   },
   "source": [
    "### Funciones"
   ]
  },
  {
   "cell_type": "code",
   "execution_count": null,
   "metadata": {
    "id": "nmgdDIwX5eMU"
   },
   "outputs": [],
   "source": [
    "def NotchFilter(row, threshold_low, threshold_high):\n",
    "  valores = row.copy()\n",
    "  res = row[(row <= threshold_low) | (row >= threshold_high)]\n",
    "  if len(res)==0:\n",
    "    return valores\n",
    "  return res\n"
   ]
  },
  {
   "cell_type": "code",
   "execution_count": null,
   "metadata": {
    "id": "rnDjueMJ5eMU"
   },
   "outputs": [],
   "source": [
    "def GetFeatureMean(data, features):\n",
    "  for feature in features:\n",
    "    data[feature] = data[feature].apply(lambda x: np.mean(x))"
   ]
  },
  {
   "cell_type": "markdown",
   "metadata": {
    "id": "BqZE6S3h5eMV"
   },
   "source": [
    "### Filtro Notch con threshold = Spoof['quantile_25'] - Spoof['quantile_75']\n",
    "\n",
    "---\n",
    "\n",
    "\n",
    "\n"
   ]
  },
  {
   "cell_type": "code",
   "execution_count": null,
   "metadata": {
    "id": "dRpWJuPX5eMV"
   },
   "outputs": [],
   "source": [
    "filtroNotchTh = filtroNotch.copy()"
   ]
  },
  {
   "cell_type": "code",
   "execution_count": null,
   "metadata": {
    "id": "gAScP4oe5eMV"
   },
   "outputs": [],
   "source": [
    "for feature in featuresNotch:\n",
    "  threshold_low=allStats['Spoof'][feature]['quantile_25']\n",
    "  threshold_high=allStats['Spoof'][feature]['quantile_75']\n",
    "  filtroNotchTh[feature] = filtroNotchTh[feature].apply(NotchFilter, threshold_low=threshold_low, threshold_high=threshold_high)"
   ]
  },
  {
   "cell_type": "code",
   "execution_count": null,
   "metadata": {
    "id": "CbPcyQAV5eMV"
   },
   "outputs": [],
   "source": [
    "GetFeatureMean(filtroNotchTh, featuresNotch)"
   ]
  },
  {
   "cell_type": "code",
   "execution_count": null,
   "metadata": {
    "id": "exT_O1i_5eMV"
   },
   "outputs": [],
   "source": [
    "filtroNotchTh.head()"
   ]
  },
  {
   "cell_type": "code",
   "execution_count": null,
   "metadata": {
    "id": "NLsLAH0Q5eMV"
   },
   "outputs": [],
   "source": [
    "with open('/content/drive/My Drive/ProyectoTesis/FilteredData/NotchFilters/AllDataNotchThQuantileSpoof.pkl', 'wb') as file:\n",
    "  pkl.dump(filtroNotchTh, file)"
   ]
  },
  {
   "cell_type": "markdown",
   "metadata": {
    "id": "r8GL_vD_7XMB"
   },
   "source": [
    "### Filtro Notch con threshold = Bonafide['quantile_25'] - Bonafide['quantile_75']\n",
    "\n",
    "---\n",
    "\n",
    "\n",
    "\n"
   ]
  },
  {
   "cell_type": "code",
   "execution_count": null,
   "metadata": {
    "id": "XLOc0fIk7XMB"
   },
   "outputs": [],
   "source": [
    "filtroNotchTh = filtroNotch.copy()"
   ]
  },
  {
   "cell_type": "code",
   "execution_count": null,
   "metadata": {
    "id": "NPZ-kYw97XMB"
   },
   "outputs": [],
   "source": [
    "for feature in featuresNotch:\n",
    "  threshold_low=allStats['Bonafide'][feature]['quantile_25']\n",
    "  threshold_high=allStats['Bonafide'][feature]['quantile_75']\n",
    "  filtroNotchTh[feature] = filtroNotchTh[feature].apply(NotchFilter, threshold_low=threshold_low, threshold_high=threshold_high)"
   ]
  },
  {
   "cell_type": "code",
   "execution_count": null,
   "metadata": {
    "id": "jUygJzT8aV9m"
   },
   "outputs": [],
   "source": [
    "allStats['Bonafide']['zcr']['quantile_25']"
   ]
  },
  {
   "cell_type": "code",
   "execution_count": null,
   "metadata": {
    "id": "VqqDr9G5aYuU"
   },
   "outputs": [],
   "source": [
    "allStats['Spoof']['zcr']['quantile_25']"
   ]
  },
  {
   "cell_type": "code",
   "execution_count": null,
   "metadata": {
    "id": "we4aWHmO7XMC"
   },
   "outputs": [],
   "source": [
    "GetFeatureMean(filtroNotchTh, featuresNotch)"
   ]
  },
  {
   "cell_type": "code",
   "execution_count": null,
   "metadata": {
    "id": "DbajUej27XMC"
   },
   "outputs": [],
   "source": [
    "filtroNotchTh.head()"
   ]
  },
  {
   "cell_type": "code",
   "execution_count": null,
   "metadata": {
    "id": "qNIz-78x7XMC"
   },
   "outputs": [],
   "source": [
    "with open('/content/drive/My Drive/ProyectoTesis/FilteredData/NotchFilters/AllDataNotchThQuantileBonafide.pkl', 'wb') as file:\n",
    "  pkl.dump(filtroNotchTh, file)"
   ]
  },
  {
   "cell_type": "markdown",
   "metadata": {
    "id": "I3qgwLF-5eMW"
   },
   "source": [
    "### Filtro Notch threshold = Mean - Spoof['standard dev'], Mean + Spoof['standard dev']\n",
    "\n",
    "---\n",
    "\n",
    "\n",
    "\n"
   ]
  },
  {
   "cell_type": "code",
   "execution_count": null,
   "metadata": {
    "id": "VMstEvQd5eMX"
   },
   "outputs": [],
   "source": [
    "filtroNotchTh = filtroNotch.copy()"
   ]
  },
  {
   "cell_type": "code",
   "execution_count": null,
   "metadata": {
    "id": "GxM0ikOY5eMX"
   },
   "outputs": [],
   "source": [
    "for feature in featuresNotch:\n",
    "  mean = allStats['Spoof'][feature]['Mean']\n",
    "  stdev = allStats['Spoof'][feature]['StandardDev']\n",
    "  threshold_low= mean - stdev\n",
    "  threshold_high= mean + stdev\n",
    "  filtroNotchTh[feature] = filtroNotchTh[feature].apply(NotchFilter, threshold_low=threshold_low, threshold_high=threshold_high)"
   ]
  },
  {
   "cell_type": "code",
   "execution_count": null,
   "metadata": {
    "id": "lVSlmanR5eMX"
   },
   "outputs": [],
   "source": [
    "GetFeatureMean(filtroNotchTh, featuresNotch)"
   ]
  },
  {
   "cell_type": "code",
   "execution_count": null,
   "metadata": {
    "id": "7OrEly5I5eMX"
   },
   "outputs": [],
   "source": [
    "filtroNotchTh.head()"
   ]
  },
  {
   "cell_type": "code",
   "execution_count": null,
   "metadata": {
    "id": "o0NC0Ayj5eMX"
   },
   "outputs": [],
   "source": [
    "with open('/content/drive/My Drive/ProyectoTesis/FilteredData/NotchFilters/AllDataNotchThStdDevSpoof.pkl', 'wb') as file:\n",
    "  pkl.dump(filtroNotchTh, file)"
   ]
  },
  {
   "cell_type": "markdown",
   "metadata": {
    "id": "I6752RxG8Fxq"
   },
   "source": [
    "### Filtro Notch threshold = Mean - Bonafide['standard dev'], Mean + Bonafide['standard dev']\n",
    "\n",
    "---\n",
    "\n",
    "\n",
    "\n"
   ]
  },
  {
   "cell_type": "code",
   "execution_count": null,
   "metadata": {
    "id": "h-W9m1xJ8Fxq"
   },
   "outputs": [],
   "source": [
    "filtroNotchTh = filtroNotch.copy()"
   ]
  },
  {
   "cell_type": "code",
   "execution_count": null,
   "metadata": {
    "id": "lwpvzgQy8Fxq"
   },
   "outputs": [],
   "source": [
    "for feature in featuresNotch:\n",
    "  mean = allStats['Bonafide'][feature]['Mean']\n",
    "  stdev = allStats['Bonafide'][feature]['StandardDev']\n",
    "  threshold_low= mean - stdev\n",
    "  threshold_high= mean + stdev\n",
    "  filtroNotchTh[feature] = filtroNotchTh[feature].apply(NotchFilter, threshold_low=threshold_low, threshold_high=threshold_high)"
   ]
  },
  {
   "cell_type": "code",
   "execution_count": null,
   "metadata": {
    "id": "mRLWcxbP8Fxr"
   },
   "outputs": [],
   "source": [
    "GetFeatureMean(filtroNotchTh, featuresNotch)"
   ]
  },
  {
   "cell_type": "code",
   "execution_count": null,
   "metadata": {
    "id": "O9dT5tAi8Fxr"
   },
   "outputs": [],
   "source": [
    "filtroNotchTh.head()"
   ]
  },
  {
   "cell_type": "code",
   "execution_count": null,
   "metadata": {
    "id": "eVEbKYjp8Fxr"
   },
   "outputs": [],
   "source": [
    "with open('/content/drive/My Drive/ProyectoTesis/FilteredData/NotchFilters/AllDataNotchThStdDevBonafide.pkl', 'wb') as file:\n",
    "  pkl.dump(filtroNotchTh, file)"
   ]
  }
 ],
 "metadata": {
  "colab": {
   "authorship_tag": "ABX9TyOERMCZ2i2sqly+EbCaFoTi",
   "collapsed_sections": [
    "cERACloMHpO7",
    "1zJTJe59OCGe",
    "fOj49oA7OEce",
    "XMWkWVWtPH6w",
    "28WS6P0oRHav",
    "S3YNxMaeSFcL",
    "LinP2tNWSFcP",
    "uMt66AUfSFcR",
    "ZAnhwaGdSFcT",
    "OuaXo_2BSFcV",
    "Xet4Wk6Tc23P",
    "SDW5Ca3iL-na",
    "EgZkKm6uind4",
    "5ss2kP8ijlf5",
    "7sJvVNiDkXnC",
    "Mo7NE41Pk4qt",
    "3lLp1tlsk4qv",
    "h7NAcvqZoWYl",
    "S3lSQaBkoWYt",
    "Imv0eHICzEko",
    "OK4k7cQJznOQ",
    "e0OBvmun0qUG",
    "BqZE6S3h5eMV",
    "r8GL_vD_7XMB",
    "I3qgwLF-5eMW"
   ],
   "machine_shape": "hm",
   "private_outputs": true,
   "provenance": [],
   "toc_visible": true
  },
  "kernelspec": {
   "display_name": "Python 3",
   "name": "python3"
  },
  "language_info": {
   "name": "python"
  }
 },
 "nbformat": 4,
 "nbformat_minor": 0
}
